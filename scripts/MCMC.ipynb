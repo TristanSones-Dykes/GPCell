{
 "cells": [
  {
   "cell_type": "code",
   "execution_count": 1,
   "metadata": {},
   "outputs": [],
   "source": [
    "# lib\n",
    "import sys\n",
    "\n",
    "sys.path.append(\"..\")\n",
    "\n",
    "# set cwd one up\n",
    "import os\n",
    "\n",
    "os.chdir(\"..\")\n",
    "path = \"data/hes/Hes1_example.csv\"\n",
    "os.environ[\"TF_CPP_MIN_LOG_LEVEL\"] = \"3\""
   ]
  },
  {
   "cell_type": "code",
   "execution_count": null,
   "metadata": {},
   "outputs": [],
   "source": [
    "import gpflow\n",
    "\n",
    "print(gpflow.config.default_positive_bijector())\n",
    "print(gpflow.config.default_positive_minimum())\n",
    "# gpflow.config.set_default_positive_bijector(\"exp\")\n",
    "# print(gpflow.config.default_positive_bijector())"
   ]
  },
  {
   "cell_type": "code",
   "execution_count": null,
   "metadata": {},
   "outputs": [],
   "source": [
    "from gpcell import OscillatorDetector\n",
    "from gpcell.backend.priors import (\n",
    "    sd_ou_priors,\n",
    "    sd_ouosc_priors,\n",
    ")"
   ]
  },
  {
   "cell_type": "code",
   "execution_count": null,
   "metadata": {},
   "outputs": [],
   "source": [
    "params = {\n",
    "    \"plots\": [\"MCMC\", \"MCMC_marginal\"],\n",
    "    \"verbose\": True,\n",
    "    \"joblib\": True,\n",
    "    \"ou_prior_gen\": sd_ou_priors,\n",
    "    \"ouosc_prior_gen\": sd_ouosc_priors,\n",
    "}\n",
    "od: OscillatorDetector = OscillatorDetector.from_file(\n",
    "    path, \"Time (h)\", \"Background\", \"Cell\", params\n",
    ")\n",
    "od.fit(methods=\"MCMC\")\n"
   ]
  },
  {
   "cell_type": "code",
   "execution_count": null,
   "metadata": {},
   "outputs": [],
   "source": [
    "od.mcmc_plot"
   ]
  },
  {
   "cell_type": "code",
   "execution_count": null,
   "metadata": {},
   "outputs": [],
   "source": [
    "od.marginal_plot"
   ]
  },
  {
   "cell_type": "markdown",
   "metadata": {},
   "source": [
    "# MCMC Dev"
   ]
  },
  {
   "cell_type": "code",
   "execution_count": 2,
   "metadata": {},
   "outputs": [],
   "source": [
    "import numpy as np\n",
    "from gpcell.utils import load_data\n",
    "\n",
    "from scipy.stats import multivariate_normal\n",
    "from scipy.special import logsumexp\n",
    "import matplotlib.pyplot as plt\n",
    "\n",
    "import pymc as pm\n",
    "from pymc.gp.cov import ExpQuad, Cosine\n",
    "\n",
    "import arviz as az\n",
    "import warnings\n",
    "\n",
    "\n",
    "# setup\n",
    "par1 = np.array([300, 1, 0.07, 0.07, 1, 1, 0], dtype=np.float64)\n",
    "par2 = np.array([100, 3, 0.03, 0.03, 1, 1, 18], dtype=np.float64)\n",
    "n_cells = 50  # total replicates used in the simulation\n",
    "t_final_vals = [1500, 600]  # 25/10 hours\n",
    "noise_vals = [np.sqrt(x) for x in [0.1, 0.5]]\n",
    "\n",
    "sim_params = [[noise, t_final_vals[0], n_cells] for noise in noise_vals]\n",
    "sim_params.append([noise_vals[0], t_final_vals[1], n_cells])\n",
    "\n",
    "path = \"data/matlab/\"\n",
    "paths = [\n",
    "    path + f\"noise_{round(noise**2, 2)}_time_{t_final}_rep_{n_cells}.csv\"\n",
    "    for noise, t_final, n_cells in sim_params\n",
    "]\n",
    "\n",
    "# load data\n",
    "params = sim_params[0]\n",
    "path = paths[0]\n",
    "noise = params[0]\n",
    "X, Y = load_data(path, \"Time\", \"Cell\")"
   ]
  },
  {
   "cell_type": "code",
   "execution_count": null,
   "metadata": {},
   "outputs": [],
   "source": [
    "def bridge_gp_logZ(\n",
    "    X,  # array‐like, shape (n,1) or (n,)\n",
    "    y,  # array‐like, same length as X\n",
    "    noise_sd,  # float, known observation noise std. dev.\n",
    "    model=\"ou\",  # \"ou\" or \"ouosc\"\n",
    "    draws=1000,  # posterior draws per chain\n",
    "    tune=1000,  # tuning steps per chain\n",
    "    chains=4,  # number of parallel chains\n",
    "    split_frac=0.5,  # fraction of draws for proposal‐fit\n",
    "    plot_trace=False,  # whether to plot MCMC traces of the GP hyperparams\n",
    "):\n",
    "    # 1. hyperparameter names/bounds\n",
    "    if model == \"ou\":\n",
    "        varnames = [\"ls\", \"amp\"]\n",
    "        bounds = {\"ls\": (0.1, 2.0), \"amp\": (0.1, 2.0)}\n",
    "        use_ls2 = False\n",
    "    elif model == \"ouosc\":\n",
    "        varnames = [\"ls\", \"amp\", \"ls2\"]\n",
    "        bounds = {\"ls\": (0.1, 2.0), \"amp\": (0.1, 2.0), \"ls2\": (0.1, 4.0)}\n",
    "        use_ls2 = True\n",
    "    else:\n",
    "        raise ValueError(\"model must be 'ou' or 'ouosc'\")\n",
    "\n",
    "    # 2. Build & sample\n",
    "    with pm.Model() as gp_model:\n",
    "        ls = pm.Uniform(\n",
    "            \"ls\", lower=bounds[\"ls\"][0], upper=bounds[\"ls\"][1], default_transform=None\n",
    "        )\n",
    "        amp = pm.Uniform(\n",
    "            \"amp\",\n",
    "            lower=bounds[\"amp\"][0],\n",
    "            upper=bounds[\"amp\"][1],\n",
    "            default_transform=None,\n",
    "        )\n",
    "        cov = amp**2 * ExpQuad(1, ls=ls)\n",
    "        if use_ls2:\n",
    "            ls2 = pm.Uniform(\n",
    "                \"ls2\",\n",
    "                lower=bounds[\"ls2\"][0],\n",
    "                upper=bounds[\"ls2\"][1],\n",
    "                default_transform=None,\n",
    "            )\n",
    "            cov *= Cosine(1, ls=ls2)\n",
    "\n",
    "        gp = pm.gp.Marginal(cov_func=cov)\n",
    "        gp.marginal_likelihood(\"y_obs\", X=X, y=y, sigma=noise_sd)\n",
    "\n",
    "        # return InferenceData instead of MultiTrace\n",
    "        idata = pm.sample(\n",
    "            draws=draws,\n",
    "            tune=tune,\n",
    "            chains=chains,\n",
    "            target_accept=0.9,\n",
    "            return_inferencedata=True,\n",
    "            cores=14,\n",
    "        )\n",
    "\n",
    "        if plot_trace:\n",
    "            # now idata is ArviZ InferenceData\n",
    "            pm.plot_trace(idata, var_names=varnames)\n",
    "            plt.tight_layout()\n",
    "            plt.show()\n",
    "\n",
    "    # 3. extract the posterior samples as an (N, len(varnames)) array\n",
    "    posterior = np.column_stack(\n",
    "        [idata.posterior[var].values.flatten() for var in varnames]\n",
    "    )\n",
    "\n",
    "    # 4. split for proposal fit vs eval\n",
    "    N = int(posterior.shape[0] * split_frac)\n",
    "    fit_draws = posterior[:N]\n",
    "    eval_draws = posterior[N:]\n",
    "\n",
    "    # 5. Gaussian proposal\n",
    "    mu_prop = fit_draws.mean(axis=0)\n",
    "    cov_prop = np.cov(fit_draws, rowvar=False)\n",
    "    proposal = multivariate_normal(mean=mu_prop, cov=cov_prop)\n",
    "\n",
    "    # 6. compile log-prob on free_RVs\n",
    "    logp_fn = gp_model.compile_logp()\n",
    "    free_names = [rv.name for rv in gp_model.free_RVs]\n",
    "\n",
    "    # 7. evaluate log post & log q\n",
    "    pts = [dict(zip(free_names, θ)) for θ in eval_draws]\n",
    "    log_post = np.array([logp_fn(pt) for pt in pts])\n",
    "    log_q = proposal.logpdf(eval_draws)\n",
    "\n",
    "    # 8. stable bridge-sampling\n",
    "    def bridge_logZ_iter(log_post, log_q, max_iters=100, tol=1e-6):\n",
    "        logZ = 0.0\n",
    "        n = len(log_post)\n",
    "        for _ in range(max_iters):\n",
    "            a = log_post - log_q - logZ\n",
    "            b = log_q - log_post + logZ\n",
    "            lm_inv_w1 = logsumexp(-a) - np.log(n)\n",
    "            lm_w2 = logsumexp(b) - np.log(n)\n",
    "            new_logZ = lm_inv_w1 - lm_w2\n",
    "            if abs(new_logZ - logZ) < tol:\n",
    "                break\n",
    "            logZ = new_logZ\n",
    "        return logZ\n",
    "\n",
    "    return bridge_logZ_iter(log_post, log_q)\n"
   ]
  },
  {
   "cell_type": "code",
   "execution_count": null,
   "metadata": {},
   "outputs": [],
   "source": [
    "# only run for two chains\n",
    "X_list, Y_list = X[:2], Y[:2]\n",
    "logZ_ou, logZ_ouosc = [], []\n",
    "for x, y in zip(X_list, Y_list):\n",
    "    logZ_ou.append(\n",
    "        bridge_gp_logZ(\n",
    "            x.reshape(-1, 1),\n",
    "            y,\n",
    "            noise,\n",
    "            model=\"ou\",\n",
    "            draws=5000,\n",
    "            tune=1000,\n",
    "            chains=10,\n",
    "            split_frac=0.5,\n",
    "            plot_trace=True,\n",
    "        )\n",
    "    )\n",
    "    logZ_ouosc.append(\n",
    "        bridge_gp_logZ(\n",
    "            x.reshape(-1, 1),\n",
    "            y,\n",
    "            noise,\n",
    "            model=\"ouosc\",\n",
    "            draws=5000,\n",
    "            tune=1000,\n",
    "            chains=10,\n",
    "            split_frac=0.5,\n",
    "            plot_trace=True,\n",
    "        )\n",
    "    )\n",
    "\n",
    "print(\"logZ_ou:\", logZ_ou)\n",
    "print(\"logZ_ouosc:\", logZ_ouosc)\n",
    "BF_array = np.exp(np.array(logZ_ouosc) - np.array(logZ_ou))\n",
    "print(\"Bayes Factor (ouosc vs ou):\", BF_array)"
   ]
  },
  {
   "cell_type": "code",
   "execution_count": null,
   "metadata": {},
   "outputs": [],
   "source": [
    "# def fit_model(\n",
    "#     x,\n",
    "#     y,\n",
    "#     noise_sd,  # float, known observation noise std. dev.\n",
    "#     model=\"ou\",  # \"ou\" or \"ouosc\"\n",
    "#     draws=1000,  # posterior draws per chain\n",
    "#     tune=1000,  # tuning steps per chain\n",
    "#     chains=4,  # number of parallel chains\n",
    "#     split_frac=0.5,  # fraction of draws for proposal‐fit\n",
    "#     plot_trace=False,  # whether to plot MCMC traces of the GP hyperparams\n",
    "# ):\n",
    "#     # 1. hyperparameter names/bounds\n",
    "#     if model == \"ou\":\n",
    "#         bounds = {\"ls\": (0.1, 2.0), \"amp\": (0.1, 2.0)}\n",
    "#         use_ls2 = False\n",
    "#     elif model == \"ouosc\":\n",
    "#         bounds = {\"ls\": (0.1, 2.0), \"amp\": (0.1, 2.0), \"ls2\": (0.1, 4.0)}\n",
    "#         use_ls2 = True\n",
    "#     else:\n",
    "#         raise ValueError(\"model must be 'ou' or 'ouosc'\")\n",
    "\n",
    "#     # 2. Build & sample\n",
    "#     with pm.Model() as gp_model:\n",
    "#         ls = pm.Uniform(\n",
    "#             \"ls\", lower=bounds[\"ls\"][0], upper=bounds[\"ls\"][1], default_transform=None\n",
    "#         )\n",
    "#         amp = pm.Uniform(\n",
    "#             \"amp\",\n",
    "#             lower=bounds[\"amp\"][0],\n",
    "#             upper=bounds[\"amp\"][1],\n",
    "#             default_transform=None,\n",
    "#         )\n",
    "#         cov = amp**2 * ExpQuad(1, ls=ls)\n",
    "#         if use_ls2:\n",
    "#             ls2 = pm.Uniform(\n",
    "#                 \"ls2\",\n",
    "#                 lower=bounds[\"ls2\"][0],\n",
    "#                 upper=bounds[\"ls2\"][1],\n",
    "#                 default_transform=None,\n",
    "#             )\n",
    "#             cov *= Cosine(1, ls=ls2)\n",
    "\n",
    "#         gp = pm.gp.Marginal(cov_func=cov)\n",
    "#         gp.marginal_likelihood(\"y_obs\", X=x, y=y, sigma=noise_sd)\n",
    "\n",
    "#         mtrace = pm.sample(\n",
    "#             draws=draws,\n",
    "#             tune=tune,\n",
    "#             chains=chains,\n",
    "#             target_accept=0.9,\n",
    "#             return_inferencedata=False,\n",
    "#             cores=14,\n",
    "#         )\n",
    "\n",
    "#     return mtrace, gp_model\n",
    "\n",
    "\n",
    "# def Marginal_llk(mtrace, model=None, logp=None, maxiter=1000):\n",
    "#     \"\"\"The Bridge Sampling Estimator of the Marginal Likelihood.\n",
    "\n",
    "#     Parameters\n",
    "#     ----------\n",
    "#     mtrace : MultiTrace, result of MCMC run\n",
    "#     model : PyMC Model\n",
    "#         Optional model. Default None, taken from context.\n",
    "#     logp : Model Log-probability function, read from the model by default\n",
    "#     maxiter : Maximum number of iterations\n",
    "\n",
    "#     Returns\n",
    "#     -------\n",
    "#     marg_llk : Estimated Marginal log-Likelihood.\n",
    "#     \"\"\"\n",
    "#     r0, tol1, tol2 = 0.5, 1e-10, 1e-4\n",
    "\n",
    "#     model = modelcontext(model)\n",
    "#     if logp is None:\n",
    "#         logp = model.logp_array\n",
    "#     vars = model.free_RVs\n",
    "\n",
    "#     # Split the samples into two parts\n",
    "#     # Use the first 50% for fiting the proposal distribution and the second 50%\n",
    "#     # in the iterative scheme.\n",
    "#     len_trace = len(mtrace)\n",
    "#     nchain = mtrace.nchains\n",
    "\n",
    "#     N1_ = len_trace // 2\n",
    "#     N1 = N1_ * nchain\n",
    "#     N2 = len_trace * nchain - N1\n",
    "\n",
    "#     neff_list = dict()  # effective sample size\n",
    "\n",
    "#     arraysz = model.bijection.ordering.size\n",
    "#     samples_4_fit = np.zeros((arraysz, N1))\n",
    "#     samples_4_iter = np.zeros((arraysz, N2))\n",
    "#     # matrix with already transformed samples\n",
    "#     for var in vars:\n",
    "#         varmap = model.bijection.ordering.by_name[var.name]\n",
    "#         # for fitting the proposal\n",
    "#         x = mtrace[:N1_][var.name]\n",
    "#         samples_4_fit[varmap.slc, :] = x.reshape(\n",
    "#             (x.shape[0], np.prod(x.shape[1:], dtype=int))\n",
    "#         ).T\n",
    "#         # for the iterative scheme\n",
    "#         x2 = mtrace[N1_:][var.name]\n",
    "#         samples_4_iter[varmap.slc, :] = x2.reshape(\n",
    "#             (x2.shape[0], np.prod(x2.shape[1:], dtype=int))\n",
    "#         ).T\n",
    "#         # effective sample size of samples_4_iter, scalar\n",
    "#         neff_list.update(pm.effective_n(mtrace[N1_:], varnames=[var.name]))\n",
    "\n",
    "#     # median effective sample size (scalar)\n",
    "#     neff = pm.stats.dict2pd(neff_list, \"temp\").median()\n",
    "\n",
    "#     # get mean & covariance matrix and generate samples from proposal\n",
    "#     m = np.mean(samples_4_fit, axis=1)\n",
    "#     V = np.cov(samples_4_fit)\n",
    "#     L = chol(V, lower=True)\n",
    "\n",
    "#     # Draw N2 samples from the proposal distribution\n",
    "#     gen_samples = m[:, None] + dot(L, st.norm.rvs(0, 1, size=samples_4_iter.shape))\n",
    "\n",
    "#     # Evaluate proposal distribution for posterior & generated samples\n",
    "#     q12 = st.multivariate_normal.logpdf(samples_4_iter.T, m, V)\n",
    "#     q22 = st.multivariate_normal.logpdf(gen_samples.T, m, V)\n",
    "\n",
    "#     # Evaluate unnormalized posterior for posterior & generated samples\n",
    "#     q11 = np.asarray([logp(point) for point in samples_4_iter.T])\n",
    "#     q21 = np.asarray([logp(point) for point in gen_samples.T])\n",
    "\n",
    "#     # Iterative scheme as proposed in Meng and Wong (1996) to estimate\n",
    "#     # the marginal likelihood\n",
    "#     def iterative_scheme(q11, q12, q21, q22, r0, neff, tol, maxiter, criterion):\n",
    "#         l1 = q11 - q12\n",
    "#         l2 = q21 - q22\n",
    "#         lstar = np.median(l1)  # To increase numerical stability,\n",
    "#         # subtracting the median of l1 from l1 & l2 later\n",
    "#         s1 = neff / (neff + N2)\n",
    "#         s2 = N2 / (neff + N2)\n",
    "#         r = r0\n",
    "#         r_vals = [r]\n",
    "#         logml = np.log(r) + lstar\n",
    "#         criterion_val = 1 + tol\n",
    "\n",
    "#         i = 0\n",
    "#         while (i <= maxiter) & (criterion_val > tol):\n",
    "#             rold = r\n",
    "#             logmlold = logml\n",
    "#             numi = np.exp(l2 - lstar) / (s1 * np.exp(l2 - lstar) + s2 * r)\n",
    "#             deni = 1 / (s1 * np.exp(l1 - lstar) + s2 * r)\n",
    "#             if np.sum(~np.isfinite(numi)) + np.sum(~np.isfinite(deni)) > 0:\n",
    "#                 warnings.warn(\"\"\"Infinite value in iterative scheme, returning NaN.\n",
    "#                 Try rerunning with more samples.\"\"\")\n",
    "#             r = (N1 / N2) * np.sum(numi) / np.sum(deni)\n",
    "#             r_vals.append(r)\n",
    "#             logml = np.log(r) + lstar\n",
    "#             i += 1\n",
    "#             if criterion == \"r\":\n",
    "#                 criterion_val = np.abs((r - rold) / r)\n",
    "#             elif criterion == \"logml\":\n",
    "#                 criterion_val = np.abs((logml - logmlold) / logml)\n",
    "\n",
    "#         if i >= maxiter:\n",
    "#             return dict(logml=np.NaN, niter=i, r_vals=np.asarray(r_vals))\n",
    "#         else:\n",
    "#             return dict(logml=logml, niter=i)\n",
    "\n",
    "#     # Run iterative scheme:\n",
    "#     tmp = iterative_scheme(q11, q12, q21, q22, r0, neff, tol1, maxiter, \"r\")\n",
    "#     if ~np.isfinite(tmp[\"logml\"]):\n",
    "#         warnings.warn(\"\"\"logml could not be estimated within maxiter, rerunning with\n",
    "#                       adjusted starting value. Estimate might be more variable than usual.\"\"\")\n",
    "#         # use geometric mean as starting value\n",
    "#         r0_2 = np.sqrt(tmp[\"r_vals\"][-2] * tmp[\"r_vals\"][-1])\n",
    "#         tmp = iterative_scheme(q11, q12, q21, q22, r0_2, neff, tol2, maxiter, \"logml\")\n",
    "\n",
    "#     return dict(\n",
    "#         logml=tmp[\"logml\"],\n",
    "#         niter=tmp[\"niter\"],\n",
    "#         method=\"normal\",\n",
    "#         q11=q11,\n",
    "#         q12=q12,\n",
    "#         q21=q21,\n",
    "#         q22=q22,\n",
    "#     )\n",
    "\n",
    "\n",
    "# # fit model\n",
    "# idata, gp_model = fit_model(\n",
    "#     X[0],\n",
    "#     Y[0],\n",
    "#     noise,\n",
    "#     model=\"ouosc\",\n",
    "#     draws=1000,\n",
    "#     tune=1000,\n",
    "#     chains=4,\n",
    "# )\n",
    "\n",
    "# # calculate logZ\n",
    "# marg_llk = Marginal_llk(idata, model=gp_model, logp=None, maxiter=1000)\n",
    "# print(\"Marginal log-likelihood:\", marg_llk[\"logml\"])"
   ]
  },
  {
   "cell_type": "code",
   "execution_count": 5,
   "metadata": {},
   "outputs": [
    {
     "name": "stdout",
     "output_type": "stream",
     "text": [
      "Lower bound: 0.1, p_lower: 0.025, sigma_ls2: 3.1910159349643954\n"
     ]
    }
   ],
   "source": [
    "from scipy.special import erfinv\n",
    "import numpy as np\n",
    "\n",
    "bounds = {\"ls\": (0.1, 2.0), \"amp\": (0.1, 2.0), \"ls2\": (0.1, 4.0)}\n",
    "# match the *lower* quantile a=0.1 to p=0.025 of a HalfNormal:\n",
    "a, _ = bounds[\"ls2\"]\n",
    "p_lower = 0.025\n",
    "sigma_ls2 = a / (np.sqrt(2) * erfinv(p_lower))\n",
    "\n",
    "print(f\"Lower bound: {a}, p_lower: {p_lower}, sigma_ls2: {sigma_ls2}\")"
   ]
  },
  {
   "cell_type": "code",
   "execution_count": 6,
   "metadata": {},
   "outputs": [
    {
     "data": {
      "text/plain": [
       "np.float64(2.040853827698616)"
      ]
     },
     "execution_count": 6,
     "metadata": {},
     "output_type": "execute_result"
    }
   ],
   "source": [
    "from scipy.special import erfinv\n",
    "\n",
    "# assume bounds[\"ls2\"] = (lower, upper)\n",
    "_, b = bounds[\"ls2\"]\n",
    "p_upper = 0.95\n",
    "\n",
    "# Solve erf(b/(σ√2)) = 0.95  =>  σ = b / (√2 * erfinv(0.95))\n",
    "sigma_ls2 = b / (np.sqrt(2) * erfinv(p_upper))\n",
    "sigma_ls2"
   ]
  },
  {
   "cell_type": "code",
   "execution_count": null,
   "metadata": {},
   "outputs": [
    {
     "name": "stderr",
     "output_type": "stream",
     "text": [
      "Initializing NUTS using jitter+adapt_diag...\n",
      "Multiprocess sampling (6 chains in 6 jobs)\n",
      "NUTS: [ls, amp, ls2]\n"
     ]
    },
    {
     "data": {
      "application/vnd.jupyter.widget-view+json": {
       "model_id": "189a7bc9b4a04dfcad93265be0348f49",
       "version_major": 2,
       "version_minor": 0
      },
      "text/plain": [
       "Output()"
      ]
     },
     "metadata": {},
     "output_type": "display_data"
    },
    {
     "data": {
      "text/html": [
       "<pre style=\"white-space:pre;overflow-x:auto;line-height:normal;font-family:Menlo,'DejaVu Sans Mono',consolas,'Courier New',monospace\"></pre>\n"
      ],
      "text/plain": []
     },
     "metadata": {},
     "output_type": "display_data"
    },
    {
     "name": "stderr",
     "output_type": "stream",
     "text": [
      "Sampling 6 chains for 2_000 tune and 1_500 draw iterations (12_000 + 9_000 draws total) took 13 seconds.\n"
     ]
    },
    {
     "data": {
      "image/png": "[encoded data removed]",
      "text/plain": [
       "<Figure size 1200x600 with 6 Axes>"
      ]
     },
     "metadata": {},
     "output_type": "display_data"
    }
   ],
   "source": [
    "from scipy.special import erfinv\n",
    "\n",
    "\n",
    "def fit_model(\n",
    "    x,\n",
    "    y,\n",
    "    noise_sd,  # float, known observation noise std. dev.\n",
    "    model=\"ou\",  # \"ou\" or \"ouosc\"\n",
    "    draws=1000,  # posterior draws per chain\n",
    "    tune=1000,  # tuning steps per chain\n",
    "    chains=6,  # number of parallel chains\n",
    "    plot_trace=False,  # whether to plot MCMC traces of the GP hyperparams\n",
    "):\n",
    "    # 1. hyperparameter names/bounds\n",
    "    if model == \"ou\":\n",
    "        bounds = {\"ls\": (0.1, 2.0), \"amp\": (0.1, 2.0)}\n",
    "        use_ls2 = False\n",
    "    elif model == \"ouosc\":\n",
    "        bounds = {\"ls\": (0.1, 2.0), \"amp\": (0.1, 2.0), \"ls2\": (0.1, 4.0)}\n",
    "        use_ls2 = True\n",
    "    else:\n",
    "        raise ValueError(\"model must be 'ou' or 'ouosc'\")\n",
    "\n",
    "    # 2. Build & sample\n",
    "    with pm.Model() as gp_model:\n",
    "        # ls = pm.Uniform(\n",
    "        #     \"ls\", lower=bounds[\"ls\"][0], upper=bounds[\"ls\"][1], default_transform=None\n",
    "        # )\n",
    "        # amp = pm.Uniform(\n",
    "        #     \"amp\",\n",
    "        #     lower=bounds[\"amp\"][0],\n",
    "        #     upper=bounds[\"amp\"][1],\n",
    "        #     default_transform=None,\n",
    "        # )\n",
    "\n",
    "        # --- lognormal for ls ---\n",
    "        a, b = bounds[\"ls\"]\n",
    "        mu_ls = 0.5 * (np.log(a) + np.log(b))\n",
    "        sigma_ls = (np.log(b) - np.log(a)) / (2 * 1.96)\n",
    "        ls = pm.Lognormal(\"ls\", mu=mu_ls, sigma=sigma_ls, default_transform=None)\n",
    "\n",
    "        # --- lognormal for amp ---\n",
    "        a, b = bounds[\"amp\"]\n",
    "        mu_amp = 0.5 * (np.log(a) + np.log(b))\n",
    "        sigma_amp = (np.log(b) - np.log(a)) / (2 * 1.96)\n",
    "        amp = pm.Lognormal(\"amp\", mu=mu_amp, sigma=sigma_amp, default_transform=None)\n",
    "\n",
    "        cov = amp**2 * ExpQuad(1, ls=ls)\n",
    "        if use_ls2:\n",
    "            # # match the *lower* quantile a=0.1 to p=0.025 of a HalfNormal:\n",
    "            # a, _ = bounds[\"ls2\"]\n",
    "            # p_lower = 0.025\n",
    "            # sigma_ls2 = a / (np.sqrt(2) * erfinv(p_lower))\n",
    "            # # now a HalfNormal that has ~2.5% mass below 0.1\n",
    "            # ls2 = pm.HalfNormal(\"ls2\", sigma=sigma_ls2, default_transform=None)\n",
    "\n",
    "            # match 95% <= ls2\n",
    "            # assume bounds[\"ls2\"] = (lower, upper)\n",
    "            _, b = bounds[\"ls2\"]\n",
    "            p_upper = 0.95\n",
    "\n",
    "            # Solve erf(b/(σ√2)) = 0.95  =>  σ = b / (√2 * erfinv(0.95))\n",
    "            sigma_ls2 = b / (np.sqrt(2) * erfinv(p_upper))\n",
    "\n",
    "            ls2 = pm.HalfNormal(\"ls2\", sigma=sigma_ls2, default_transform=None)\n",
    "\n",
    "            # ls2 = pm.Uniform(\n",
    "            #     \"ls2\",\n",
    "            #     lower=bounds[\"ls2\"][0],\n",
    "            #     upper=bounds[\"ls2\"][1],\n",
    "            #     default_transform=None,\n",
    "            # )\n",
    "            cov *= Cosine(1, ls=ls2)\n",
    "\n",
    "        gp = pm.gp.Marginal(cov_func=cov)\n",
    "        gp.marginal_likelihood(\"y_obs\", X=x, y=y, sigma=noise_sd)\n",
    "\n",
    "        # return InferenceData instead of MultiTrace\n",
    "        idata = pm.sample(\n",
    "            draws=draws,\n",
    "            tune=tune,\n",
    "            chains=chains,\n",
    "            target_accept=0.9,\n",
    "            return_inferencedata=True,\n",
    "            cores=14,\n",
    "            progressbar=\"combined+stats\",\n",
    "        )\n",
    "\n",
    "        if plot_trace:\n",
    "            pm.plot_trace(idata, var_names=[\"ls\", \"amp\", \"ls2\"])\n",
    "            plt.tight_layout()\n",
    "            plt.show()\n",
    "\n",
    "    return idata, gp_model\n",
    "\n",
    "\n",
    "# fit model\n",
    "idata, gp_model = fit_model(\n",
    "    X[0],\n",
    "    Y[0],\n",
    "    noise,\n",
    "    model=\"ouosc\",\n",
    "    draws=1500,\n",
    "    tune=2000,\n",
    "    chains=6,\n",
    "    plot_trace=True,\n",
    ")\n"
   ]
  },
  {
   "cell_type": "code",
   "execution_count": 5,
   "metadata": {},
   "outputs": [
    {
     "name": "stdout",
     "output_type": "stream",
     "text": [
      "Marginal log-likelihood: 2261.6605\n",
      "Number of iterations: 4\n",
      "Marginal log-likelihood: 2261.6615\n",
      "Number of iterations: 4\n"
     ]
    }
   ],
   "source": [
    "from scipy.optimize import fixed_point\n",
    "\n",
    "\n",
    "def bridge_sampler(\n",
    "    idata: az.InferenceData,\n",
    "    model: pm.Model,\n",
    "    maxiter: int = 1000,\n",
    "    ess_warn_threshold: float = 100,\n",
    "    scipy_fixed_point: bool = False,\n",
    "    tol: float = 1e-10,\n",
    "    jitter: float | None = None,\n",
    "):\n",
    "    \"\"\"\n",
    "    Bridge sampling estimator of the marginal log-likelihood in modern PyMC.\n",
    "\n",
    "    Parameters\n",
    "    ----------\n",
    "    idata : arviz.InferenceData\n",
    "        Posterior samples from pm.sample().\n",
    "    model : pm.Model\n",
    "        The PyMC model instance (must match idata).\n",
    "    maxiter : int\n",
    "        Maximum iterations for the bridge-sampling fixed-point scheme.\n",
    "    ess_warn_threshold : float\n",
    "        Threshold for effective sample size (ESS) warning.\n",
    "    scipy_fixed_point : bool\n",
    "        If True, use scipy's fixed-point iteration instead of custom implementation.\n",
    "    tol : float\n",
    "        Tolerance for convergence criterion.\n",
    "    jitter : float or None\n",
    "        If not None, add jitter to the proposal samples to avoid numerical issues.\n",
    "        This is useful for high-dimensional models where the covariance matrix\n",
    "        may be ill-conditioned.\n",
    "\n",
    "    Returns\n",
    "    -------\n",
    "    dict\n",
    "        {\n",
    "            \"logml\": marginal log-likelihood estimate,\n",
    "            \"niter\": number of iterations used,\n",
    "            \"q11,q12,q21,q22\": arrays of log-densities,\n",
    "        }\n",
    "    \"\"\"\n",
    "    # 1. Extract and flatten posterior samples\n",
    "    posterior = idata.posterior\n",
    "    # shape: (chain, draw, *var_shape)\n",
    "    stacked = posterior.stack(sample=(\"chain\", \"draw\"))\n",
    "    var_names = [rv.name for rv in model.free_RVs]\n",
    "\n",
    "    # Build a (D × N) array where D = total dimensions, N = samples\n",
    "    samples = np.vstack(\n",
    "        [\n",
    "            stacked[name]\n",
    "            .values.reshape(-1, int(np.prod(stacked[name].values.shape[2:])))\n",
    "            .T\n",
    "            for name in var_names\n",
    "        ]\n",
    "    )\n",
    "    D, N = samples.shape\n",
    "\n",
    "    # 2. Split into random fitting and iterating sets (50/50)\n",
    "    N1 = N // 2\n",
    "    N2 = N - N1\n",
    "    samp_fit = samples[:, :N1]\n",
    "    samp_iter = samples[:, N1:]\n",
    "\n",
    "    # 3. Estimate ESS via ArviZ\n",
    "    neff = az.ess(idata, var_names=var_names).to_array().median().item()\n",
    "    if neff < ess_warn_threshold:\n",
    "        warnings.warn(\n",
    "            f\"Median ESS={neff:.1f} below threshold {ess_warn_threshold}; \"\n",
    "            \"bridge-sampling results may be unreliable.\"\n",
    "        )\n",
    "\n",
    "    # 4. Fit Gaussian proposal q(θ)\n",
    "    m = samp_fit.mean(axis=1)\n",
    "    V = np.cov(samp_fit)\n",
    "\n",
    "    # Add jitter to the covariance matrix if specified\n",
    "    match jitter:\n",
    "        case None:\n",
    "            pass\n",
    "        case float():\n",
    "            # Add jitter to the covariance matrix\n",
    "            V += np.eye(D) * jitter\n",
    "        case _:\n",
    "            raise ValueError(\"jitter must be a float or None\")\n",
    "    L = np.linalg.cholesky(V)\n",
    "\n",
    "    # 5. Generate N2 proposals\n",
    "    gen = m[:, None] + L @ np.random.randn(D, N2)\n",
    "\n",
    "    # 6. Compile log-probability function (includes Jacobian automatically)\n",
    "    logp_fn = model.compile_logp(jacobian=True, sum=True)\n",
    "\n",
    "    # 7. Evaluate densities\n",
    "    q12 = multivariate_normal.logpdf(samp_iter.T, mean=m, cov=V)\n",
    "    q22 = multivariate_normal.logpdf(gen.T, mean=m, cov=V)\n",
    "    q11 = np.array([logp_fn(dict(zip(var_names, samp_iter[:, i]))) for i in range(N2)])\n",
    "    q21 = np.array([logp_fn(dict(zip(var_names, gen[:, i]))) for i in range(N2)])\n",
    "\n",
    "    # 8. Fixed-point iteration\n",
    "\n",
    "    # starting points\n",
    "    l1, l2 = q11 - q12, q21 - q22\n",
    "    lstar = np.median(l1)\n",
    "    s1 = neff / (neff + N2)\n",
    "    s2 = N2 / (neff + N2)\n",
    "    r0 = 0.5\n",
    "    coeff = N1 / N2\n",
    "\n",
    "    if not scipy_fixed_point:\n",
    "\n",
    "        def _iterate(r0, tol, criterion):\n",
    "            r, vals = r0, [r0]\n",
    "            logml = np.log(r) + lstar\n",
    "            for i in range(1, maxiter + 1):\n",
    "                num = np.exp(l2 - lstar) / (s1 * np.exp(l2 - lstar) + s2 * r)\n",
    "                den = 1.0 / (s1 * np.exp(l1 - lstar) + s2 * r)\n",
    "                r_new = (N1 / N2) * num.sum() / den.sum()\n",
    "                logml_new = np.log(r_new) + lstar\n",
    "                crit = (\n",
    "                    abs((r_new - r) / r)\n",
    "                    if criterion == \"r\"\n",
    "                    else abs((logml_new - logml) / logml)\n",
    "                )\n",
    "                r, logml = r_new, logml_new\n",
    "                vals.append(r)\n",
    "                if crit < tol:\n",
    "                    return {\"logml\": logml, \"niter\": i, \"r_vals\": np.array(vals)}\n",
    "            warnings.warn(\"Bridge sampler did not converge within maxiter.\")\n",
    "            return {\"logml\": np.nan, \"niter\": maxiter, \"r_vals\": np.array(vals)}\n",
    "\n",
    "        res = _iterate(r0, tol=1e-10, criterion=\"r\")\n",
    "\n",
    "        # If first run failed, retry with alternate criterion\n",
    "        if not np.isfinite(res[\"logml\"]):\n",
    "            alt_r0 = np.sqrt(res[\"r_vals\"][-2] * res[\"r_vals\"][-1])\n",
    "            res = _iterate(alt_r0, tol=1e-4, criterion=\"logml\")\n",
    "    else:\n",
    "\n",
    "        def update_r(r):\n",
    "            num = np.exp(l2 - lstar) / (s1 * np.exp(l2 - lstar) + s2 * r)\n",
    "            den = 1.0 / (s1 * np.exp(l1 - lstar) + s2 * r)\n",
    "            return coeff * num.sum() / den.sum()\n",
    "\n",
    "        r_fp = fixed_point(update_r, r0, maxiter=maxiter, method=\"del2\", xtol=tol)\n",
    "        logml = np.log(r_fp) + lstar\n",
    "        niter = \"scipy_fixed_point\"\n",
    "        res = {\n",
    "            \"logml\": logml,\n",
    "            \"niter\": niter,\n",
    "        }\n",
    "\n",
    "    return {\n",
    "        \"logml\": res[\"logml\"],\n",
    "        \"niter\": res[\"niter\"],\n",
    "        \"q11\": q11,\n",
    "        \"q12\": q12,\n",
    "        \"q21\": q21,\n",
    "        \"q22\": q22,\n",
    "    }\n",
    "\n",
    "\n",
    "# calculate logZ\n",
    "marg_llk = bridge_sampler(idata, model=gp_model, maxiter=1000, scipy_fixed_point=False)\n",
    "print(f\"Marginal log-likelihood: {marg_llk['logml']:.4f}\")\n",
    "print(f\"Number of iterations: {marg_llk['niter']}\")\n",
    "\n",
    "# Compare with scipy\n",
    "marg_llk = bridge_sampler(idata, model=gp_model, maxiter=1000, scipy_fixed_point=False)\n",
    "print(f\"Marginal log-likelihood: {marg_llk['logml']:.4f}\")\n",
    "print(f\"Number of iterations: {marg_llk['niter']}\")\n"
   ]
  },
  {
   "cell_type": "code",
   "execution_count": 6,
   "metadata": {},
   "outputs": [
    {
     "name": "stderr",
     "output_type": "stream",
     "text": [
      "Initializing NUTS using jitter+adapt_diag...\n",
      "Multiprocess sampling (6 chains in 6 jobs)\n",
      "NUTS: [ls, amp, ls2]\n"
     ]
    },
    {
     "data": {
      "application/vnd.jupyter.widget-view+json": {
       "model_id": "b911e4a7b1b94a8db5cead115ea9f539",
       "version_major": 2,
       "version_minor": 0
      },
      "text/plain": [
       "Output()"
      ]
     },
     "metadata": {},
     "output_type": "display_data"
    },
    {
     "data": {
      "text/html": [
       "<pre style=\"white-space:pre;overflow-x:auto;line-height:normal;font-family:Menlo,'DejaVu Sans Mono',consolas,'Courier New',monospace\"></pre>\n"
      ],
      "text/plain": []
     },
     "metadata": {},
     "output_type": "display_data"
    },
    {
     "name": "stderr",
     "output_type": "stream",
     "text": [
      "Sampling 6 chains for 2_000 tune and 1_500 draw iterations (12_000 + 9_000 draws total) took 13 seconds.\n",
      "Initializing NUTS using jitter+adapt_diag...\n",
      "Multiprocess sampling (6 chains in 6 jobs)\n",
      "NUTS: [ls, amp]\n"
     ]
    },
    {
     "data": {
      "application/vnd.jupyter.widget-view+json": {
       "model_id": "7a2db1b33986445c850f7893ee23780a",
       "version_major": 2,
       "version_minor": 0
      },
      "text/plain": [
       "Output()"
      ]
     },
     "metadata": {},
     "output_type": "display_data"
    },
    {
     "data": {
      "text/html": [
       "<pre style=\"white-space:pre;overflow-x:auto;line-height:normal;font-family:Menlo,'DejaVu Sans Mono',consolas,'Courier New',monospace\"></pre>\n"
      ],
      "text/plain": []
     },
     "metadata": {},
     "output_type": "display_data"
    },
    {
     "name": "stderr",
     "output_type": "stream",
     "text": [
      "Sampling 6 chains for 2_000 tune and 1_500 draw iterations (12_000 + 9_000 draws total) took 11 seconds.\n",
      "There were 1 divergences after tuning. Increase `target_accept` or reparameterize.\n",
      "Initializing NUTS using jitter+adapt_diag...\n",
      "Multiprocess sampling (6 chains in 6 jobs)\n",
      "NUTS: [ls, amp, ls2]\n"
     ]
    },
    {
     "data": {
      "application/vnd.jupyter.widget-view+json": {
       "model_id": "a59b16c3a73144e88d1cd3c9d2ccd3f1",
       "version_major": 2,
       "version_minor": 0
      },
      "text/plain": [
       "Output()"
      ]
     },
     "metadata": {},
     "output_type": "display_data"
    },
    {
     "data": {
      "text/html": [
       "<pre style=\"white-space:pre;overflow-x:auto;line-height:normal;font-family:Menlo,'DejaVu Sans Mono',consolas,'Courier New',monospace\"></pre>\n"
      ],
      "text/plain": []
     },
     "metadata": {},
     "output_type": "display_data"
    },
    {
     "name": "stderr",
     "output_type": "stream",
     "text": [
      "Sampling 6 chains for 2_000 tune and 1_500 draw iterations (12_000 + 9_000 draws total) took 13 seconds.\n",
      "Initializing NUTS using jitter+adapt_diag...\n",
      "Multiprocess sampling (6 chains in 6 jobs)\n",
      "NUTS: [ls, amp]\n"
     ]
    },
    {
     "data": {
      "application/vnd.jupyter.widget-view+json": {
       "model_id": "43e9400eb8a842a8b6475f4521be7afd",
       "version_major": 2,
       "version_minor": 0
      },
      "text/plain": [
       "Output()"
      ]
     },
     "metadata": {},
     "output_type": "display_data"
    },
    {
     "data": {
      "text/html": [
       "<pre style=\"white-space:pre;overflow-x:auto;line-height:normal;font-family:Menlo,'DejaVu Sans Mono',consolas,'Courier New',monospace\"></pre>\n"
      ],
      "text/plain": []
     },
     "metadata": {},
     "output_type": "display_data"
    },
    {
     "name": "stderr",
     "output_type": "stream",
     "text": [
      "Sampling 6 chains for 2_000 tune and 1_500 draw iterations (12_000 + 9_000 draws total) took 10 seconds.\n",
      "There were 1 divergences after tuning. Increase `target_accept` or reparameterize.\n",
      "Initializing NUTS using jitter+adapt_diag...\n",
      "Multiprocess sampling (6 chains in 6 jobs)\n",
      "NUTS: [ls, amp, ls2]\n"
     ]
    },
    {
     "data": {
      "application/vnd.jupyter.widget-view+json": {
       "model_id": "8f10536bd7cf45f39fb43edf14321090",
       "version_major": 2,
       "version_minor": 0
      },
      "text/plain": [
       "Output()"
      ]
     },
     "metadata": {},
     "output_type": "display_data"
    },
    {
     "data": {
      "text/html": [
       "<pre style=\"white-space:pre;overflow-x:auto;line-height:normal;font-family:Menlo,'DejaVu Sans Mono',consolas,'Courier New',monospace\"></pre>\n"
      ],
      "text/plain": []
     },
     "metadata": {},
     "output_type": "display_data"
    },
    {
     "name": "stderr",
     "output_type": "stream",
     "text": [
      "Sampling 6 chains for 2_000 tune and 1_500 draw iterations (12_000 + 9_000 draws total) took 13 seconds.\n",
      "Initializing NUTS using jitter+adapt_diag...\n",
      "Multiprocess sampling (6 chains in 6 jobs)\n",
      "NUTS: [ls, amp]\n"
     ]
    },
    {
     "data": {
      "application/vnd.jupyter.widget-view+json": {
       "model_id": "75fd8dfffdce42b088de54702d3b490d",
       "version_major": 2,
       "version_minor": 0
      },
      "text/plain": [
       "Output()"
      ]
     },
     "metadata": {},
     "output_type": "display_data"
    },
    {
     "data": {
      "text/html": [
       "<pre style=\"white-space:pre;overflow-x:auto;line-height:normal;font-family:Menlo,'DejaVu Sans Mono',consolas,'Courier New',monospace\"></pre>\n"
      ],
      "text/plain": []
     },
     "metadata": {},
     "output_type": "display_data"
    },
    {
     "name": "stderr",
     "output_type": "stream",
     "text": [
      "Sampling 6 chains for 2_000 tune and 1_500 draw iterations (12_000 + 9_000 draws total) took 9 seconds.\n",
      "Initializing NUTS using jitter+adapt_diag...\n",
      "Multiprocess sampling (6 chains in 6 jobs)\n",
      "NUTS: [ls, amp, ls2]\n"
     ]
    },
    {
     "data": {
      "application/vnd.jupyter.widget-view+json": {
       "model_id": "ec795ab417a04d8c95b860070c327b15",
       "version_major": 2,
       "version_minor": 0
      },
      "text/plain": [
       "Output()"
      ]
     },
     "metadata": {},
     "output_type": "display_data"
    },
    {
     "data": {
      "text/html": [
       "<pre style=\"white-space:pre;overflow-x:auto;line-height:normal;font-family:Menlo,'DejaVu Sans Mono',consolas,'Courier New',monospace\"></pre>\n"
      ],
      "text/plain": []
     },
     "metadata": {},
     "output_type": "display_data"
    },
    {
     "name": "stderr",
     "output_type": "stream",
     "text": [
      "Sampling 6 chains for 2_000 tune and 1_500 draw iterations (12_000 + 9_000 draws total) took 14 seconds.\n",
      "Initializing NUTS using jitter+adapt_diag...\n",
      "Multiprocess sampling (6 chains in 6 jobs)\n",
      "NUTS: [ls, amp]\n"
     ]
    },
    {
     "data": {
      "application/vnd.jupyter.widget-view+json": {
       "model_id": "f7d1e60eb92546f386f9774d43fb837f",
       "version_major": 2,
       "version_minor": 0
      },
      "text/plain": [
       "Output()"
      ]
     },
     "metadata": {},
     "output_type": "display_data"
    },
    {
     "data": {
      "text/html": [
       "<pre style=\"white-space:pre;overflow-x:auto;line-height:normal;font-family:Menlo,'DejaVu Sans Mono',consolas,'Courier New',monospace\"></pre>\n"
      ],
      "text/plain": []
     },
     "metadata": {},
     "output_type": "display_data"
    },
    {
     "name": "stderr",
     "output_type": "stream",
     "text": [
      "Sampling 6 chains for 2_000 tune and 1_500 draw iterations (12_000 + 9_000 draws total) took 11 seconds.\n",
      "There were 1 divergences after tuning. Increase `target_accept` or reparameterize.\n",
      "Initializing NUTS using jitter+adapt_diag...\n",
      "Multiprocess sampling (6 chains in 6 jobs)\n",
      "NUTS: [ls, amp, ls2]\n"
     ]
    },
    {
     "data": {
      "application/vnd.jupyter.widget-view+json": {
       "model_id": "3c3f29c5f006415abea8173ce418c387",
       "version_major": 2,
       "version_minor": 0
      },
      "text/plain": [
       "Output()"
      ]
     },
     "metadata": {},
     "output_type": "display_data"
    },
    {
     "data": {
      "text/html": [
       "<pre style=\"white-space:pre;overflow-x:auto;line-height:normal;font-family:Menlo,'DejaVu Sans Mono',consolas,'Courier New',monospace\"></pre>\n"
      ],
      "text/plain": []
     },
     "metadata": {},
     "output_type": "display_data"
    },
    {
     "name": "stderr",
     "output_type": "stream",
     "text": [
      "Sampling 6 chains for 2_000 tune and 1_500 draw iterations (12_000 + 9_000 draws total) took 13 seconds.\n",
      "Initializing NUTS using jitter+adapt_diag...\n",
      "Multiprocess sampling (6 chains in 6 jobs)\n",
      "NUTS: [ls, amp]\n"
     ]
    },
    {
     "data": {
      "application/vnd.jupyter.widget-view+json": {
       "model_id": "0e3831de2bc24e6089b2583ab09e5971",
       "version_major": 2,
       "version_minor": 0
      },
      "text/plain": [
       "Output()"
      ]
     },
     "metadata": {},
     "output_type": "display_data"
    },
    {
     "data": {
      "text/html": [
       "<pre style=\"white-space:pre;overflow-x:auto;line-height:normal;font-family:Menlo,'DejaVu Sans Mono',consolas,'Courier New',monospace\"></pre>\n"
      ],
      "text/plain": []
     },
     "metadata": {},
     "output_type": "display_data"
    },
    {
     "name": "stderr",
     "output_type": "stream",
     "text": [
      "Sampling 6 chains for 2_000 tune and 1_500 draw iterations (12_000 + 9_000 draws total) took 10 seconds.\n",
      "Initializing NUTS using jitter+adapt_diag...\n",
      "Multiprocess sampling (6 chains in 6 jobs)\n",
      "NUTS: [ls, amp, ls2]\n"
     ]
    },
    {
     "data": {
      "application/vnd.jupyter.widget-view+json": {
       "model_id": "e879393b91674782b02839f2ea7c8def",
       "version_major": 2,
       "version_minor": 0
      },
      "text/plain": [
       "Output()"
      ]
     },
     "metadata": {},
     "output_type": "display_data"
    },
    {
     "data": {
      "text/html": [
       "<pre style=\"white-space:pre;overflow-x:auto;line-height:normal;font-family:Menlo,'DejaVu Sans Mono',consolas,'Courier New',monospace\"></pre>\n"
      ],
      "text/plain": []
     },
     "metadata": {},
     "output_type": "display_data"
    },
    {
     "name": "stderr",
     "output_type": "stream",
     "text": [
      "Sampling 6 chains for 2_000 tune and 1_500 draw iterations (12_000 + 9_000 draws total) took 12 seconds.\n",
      "Initializing NUTS using jitter+adapt_diag...\n",
      "Multiprocess sampling (6 chains in 6 jobs)\n",
      "NUTS: [ls, amp]\n"
     ]
    },
    {
     "data": {
      "application/vnd.jupyter.widget-view+json": {
       "model_id": "c1846a41dad24ea29f61c2bf6d4ed760",
       "version_major": 2,
       "version_minor": 0
      },
      "text/plain": [
       "Output()"
      ]
     },
     "metadata": {},
     "output_type": "display_data"
    },
    {
     "data": {
      "text/html": [
       "<pre style=\"white-space:pre;overflow-x:auto;line-height:normal;font-family:Menlo,'DejaVu Sans Mono',consolas,'Courier New',monospace\"></pre>\n"
      ],
      "text/plain": []
     },
     "metadata": {},
     "output_type": "display_data"
    },
    {
     "name": "stderr",
     "output_type": "stream",
     "text": [
      "Sampling 6 chains for 2_000 tune and 1_500 draw iterations (12_000 + 9_000 draws total) took 9 seconds.\n",
      "There were 1 divergences after tuning. Increase `target_accept` or reparameterize.\n",
      "Initializing NUTS using jitter+adapt_diag...\n",
      "Multiprocess sampling (6 chains in 6 jobs)\n",
      "NUTS: [ls, amp, ls2]\n"
     ]
    },
    {
     "data": {
      "application/vnd.jupyter.widget-view+json": {
       "model_id": "6b018c83ef454be6a31235dab40497be",
       "version_major": 2,
       "version_minor": 0
      },
      "text/plain": [
       "Output()"
      ]
     },
     "metadata": {},
     "output_type": "display_data"
    },
    {
     "data": {
      "text/html": [
       "<pre style=\"white-space:pre;overflow-x:auto;line-height:normal;font-family:Menlo,'DejaVu Sans Mono',consolas,'Courier New',monospace\"></pre>\n"
      ],
      "text/plain": []
     },
     "metadata": {},
     "output_type": "display_data"
    },
    {
     "name": "stderr",
     "output_type": "stream",
     "text": [
      "Sampling 6 chains for 2_000 tune and 1_500 draw iterations (12_000 + 9_000 draws total) took 12 seconds.\n",
      "Initializing NUTS using jitter+adapt_diag...\n",
      "Multiprocess sampling (6 chains in 6 jobs)\n",
      "NUTS: [ls, amp]\n"
     ]
    },
    {
     "data": {
      "application/vnd.jupyter.widget-view+json": {
       "model_id": "e720787b1fb94c31b75fe8049c9834ea",
       "version_major": 2,
       "version_minor": 0
      },
      "text/plain": [
       "Output()"
      ]
     },
     "metadata": {},
     "output_type": "display_data"
    },
    {
     "data": {
      "text/html": [
       "<pre style=\"white-space:pre;overflow-x:auto;line-height:normal;font-family:Menlo,'DejaVu Sans Mono',consolas,'Courier New',monospace\"></pre>\n"
      ],
      "text/plain": []
     },
     "metadata": {},
     "output_type": "display_data"
    },
    {
     "name": "stderr",
     "output_type": "stream",
     "text": [
      "Sampling 6 chains for 2_000 tune and 1_500 draw iterations (12_000 + 9_000 draws total) took 9 seconds.\n",
      "Initializing NUTS using jitter+adapt_diag...\n",
      "Multiprocess sampling (6 chains in 6 jobs)\n",
      "NUTS: [ls, amp, ls2]\n"
     ]
    },
    {
     "data": {
      "application/vnd.jupyter.widget-view+json": {
       "model_id": "6bfdf3af36b340a596a4c33647248fd6",
       "version_major": 2,
       "version_minor": 0
      },
      "text/plain": [
       "Output()"
      ]
     },
     "metadata": {},
     "output_type": "display_data"
    },
    {
     "data": {
      "text/html": [
       "<pre style=\"white-space:pre;overflow-x:auto;line-height:normal;font-family:Menlo,'DejaVu Sans Mono',consolas,'Courier New',monospace\"></pre>\n"
      ],
      "text/plain": []
     },
     "metadata": {},
     "output_type": "display_data"
    },
    {
     "name": "stderr",
     "output_type": "stream",
     "text": [
      "Sampling 6 chains for 2_000 tune and 1_500 draw iterations (12_000 + 9_000 draws total) took 12 seconds.\n",
      "Initializing NUTS using jitter+adapt_diag...\n",
      "Multiprocess sampling (6 chains in 6 jobs)\n",
      "NUTS: [ls, amp]\n"
     ]
    },
    {
     "data": {
      "application/vnd.jupyter.widget-view+json": {
       "model_id": "bf4cb091b7dd42ab8cb826b820dad94c",
       "version_major": 2,
       "version_minor": 0
      },
      "text/plain": [
       "Output()"
      ]
     },
     "metadata": {},
     "output_type": "display_data"
    },
    {
     "data": {
      "text/html": [
       "<pre style=\"white-space:pre;overflow-x:auto;line-height:normal;font-family:Menlo,'DejaVu Sans Mono',consolas,'Courier New',monospace\"></pre>\n"
      ],
      "text/plain": []
     },
     "metadata": {},
     "output_type": "display_data"
    },
    {
     "name": "stderr",
     "output_type": "stream",
     "text": [
      "Sampling 6 chains for 2_000 tune and 1_500 draw iterations (12_000 + 9_000 draws total) took 10 seconds.\n",
      "Initializing NUTS using jitter+adapt_diag...\n",
      "Multiprocess sampling (6 chains in 6 jobs)\n",
      "NUTS: [ls, amp, ls2]\n"
     ]
    },
    {
     "data": {
      "application/vnd.jupyter.widget-view+json": {
       "model_id": "b86755a1ea9b49988a6b675e70bdb195",
       "version_major": 2,
       "version_minor": 0
      },
      "text/plain": [
       "Output()"
      ]
     },
     "metadata": {},
     "output_type": "display_data"
    },
    {
     "data": {
      "text/html": [
       "<pre style=\"white-space:pre;overflow-x:auto;line-height:normal;font-family:Menlo,'DejaVu Sans Mono',consolas,'Courier New',monospace\"></pre>\n"
      ],
      "text/plain": []
     },
     "metadata": {},
     "output_type": "display_data"
    },
    {
     "name": "stderr",
     "output_type": "stream",
     "text": [
      "Sampling 6 chains for 2_000 tune and 1_500 draw iterations (12_000 + 9_000 draws total) took 12 seconds.\n",
      "Initializing NUTS using jitter+adapt_diag...\n",
      "Multiprocess sampling (6 chains in 6 jobs)\n",
      "NUTS: [ls, amp]\n"
     ]
    },
    {
     "data": {
      "application/vnd.jupyter.widget-view+json": {
       "model_id": "89a3ee08ac0848849760b2e2d7e6777e",
       "version_major": 2,
       "version_minor": 0
      },
      "text/plain": [
       "Output()"
      ]
     },
     "metadata": {},
     "output_type": "display_data"
    },
    {
     "data": {
      "text/html": [
       "<pre style=\"white-space:pre;overflow-x:auto;line-height:normal;font-family:Menlo,'DejaVu Sans Mono',consolas,'Courier New',monospace\"></pre>\n"
      ],
      "text/plain": []
     },
     "metadata": {},
     "output_type": "display_data"
    },
    {
     "name": "stderr",
     "output_type": "stream",
     "text": [
      "Sampling 6 chains for 2_000 tune and 1_500 draw iterations (12_000 + 9_000 draws total) took 9 seconds.\n",
      "Initializing NUTS using jitter+adapt_diag...\n",
      "Multiprocess sampling (6 chains in 6 jobs)\n",
      "NUTS: [ls, amp, ls2]\n"
     ]
    },
    {
     "data": {
      "application/vnd.jupyter.widget-view+json": {
       "model_id": "968be4ceede44f438a984f6309a99b19",
       "version_major": 2,
       "version_minor": 0
      },
      "text/plain": [
       "Output()"
      ]
     },
     "metadata": {},
     "output_type": "display_data"
    },
    {
     "data": {
      "text/html": [
       "<pre style=\"white-space:pre;overflow-x:auto;line-height:normal;font-family:Menlo,'DejaVu Sans Mono',consolas,'Courier New',monospace\"></pre>\n"
      ],
      "text/plain": []
     },
     "metadata": {},
     "output_type": "display_data"
    },
    {
     "name": "stderr",
     "output_type": "stream",
     "text": [
      "Sampling 6 chains for 2_000 tune and 1_500 draw iterations (12_000 + 9_000 draws total) took 13 seconds.\n",
      "Initializing NUTS using jitter+adapt_diag...\n",
      "Multiprocess sampling (6 chains in 6 jobs)\n",
      "NUTS: [ls, amp]\n"
     ]
    },
    {
     "data": {
      "application/vnd.jupyter.widget-view+json": {
       "model_id": "2941ad4c1ed74a5c90002c1cb0db1118",
       "version_major": 2,
       "version_minor": 0
      },
      "text/plain": [
       "Output()"
      ]
     },
     "metadata": {},
     "output_type": "display_data"
    },
    {
     "data": {
      "text/html": [
       "<pre style=\"white-space:pre;overflow-x:auto;line-height:normal;font-family:Menlo,'DejaVu Sans Mono',consolas,'Courier New',monospace\"></pre>\n"
      ],
      "text/plain": []
     },
     "metadata": {},
     "output_type": "display_data"
    },
    {
     "name": "stderr",
     "output_type": "stream",
     "text": [
      "Sampling 6 chains for 2_000 tune and 1_500 draw iterations (12_000 + 9_000 draws total) took 10 seconds.\n",
      "There were 2 divergences after tuning. Increase `target_accept` or reparameterize.\n",
      "Initializing NUTS using jitter+adapt_diag...\n",
      "Multiprocess sampling (6 chains in 6 jobs)\n",
      "NUTS: [ls, amp, ls2]\n"
     ]
    },
    {
     "data": {
      "application/vnd.jupyter.widget-view+json": {
       "model_id": "76e1ab9955224ccab14b5146da1a2c4e",
       "version_major": 2,
       "version_minor": 0
      },
      "text/plain": [
       "Output()"
      ]
     },
     "metadata": {},
     "output_type": "display_data"
    },
    {
     "data": {
      "text/html": [
       "<pre style=\"white-space:pre;overflow-x:auto;line-height:normal;font-family:Menlo,'DejaVu Sans Mono',consolas,'Courier New',monospace\"></pre>\n"
      ],
      "text/plain": []
     },
     "metadata": {},
     "output_type": "display_data"
    },
    {
     "name": "stderr",
     "output_type": "stream",
     "text": [
      "Sampling 6 chains for 2_000 tune and 1_500 draw iterations (12_000 + 9_000 draws total) took 13 seconds.\n",
      "Initializing NUTS using jitter+adapt_diag...\n",
      "Multiprocess sampling (6 chains in 6 jobs)\n",
      "NUTS: [ls, amp]\n"
     ]
    },
    {
     "data": {
      "application/vnd.jupyter.widget-view+json": {
       "model_id": "93a209e69f9b4db4a100ea0bb891be30",
       "version_major": 2,
       "version_minor": 0
      },
      "text/plain": [
       "Output()"
      ]
     },
     "metadata": {},
     "output_type": "display_data"
    },
    {
     "data": {
      "text/html": [
       "<pre style=\"white-space:pre;overflow-x:auto;line-height:normal;font-family:Menlo,'DejaVu Sans Mono',consolas,'Courier New',monospace\"></pre>\n"
      ],
      "text/plain": []
     },
     "metadata": {},
     "output_type": "display_data"
    },
    {
     "name": "stderr",
     "output_type": "stream",
     "text": [
      "Sampling 6 chains for 2_000 tune and 1_500 draw iterations (12_000 + 9_000 draws total) took 9 seconds.\n",
      "Initializing NUTS using jitter+adapt_diag...\n",
      "Multiprocess sampling (6 chains in 6 jobs)\n",
      "NUTS: [ls, amp, ls2]\n"
     ]
    },
    {
     "data": {
      "application/vnd.jupyter.widget-view+json": {
       "model_id": "c1864c8df7cb4e47a2381e031e05e798",
       "version_major": 2,
       "version_minor": 0
      },
      "text/plain": [
       "Output()"
      ]
     },
     "metadata": {},
     "output_type": "display_data"
    },
    {
     "data": {
      "text/html": [
       "<pre style=\"white-space:pre;overflow-x:auto;line-height:normal;font-family:Menlo,'DejaVu Sans Mono',consolas,'Courier New',monospace\"></pre>\n"
      ],
      "text/plain": []
     },
     "metadata": {},
     "output_type": "display_data"
    },
    {
     "name": "stderr",
     "output_type": "stream",
     "text": [
      "Sampling 6 chains for 2_000 tune and 1_500 draw iterations (12_000 + 9_000 draws total) took 14 seconds.\n",
      "Initializing NUTS using jitter+adapt_diag...\n",
      "Multiprocess sampling (6 chains in 6 jobs)\n",
      "NUTS: [ls, amp]\n"
     ]
    },
    {
     "data": {
      "application/vnd.jupyter.widget-view+json": {
       "model_id": "1eec299aefd14891889669f4dd59164d",
       "version_major": 2,
       "version_minor": 0
      },
      "text/plain": [
       "Output()"
      ]
     },
     "metadata": {},
     "output_type": "display_data"
    },
    {
     "data": {
      "text/html": [
       "<pre style=\"white-space:pre;overflow-x:auto;line-height:normal;font-family:Menlo,'DejaVu Sans Mono',consolas,'Courier New',monospace\"></pre>\n"
      ],
      "text/plain": []
     },
     "metadata": {},
     "output_type": "display_data"
    },
    {
     "name": "stderr",
     "output_type": "stream",
     "text": [
      "Sampling 6 chains for 2_000 tune and 1_500 draw iterations (12_000 + 9_000 draws total) took 9 seconds.\n",
      "Initializing NUTS using jitter+adapt_diag...\n",
      "Multiprocess sampling (6 chains in 6 jobs)\n",
      "NUTS: [ls, amp, ls2]\n"
     ]
    },
    {
     "data": {
      "application/vnd.jupyter.widget-view+json": {
       "model_id": "4499f1fbddf444af96cd9650c08a96e8",
       "version_major": 2,
       "version_minor": 0
      },
      "text/plain": [
       "Output()"
      ]
     },
     "metadata": {},
     "output_type": "display_data"
    },
    {
     "data": {
      "text/html": [
       "<pre style=\"white-space:pre;overflow-x:auto;line-height:normal;font-family:Menlo,'DejaVu Sans Mono',consolas,'Courier New',monospace\"></pre>\n"
      ],
      "text/plain": []
     },
     "metadata": {},
     "output_type": "display_data"
    },
    {
     "name": "stderr",
     "output_type": "stream",
     "text": [
      "Sampling 6 chains for 2_000 tune and 1_500 draw iterations (12_000 + 9_000 draws total) took 13 seconds.\n",
      "Initializing NUTS using jitter+adapt_diag...\n",
      "Multiprocess sampling (6 chains in 6 jobs)\n",
      "NUTS: [ls, amp]\n"
     ]
    },
    {
     "data": {
      "application/vnd.jupyter.widget-view+json": {
       "model_id": "fed66abfce06484eb686be51e413b813",
       "version_major": 2,
       "version_minor": 0
      },
      "text/plain": [
       "Output()"
      ]
     },
     "metadata": {},
     "output_type": "display_data"
    },
    {
     "data": {
      "text/html": [
       "<pre style=\"white-space:pre;overflow-x:auto;line-height:normal;font-family:Menlo,'DejaVu Sans Mono',consolas,'Courier New',monospace\"></pre>\n"
      ],
      "text/plain": []
     },
     "metadata": {},
     "output_type": "display_data"
    },
    {
     "name": "stderr",
     "output_type": "stream",
     "text": [
      "Sampling 6 chains for 2_000 tune and 1_500 draw iterations (12_000 + 9_000 draws total) took 10 seconds.\n",
      "Initializing NUTS using jitter+adapt_diag...\n",
      "Multiprocess sampling (6 chains in 6 jobs)\n",
      "NUTS: [ls, amp, ls2]\n"
     ]
    },
    {
     "data": {
      "application/vnd.jupyter.widget-view+json": {
       "model_id": "4c19e6e8ab894d199891e35c070005fc",
       "version_major": 2,
       "version_minor": 0
      },
      "text/plain": [
       "Output()"
      ]
     },
     "metadata": {},
     "output_type": "display_data"
    },
    {
     "data": {
      "text/html": [
       "<pre style=\"white-space:pre;overflow-x:auto;line-height:normal;font-family:Menlo,'DejaVu Sans Mono',consolas,'Courier New',monospace\"></pre>\n"
      ],
      "text/plain": []
     },
     "metadata": {},
     "output_type": "display_data"
    },
    {
     "name": "stderr",
     "output_type": "stream",
     "text": [
      "Sampling 6 chains for 2_000 tune and 1_500 draw iterations (12_000 + 9_000 draws total) took 14 seconds.\n",
      "Initializing NUTS using jitter+adapt_diag...\n",
      "Multiprocess sampling (6 chains in 6 jobs)\n",
      "NUTS: [ls, amp]\n"
     ]
    },
    {
     "data": {
      "application/vnd.jupyter.widget-view+json": {
       "model_id": "804ac9c1b7b3469f94722dcac2eb0bba",
       "version_major": 2,
       "version_minor": 0
      },
      "text/plain": [
       "Output()"
      ]
     },
     "metadata": {},
     "output_type": "display_data"
    },
    {
     "data": {
      "text/html": [
       "<pre style=\"white-space:pre;overflow-x:auto;line-height:normal;font-family:Menlo,'DejaVu Sans Mono',consolas,'Courier New',monospace\"></pre>\n"
      ],
      "text/plain": []
     },
     "metadata": {},
     "output_type": "display_data"
    },
    {
     "name": "stderr",
     "output_type": "stream",
     "text": [
      "Sampling 6 chains for 2_000 tune and 1_500 draw iterations (12_000 + 9_000 draws total) took 9 seconds.\n",
      "There were 3 divergences after tuning. Increase `target_accept` or reparameterize.\n",
      "Initializing NUTS using jitter+adapt_diag...\n",
      "Multiprocess sampling (6 chains in 6 jobs)\n",
      "NUTS: [ls, amp, ls2]\n"
     ]
    },
    {
     "data": {
      "application/vnd.jupyter.widget-view+json": {
       "model_id": "76ccd9dad4c74c80b3a665ae86b72c2f",
       "version_major": 2,
       "version_minor": 0
      },
      "text/plain": [
       "Output()"
      ]
     },
     "metadata": {},
     "output_type": "display_data"
    },
    {
     "data": {
      "text/html": [
       "<pre style=\"white-space:pre;overflow-x:auto;line-height:normal;font-family:Menlo,'DejaVu Sans Mono',consolas,'Courier New',monospace\"></pre>\n"
      ],
      "text/plain": []
     },
     "metadata": {},
     "output_type": "display_data"
    },
    {
     "name": "stderr",
     "output_type": "stream",
     "text": [
      "Sampling 6 chains for 2_000 tune and 1_500 draw iterations (12_000 + 9_000 draws total) took 13 seconds.\n",
      "Initializing NUTS using jitter+adapt_diag...\n",
      "Multiprocess sampling (6 chains in 6 jobs)\n",
      "NUTS: [ls, amp]\n"
     ]
    },
    {
     "data": {
      "application/vnd.jupyter.widget-view+json": {
       "model_id": "680b8f5beb0a4b24b4d16140df1bcbf1",
       "version_major": 2,
       "version_minor": 0
      },
      "text/plain": [
       "Output()"
      ]
     },
     "metadata": {},
     "output_type": "display_data"
    },
    {
     "data": {
      "text/html": [
       "<pre style=\"white-space:pre;overflow-x:auto;line-height:normal;font-family:Menlo,'DejaVu Sans Mono',consolas,'Courier New',monospace\"></pre>\n"
      ],
      "text/plain": []
     },
     "metadata": {},
     "output_type": "display_data"
    },
    {
     "name": "stderr",
     "output_type": "stream",
     "text": [
      "Sampling 6 chains for 2_000 tune and 1_500 draw iterations (12_000 + 9_000 draws total) took 9 seconds.\n",
      "There were 2 divergences after tuning. Increase `target_accept` or reparameterize.\n",
      "Initializing NUTS using jitter+adapt_diag...\n",
      "Multiprocess sampling (6 chains in 6 jobs)\n",
      "NUTS: [ls, amp, ls2]\n"
     ]
    },
    {
     "data": {
      "application/vnd.jupyter.widget-view+json": {
       "model_id": "aa382c79858240208f296f765222b439",
       "version_major": 2,
       "version_minor": 0
      },
      "text/plain": [
       "Output()"
      ]
     },
     "metadata": {},
     "output_type": "display_data"
    },
    {
     "data": {
      "text/html": [
       "<pre style=\"white-space:pre;overflow-x:auto;line-height:normal;font-family:Menlo,'DejaVu Sans Mono',consolas,'Courier New',monospace\"></pre>\n"
      ],
      "text/plain": []
     },
     "metadata": {},
     "output_type": "display_data"
    },
    {
     "name": "stderr",
     "output_type": "stream",
     "text": [
      "Sampling 6 chains for 2_000 tune and 1_500 draw iterations (12_000 + 9_000 draws total) took 13 seconds.\n",
      "Initializing NUTS using jitter+adapt_diag...\n",
      "Multiprocess sampling (6 chains in 6 jobs)\n",
      "NUTS: [ls, amp]\n"
     ]
    },
    {
     "data": {
      "application/vnd.jupyter.widget-view+json": {
       "model_id": "aa1942c4203e4a51a22d9915c4b8232a",
       "version_major": 2,
       "version_minor": 0
      },
      "text/plain": [
       "Output()"
      ]
     },
     "metadata": {},
     "output_type": "display_data"
    },
    {
     "data": {
      "text/html": [
       "<pre style=\"white-space:pre;overflow-x:auto;line-height:normal;font-family:Menlo,'DejaVu Sans Mono',consolas,'Courier New',monospace\"></pre>\n"
      ],
      "text/plain": []
     },
     "metadata": {},
     "output_type": "display_data"
    },
    {
     "name": "stderr",
     "output_type": "stream",
     "text": [
      "Sampling 6 chains for 2_000 tune and 1_500 draw iterations (12_000 + 9_000 draws total) took 8 seconds.\n",
      "There were 1 divergences after tuning. Increase `target_accept` or reparameterize.\n",
      "Initializing NUTS using jitter+adapt_diag...\n",
      "Multiprocess sampling (6 chains in 6 jobs)\n",
      "NUTS: [ls, amp, ls2]\n"
     ]
    },
    {
     "data": {
      "application/vnd.jupyter.widget-view+json": {
       "model_id": "813e4d4a7094404488913eb287aac3c9",
       "version_major": 2,
       "version_minor": 0
      },
      "text/plain": [
       "Output()"
      ]
     },
     "metadata": {},
     "output_type": "display_data"
    },
    {
     "data": {
      "text/html": [
       "<pre style=\"white-space:pre;overflow-x:auto;line-height:normal;font-family:Menlo,'DejaVu Sans Mono',consolas,'Courier New',monospace\"></pre>\n"
      ],
      "text/plain": []
     },
     "metadata": {},
     "output_type": "display_data"
    },
    {
     "name": "stderr",
     "output_type": "stream",
     "text": [
      "Sampling 6 chains for 2_000 tune and 1_500 draw iterations (12_000 + 9_000 draws total) took 13 seconds.\n",
      "Initializing NUTS using jitter+adapt_diag...\n",
      "Multiprocess sampling (6 chains in 6 jobs)\n",
      "NUTS: [ls, amp]\n"
     ]
    },
    {
     "data": {
      "application/vnd.jupyter.widget-view+json": {
       "model_id": "622438b753a848f38dd277b7947e02b1",
       "version_major": 2,
       "version_minor": 0
      },
      "text/plain": [
       "Output()"
      ]
     },
     "metadata": {},
     "output_type": "display_data"
    },
    {
     "data": {
      "text/html": [
       "<pre style=\"white-space:pre;overflow-x:auto;line-height:normal;font-family:Menlo,'DejaVu Sans Mono',consolas,'Courier New',monospace\"></pre>\n"
      ],
      "text/plain": []
     },
     "metadata": {},
     "output_type": "display_data"
    },
    {
     "name": "stderr",
     "output_type": "stream",
     "text": [
      "Sampling 6 chains for 2_000 tune and 1_500 draw iterations (12_000 + 9_000 draws total) took 10 seconds.\n",
      "Initializing NUTS using jitter+adapt_diag...\n",
      "Multiprocess sampling (6 chains in 6 jobs)\n",
      "NUTS: [ls, amp, ls2]\n"
     ]
    },
    {
     "data": {
      "application/vnd.jupyter.widget-view+json": {
       "model_id": "c6cc323d09fa4ce29f79f4721c75fe3d",
       "version_major": 2,
       "version_minor": 0
      },
      "text/plain": [
       "Output()"
      ]
     },
     "metadata": {},
     "output_type": "display_data"
    },
    {
     "data": {
      "text/html": [
       "<pre style=\"white-space:pre;overflow-x:auto;line-height:normal;font-family:Menlo,'DejaVu Sans Mono',consolas,'Courier New',monospace\"></pre>\n"
      ],
      "text/plain": []
     },
     "metadata": {},
     "output_type": "display_data"
    },
    {
     "name": "stderr",
     "output_type": "stream",
     "text": [
      "Sampling 6 chains for 2_000 tune and 1_500 draw iterations (12_000 + 9_000 draws total) took 12 seconds.\n",
      "Initializing NUTS using jitter+adapt_diag...\n",
      "Multiprocess sampling (6 chains in 6 jobs)\n",
      "NUTS: [ls, amp]\n"
     ]
    },
    {
     "data": {
      "application/vnd.jupyter.widget-view+json": {
       "model_id": "8341b60aeb72441d9b6782602c1a4fe8",
       "version_major": 2,
       "version_minor": 0
      },
      "text/plain": [
       "Output()"
      ]
     },
     "metadata": {},
     "output_type": "display_data"
    },
    {
     "data": {
      "text/html": [
       "<pre style=\"white-space:pre;overflow-x:auto;line-height:normal;font-family:Menlo,'DejaVu Sans Mono',consolas,'Courier New',monospace\"></pre>\n"
      ],
      "text/plain": []
     },
     "metadata": {},
     "output_type": "display_data"
    },
    {
     "name": "stderr",
     "output_type": "stream",
     "text": [
      "Sampling 6 chains for 2_000 tune and 1_500 draw iterations (12_000 + 9_000 draws total) took 9 seconds.\n",
      "There were 2 divergences after tuning. Increase `target_accept` or reparameterize.\n",
      "Initializing NUTS using jitter+adapt_diag...\n",
      "Multiprocess sampling (6 chains in 6 jobs)\n",
      "NUTS: [ls, amp, ls2]\n"
     ]
    },
    {
     "data": {
      "application/vnd.jupyter.widget-view+json": {
       "model_id": "edc8f47c752c49c89a51cc5dc2ab30ca",
       "version_major": 2,
       "version_minor": 0
      },
      "text/plain": [
       "Output()"
      ]
     },
     "metadata": {},
     "output_type": "display_data"
    },
    {
     "data": {
      "text/html": [
       "<pre style=\"white-space:pre;overflow-x:auto;line-height:normal;font-family:Menlo,'DejaVu Sans Mono',consolas,'Courier New',monospace\"></pre>\n"
      ],
      "text/plain": []
     },
     "metadata": {},
     "output_type": "display_data"
    },
    {
     "name": "stderr",
     "output_type": "stream",
     "text": [
      "Sampling 6 chains for 2_000 tune and 1_500 draw iterations (12_000 + 9_000 draws total) took 13 seconds.\n",
      "Initializing NUTS using jitter+adapt_diag...\n",
      "Multiprocess sampling (6 chains in 6 jobs)\n",
      "NUTS: [ls, amp]\n"
     ]
    },
    {
     "data": {
      "application/vnd.jupyter.widget-view+json": {
       "model_id": "c98e81727a3e44e192ab330f00d9567b",
       "version_major": 2,
       "version_minor": 0
      },
      "text/plain": [
       "Output()"
      ]
     },
     "metadata": {},
     "output_type": "display_data"
    },
    {
     "data": {
      "text/html": [
       "<pre style=\"white-space:pre;overflow-x:auto;line-height:normal;font-family:Menlo,'DejaVu Sans Mono',consolas,'Courier New',monospace\"></pre>\n"
      ],
      "text/plain": []
     },
     "metadata": {},
     "output_type": "display_data"
    },
    {
     "name": "stderr",
     "output_type": "stream",
     "text": [
      "Sampling 6 chains for 2_000 tune and 1_500 draw iterations (12_000 + 9_000 draws total) took 9 seconds.\n",
      "There were 2 divergences after tuning. Increase `target_accept` or reparameterize.\n",
      "Initializing NUTS using jitter+adapt_diag...\n",
      "Multiprocess sampling (6 chains in 6 jobs)\n",
      "NUTS: [ls, amp, ls2]\n"
     ]
    },
    {
     "data": {
      "application/vnd.jupyter.widget-view+json": {
       "model_id": "c3f1bcb34eb84066ae4337ad3bc5ed03",
       "version_major": 2,
       "version_minor": 0
      },
      "text/plain": [
       "Output()"
      ]
     },
     "metadata": {},
     "output_type": "display_data"
    },
    {
     "data": {
      "text/html": [
       "<pre style=\"white-space:pre;overflow-x:auto;line-height:normal;font-family:Menlo,'DejaVu Sans Mono',consolas,'Courier New',monospace\"></pre>\n"
      ],
      "text/plain": []
     },
     "metadata": {},
     "output_type": "display_data"
    },
    {
     "name": "stderr",
     "output_type": "stream",
     "text": [
      "Sampling 6 chains for 2_000 tune and 1_500 draw iterations (12_000 + 9_000 draws total) took 14 seconds.\n",
      "Initializing NUTS using jitter+adapt_diag...\n",
      "Multiprocess sampling (6 chains in 6 jobs)\n",
      "NUTS: [ls, amp]\n"
     ]
    },
    {
     "data": {
      "application/vnd.jupyter.widget-view+json": {
       "model_id": "5fb02e1c20744344b1a9e9b251e19212",
       "version_major": 2,
       "version_minor": 0
      },
      "text/plain": [
       "Output()"
      ]
     },
     "metadata": {},
     "output_type": "display_data"
    },
    {
     "data": {
      "text/html": [
       "<pre style=\"white-space:pre;overflow-x:auto;line-height:normal;font-family:Menlo,'DejaVu Sans Mono',consolas,'Courier New',monospace\"></pre>\n"
      ],
      "text/plain": []
     },
     "metadata": {},
     "output_type": "display_data"
    },
    {
     "name": "stderr",
     "output_type": "stream",
     "text": [
      "Sampling 6 chains for 2_000 tune and 1_500 draw iterations (12_000 + 9_000 draws total) took 9 seconds.\n",
      "Initializing NUTS using jitter+adapt_diag...\n",
      "Multiprocess sampling (6 chains in 6 jobs)\n",
      "NUTS: [ls, amp, ls2]\n"
     ]
    },
    {
     "data": {
      "application/vnd.jupyter.widget-view+json": {
       "model_id": "bac4473d19fb4b80aee9d0eae256aa4e",
       "version_major": 2,
       "version_minor": 0
      },
      "text/plain": [
       "Output()"
      ]
     },
     "metadata": {},
     "output_type": "display_data"
    },
    {
     "data": {
      "text/html": [
       "<pre style=\"white-space:pre;overflow-x:auto;line-height:normal;font-family:Menlo,'DejaVu Sans Mono',consolas,'Courier New',monospace\"></pre>\n"
      ],
      "text/plain": []
     },
     "metadata": {},
     "output_type": "display_data"
    },
    {
     "name": "stderr",
     "output_type": "stream",
     "text": [
      "Sampling 6 chains for 2_000 tune and 1_500 draw iterations (12_000 + 9_000 draws total) took 12 seconds.\n",
      "Initializing NUTS using jitter+adapt_diag...\n",
      "Multiprocess sampling (6 chains in 6 jobs)\n",
      "NUTS: [ls, amp]\n"
     ]
    },
    {
     "data": {
      "application/vnd.jupyter.widget-view+json": {
       "model_id": "67837474a499468ebfb644a54c6da3b6",
       "version_major": 2,
       "version_minor": 0
      },
      "text/plain": [
       "Output()"
      ]
     },
     "metadata": {},
     "output_type": "display_data"
    },
    {
     "data": {
      "text/html": [
       "<pre style=\"white-space:pre;overflow-x:auto;line-height:normal;font-family:Menlo,'DejaVu Sans Mono',consolas,'Courier New',monospace\"></pre>\n"
      ],
      "text/plain": []
     },
     "metadata": {},
     "output_type": "display_data"
    },
    {
     "name": "stderr",
     "output_type": "stream",
     "text": [
      "Sampling 6 chains for 2_000 tune and 1_500 draw iterations (12_000 + 9_000 draws total) took 10 seconds.\n",
      "There were 2 divergences after tuning. Increase `target_accept` or reparameterize.\n",
      "Initializing NUTS using jitter+adapt_diag...\n",
      "Multiprocess sampling (6 chains in 6 jobs)\n",
      "NUTS: [ls, amp, ls2]\n"
     ]
    },
    {
     "data": {
      "application/vnd.jupyter.widget-view+json": {
       "model_id": "43fa67b076e04798aa6f797dbd96332a",
       "version_major": 2,
       "version_minor": 0
      },
      "text/plain": [
       "Output()"
      ]
     },
     "metadata": {},
     "output_type": "display_data"
    },
    {
     "data": {
      "text/html": [
       "<pre style=\"white-space:pre;overflow-x:auto;line-height:normal;font-family:Menlo,'DejaVu Sans Mono',consolas,'Courier New',monospace\"></pre>\n"
      ],
      "text/plain": []
     },
     "metadata": {},
     "output_type": "display_data"
    },
    {
     "name": "stderr",
     "output_type": "stream",
     "text": [
      "Sampling 6 chains for 2_000 tune and 1_500 draw iterations (12_000 + 9_000 draws total) took 13 seconds.\n",
      "Initializing NUTS using jitter+adapt_diag...\n",
      "Multiprocess sampling (6 chains in 6 jobs)\n",
      "NUTS: [ls, amp]\n"
     ]
    },
    {
     "data": {
      "application/vnd.jupyter.widget-view+json": {
       "model_id": "78df217c50fa4d78a930321ac8620ed8",
       "version_major": 2,
       "version_minor": 0
      },
      "text/plain": [
       "Output()"
      ]
     },
     "metadata": {},
     "output_type": "display_data"
    },
    {
     "data": {
      "text/html": [
       "<pre style=\"white-space:pre;overflow-x:auto;line-height:normal;font-family:Menlo,'DejaVu Sans Mono',consolas,'Courier New',monospace\"></pre>\n"
      ],
      "text/plain": []
     },
     "metadata": {},
     "output_type": "display_data"
    },
    {
     "name": "stderr",
     "output_type": "stream",
     "text": [
      "Sampling 6 chains for 2_000 tune and 1_500 draw iterations (12_000 + 9_000 draws total) took 9 seconds.\n",
      "Initializing NUTS using jitter+adapt_diag...\n",
      "Multiprocess sampling (6 chains in 6 jobs)\n",
      "NUTS: [ls, amp, ls2]\n"
     ]
    },
    {
     "data": {
      "application/vnd.jupyter.widget-view+json": {
       "model_id": "b1b4bd702ed34bdda5f97a12162f7c26",
       "version_major": 2,
       "version_minor": 0
      },
      "text/plain": [
       "Output()"
      ]
     },
     "metadata": {},
     "output_type": "display_data"
    },
    {
     "data": {
      "text/html": [
       "<pre style=\"white-space:pre;overflow-x:auto;line-height:normal;font-family:Menlo,'DejaVu Sans Mono',consolas,'Courier New',monospace\"></pre>\n"
      ],
      "text/plain": []
     },
     "metadata": {},
     "output_type": "display_data"
    },
    {
     "name": "stderr",
     "output_type": "stream",
     "text": [
      "Sampling 6 chains for 2_000 tune and 1_500 draw iterations (12_000 + 9_000 draws total) took 13 seconds.\n",
      "Initializing NUTS using jitter+adapt_diag...\n",
      "Multiprocess sampling (6 chains in 6 jobs)\n",
      "NUTS: [ls, amp]\n"
     ]
    },
    {
     "data": {
      "application/vnd.jupyter.widget-view+json": {
       "model_id": "c4c8839bbb8149f6bafb170fe01db15d",
       "version_major": 2,
       "version_minor": 0
      },
      "text/plain": [
       "Output()"
      ]
     },
     "metadata": {},
     "output_type": "display_data"
    },
    {
     "data": {
      "text/html": [
       "<pre style=\"white-space:pre;overflow-x:auto;line-height:normal;font-family:Menlo,'DejaVu Sans Mono',consolas,'Courier New',monospace\"></pre>\n"
      ],
      "text/plain": []
     },
     "metadata": {},
     "output_type": "display_data"
    },
    {
     "name": "stderr",
     "output_type": "stream",
     "text": [
      "Sampling 6 chains for 2_000 tune and 1_500 draw iterations (12_000 + 9_000 draws total) took 10 seconds.\n",
      "Initializing NUTS using jitter+adapt_diag...\n",
      "Multiprocess sampling (6 chains in 6 jobs)\n",
      "NUTS: [ls, amp, ls2]\n"
     ]
    },
    {
     "data": {
      "application/vnd.jupyter.widget-view+json": {
       "model_id": "62df2789e09947e0860b395e233c13eb",
       "version_major": 2,
       "version_minor": 0
      },
      "text/plain": [
       "Output()"
      ]
     },
     "metadata": {},
     "output_type": "display_data"
    },
    {
     "data": {
      "text/html": [
       "<pre style=\"white-space:pre;overflow-x:auto;line-height:normal;font-family:Menlo,'DejaVu Sans Mono',consolas,'Courier New',monospace\"></pre>\n"
      ],
      "text/plain": []
     },
     "metadata": {},
     "output_type": "display_data"
    },
    {
     "name": "stderr",
     "output_type": "stream",
     "text": [
      "Sampling 6 chains for 2_000 tune and 1_500 draw iterations (12_000 + 9_000 draws total) took 13 seconds.\n",
      "Initializing NUTS using jitter+adapt_diag...\n",
      "Multiprocess sampling (6 chains in 6 jobs)\n",
      "NUTS: [ls, amp]\n"
     ]
    },
    {
     "data": {
      "application/vnd.jupyter.widget-view+json": {
       "model_id": "7a20cf0d1fb24d29bc04fc74a3714a90",
       "version_major": 2,
       "version_minor": 0
      },
      "text/plain": [
       "Output()"
      ]
     },
     "metadata": {},
     "output_type": "display_data"
    },
    {
     "data": {
      "text/html": [
       "<pre style=\"white-space:pre;overflow-x:auto;line-height:normal;font-family:Menlo,'DejaVu Sans Mono',consolas,'Courier New',monospace\"></pre>\n"
      ],
      "text/plain": []
     },
     "metadata": {},
     "output_type": "display_data"
    },
    {
     "name": "stderr",
     "output_type": "stream",
     "text": [
      "Sampling 6 chains for 2_000 tune and 1_500 draw iterations (12_000 + 9_000 draws total) took 10 seconds.\n",
      "Initializing NUTS using jitter+adapt_diag...\n",
      "Multiprocess sampling (6 chains in 6 jobs)\n",
      "NUTS: [ls, amp, ls2]\n"
     ]
    },
    {
     "data": {
      "application/vnd.jupyter.widget-view+json": {
       "model_id": "3268e60d14474b3c858f3d1de88519d8",
       "version_major": 2,
       "version_minor": 0
      },
      "text/plain": [
       "Output()"
      ]
     },
     "metadata": {},
     "output_type": "display_data"
    },
    {
     "data": {
      "text/html": [
       "<pre style=\"white-space:pre;overflow-x:auto;line-height:normal;font-family:Menlo,'DejaVu Sans Mono',consolas,'Courier New',monospace\"></pre>\n"
      ],
      "text/plain": []
     },
     "metadata": {},
     "output_type": "display_data"
    },
    {
     "name": "stderr",
     "output_type": "stream",
     "text": [
      "Sampling 6 chains for 2_000 tune and 1_500 draw iterations (12_000 + 9_000 draws total) took 13 seconds.\n",
      "Initializing NUTS using jitter+adapt_diag...\n",
      "Multiprocess sampling (6 chains in 6 jobs)\n",
      "NUTS: [ls, amp]\n"
     ]
    },
    {
     "data": {
      "application/vnd.jupyter.widget-view+json": {
       "model_id": "1b769ad1fb384066895aeb41112c8d1c",
       "version_major": 2,
       "version_minor": 0
      },
      "text/plain": [
       "Output()"
      ]
     },
     "metadata": {},
     "output_type": "display_data"
    },
    {
     "data": {
      "text/html": [
       "<pre style=\"white-space:pre;overflow-x:auto;line-height:normal;font-family:Menlo,'DejaVu Sans Mono',consolas,'Courier New',monospace\"></pre>\n"
      ],
      "text/plain": []
     },
     "metadata": {},
     "output_type": "display_data"
    },
    {
     "name": "stderr",
     "output_type": "stream",
     "text": [
      "Sampling 6 chains for 2_000 tune and 1_500 draw iterations (12_000 + 9_000 draws total) took 10 seconds.\n",
      "There were 1 divergences after tuning. Increase `target_accept` or reparameterize.\n",
      "Initializing NUTS using jitter+adapt_diag...\n",
      "Multiprocess sampling (6 chains in 6 jobs)\n",
      "NUTS: [ls, amp, ls2]\n"
     ]
    },
    {
     "data": {
      "application/vnd.jupyter.widget-view+json": {
       "model_id": "f9a3de443ca7483481a3b90dea1b76a2",
       "version_major": 2,
       "version_minor": 0
      },
      "text/plain": [
       "Output()"
      ]
     },
     "metadata": {},
     "output_type": "display_data"
    },
    {
     "data": {
      "text/html": [
       "<pre style=\"white-space:pre;overflow-x:auto;line-height:normal;font-family:Menlo,'DejaVu Sans Mono',consolas,'Courier New',monospace\"></pre>\n"
      ],
      "text/plain": []
     },
     "metadata": {},
     "output_type": "display_data"
    },
    {
     "name": "stderr",
     "output_type": "stream",
     "text": [
      "Sampling 6 chains for 2_000 tune and 1_500 draw iterations (12_000 + 9_000 draws total) took 13 seconds.\n",
      "Initializing NUTS using jitter+adapt_diag...\n",
      "Multiprocess sampling (6 chains in 6 jobs)\n",
      "NUTS: [ls, amp]\n"
     ]
    },
    {
     "data": {
      "application/vnd.jupyter.widget-view+json": {
       "model_id": "2c96f8976d4649e5a337d4b7237a742b",
       "version_major": 2,
       "version_minor": 0
      },
      "text/plain": [
       "Output()"
      ]
     },
     "metadata": {},
     "output_type": "display_data"
    },
    {
     "data": {
      "text/html": [
       "<pre style=\"white-space:pre;overflow-x:auto;line-height:normal;font-family:Menlo,'DejaVu Sans Mono',consolas,'Courier New',monospace\"></pre>\n"
      ],
      "text/plain": []
     },
     "metadata": {},
     "output_type": "display_data"
    },
    {
     "name": "stderr",
     "output_type": "stream",
     "text": [
      "Sampling 6 chains for 2_000 tune and 1_500 draw iterations (12_000 + 9_000 draws total) took 9 seconds.\n",
      "Initializing NUTS using jitter+adapt_diag...\n",
      "Multiprocess sampling (6 chains in 6 jobs)\n",
      "NUTS: [ls, amp, ls2]\n"
     ]
    },
    {
     "data": {
      "application/vnd.jupyter.widget-view+json": {
       "model_id": "64d546ba5dd048fcab07b1e44a230346",
       "version_major": 2,
       "version_minor": 0
      },
      "text/plain": [
       "Output()"
      ]
     },
     "metadata": {},
     "output_type": "display_data"
    },
    {
     "data": {
      "text/html": [
       "<pre style=\"white-space:pre;overflow-x:auto;line-height:normal;font-family:Menlo,'DejaVu Sans Mono',consolas,'Courier New',monospace\"></pre>\n"
      ],
      "text/plain": []
     },
     "metadata": {},
     "output_type": "display_data"
    },
    {
     "name": "stderr",
     "output_type": "stream",
     "text": [
      "Sampling 6 chains for 2_000 tune and 1_500 draw iterations (12_000 + 9_000 draws total) took 13 seconds.\n",
      "Initializing NUTS using jitter+adapt_diag...\n",
      "Multiprocess sampling (6 chains in 6 jobs)\n",
      "NUTS: [ls, amp]\n"
     ]
    },
    {
     "data": {
      "application/vnd.jupyter.widget-view+json": {
       "model_id": "67048cf18c814b4d802620e9136d6c4f",
       "version_major": 2,
       "version_minor": 0
      },
      "text/plain": [
       "Output()"
      ]
     },
     "metadata": {},
     "output_type": "display_data"
    },
    {
     "data": {
      "text/html": [
       "<pre style=\"white-space:pre;overflow-x:auto;line-height:normal;font-family:Menlo,'DejaVu Sans Mono',consolas,'Courier New',monospace\"></pre>\n"
      ],
      "text/plain": []
     },
     "metadata": {},
     "output_type": "display_data"
    },
    {
     "name": "stderr",
     "output_type": "stream",
     "text": [
      "Sampling 6 chains for 2_000 tune and 1_500 draw iterations (12_000 + 9_000 draws total) took 9 seconds.\n",
      "There were 2 divergences after tuning. Increase `target_accept` or reparameterize.\n",
      "Initializing NUTS using jitter+adapt_diag...\n",
      "Multiprocess sampling (6 chains in 6 jobs)\n",
      "NUTS: [ls, amp, ls2]\n"
     ]
    },
    {
     "data": {
      "application/vnd.jupyter.widget-view+json": {
       "model_id": "7a2e14eb65954a8abe28d6d20b2a388f",
       "version_major": 2,
       "version_minor": 0
      },
      "text/plain": [
       "Output()"
      ]
     },
     "metadata": {},
     "output_type": "display_data"
    },
    {
     "data": {
      "text/html": [
       "<pre style=\"white-space:pre;overflow-x:auto;line-height:normal;font-family:Menlo,'DejaVu Sans Mono',consolas,'Courier New',monospace\"></pre>\n"
      ],
      "text/plain": []
     },
     "metadata": {},
     "output_type": "display_data"
    },
    {
     "name": "stderr",
     "output_type": "stream",
     "text": [
      "Sampling 6 chains for 2_000 tune and 1_500 draw iterations (12_000 + 9_000 draws total) took 13 seconds.\n",
      "Initializing NUTS using jitter+adapt_diag...\n",
      "Multiprocess sampling (6 chains in 6 jobs)\n",
      "NUTS: [ls, amp]\n"
     ]
    },
    {
     "data": {
      "application/vnd.jupyter.widget-view+json": {
       "model_id": "226ddb99f8544ba7b6fde7e0bc66701d",
       "version_major": 2,
       "version_minor": 0
      },
      "text/plain": [
       "Output()"
      ]
     },
     "metadata": {},
     "output_type": "display_data"
    },
    {
     "data": {
      "text/html": [
       "<pre style=\"white-space:pre;overflow-x:auto;line-height:normal;font-family:Menlo,'DejaVu Sans Mono',consolas,'Courier New',monospace\"></pre>\n"
      ],
      "text/plain": []
     },
     "metadata": {},
     "output_type": "display_data"
    },
    {
     "name": "stderr",
     "output_type": "stream",
     "text": [
      "Sampling 6 chains for 2_000 tune and 1_500 draw iterations (12_000 + 9_000 draws total) took 9 seconds.\n",
      "There were 2 divergences after tuning. Increase `target_accept` or reparameterize.\n",
      "Initializing NUTS using jitter+adapt_diag...\n",
      "Multiprocess sampling (6 chains in 6 jobs)\n",
      "NUTS: [ls, amp, ls2]\n"
     ]
    },
    {
     "data": {
      "application/vnd.jupyter.widget-view+json": {
       "model_id": "13338de1231e4309ad149af9fb718919",
       "version_major": 2,
       "version_minor": 0
      },
      "text/plain": [
       "Output()"
      ]
     },
     "metadata": {},
     "output_type": "display_data"
    },
    {
     "data": {
      "text/html": [
       "<pre style=\"white-space:pre;overflow-x:auto;line-height:normal;font-family:Menlo,'DejaVu Sans Mono',consolas,'Courier New',monospace\"></pre>\n"
      ],
      "text/plain": []
     },
     "metadata": {},
     "output_type": "display_data"
    },
    {
     "name": "stderr",
     "output_type": "stream",
     "text": [
      "Sampling 6 chains for 2_000 tune and 1_500 draw iterations (12_000 + 9_000 draws total) took 13 seconds.\n",
      "Initializing NUTS using jitter+adapt_diag...\n",
      "Multiprocess sampling (6 chains in 6 jobs)\n",
      "NUTS: [ls, amp]\n"
     ]
    },
    {
     "data": {
      "application/vnd.jupyter.widget-view+json": {
       "model_id": "7b18cceabacb426caa816f73f4700e03",
       "version_major": 2,
       "version_minor": 0
      },
      "text/plain": [
       "Output()"
      ]
     },
     "metadata": {},
     "output_type": "display_data"
    },
    {
     "data": {
      "text/html": [
       "<pre style=\"white-space:pre;overflow-x:auto;line-height:normal;font-family:Menlo,'DejaVu Sans Mono',consolas,'Courier New',monospace\"></pre>\n"
      ],
      "text/plain": []
     },
     "metadata": {},
     "output_type": "display_data"
    },
    {
     "name": "stderr",
     "output_type": "stream",
     "text": [
      "Sampling 6 chains for 2_000 tune and 1_500 draw iterations (12_000 + 9_000 draws total) took 10 seconds.\n",
      "There were 1 divergences after tuning. Increase `target_accept` or reparameterize.\n",
      "Initializing NUTS using jitter+adapt_diag...\n",
      "Multiprocess sampling (6 chains in 6 jobs)\n",
      "NUTS: [ls, amp, ls2]\n"
     ]
    },
    {
     "data": {
      "application/vnd.jupyter.widget-view+json": {
       "model_id": "31dcf3273b594537a834c5292af055e5",
       "version_major": 2,
       "version_minor": 0
      },
      "text/plain": [
       "Output()"
      ]
     },
     "metadata": {},
     "output_type": "display_data"
    },
    {
     "data": {
      "text/html": [
       "<pre style=\"white-space:pre;overflow-x:auto;line-height:normal;font-family:Menlo,'DejaVu Sans Mono',consolas,'Courier New',monospace\"></pre>\n"
      ],
      "text/plain": []
     },
     "metadata": {},
     "output_type": "display_data"
    },
    {
     "name": "stderr",
     "output_type": "stream",
     "text": [
      "Sampling 6 chains for 2_000 tune and 1_500 draw iterations (12_000 + 9_000 draws total) took 13 seconds.\n",
      "Initializing NUTS using jitter+adapt_diag...\n",
      "Multiprocess sampling (6 chains in 6 jobs)\n",
      "NUTS: [ls, amp]\n"
     ]
    },
    {
     "data": {
      "application/vnd.jupyter.widget-view+json": {
       "model_id": "398ca244a4b04c60af082b8191975db1",
       "version_major": 2,
       "version_minor": 0
      },
      "text/plain": [
       "Output()"
      ]
     },
     "metadata": {},
     "output_type": "display_data"
    },
    {
     "data": {
      "text/html": [
       "<pre style=\"white-space:pre;overflow-x:auto;line-height:normal;font-family:Menlo,'DejaVu Sans Mono',consolas,'Courier New',monospace\"></pre>\n"
      ],
      "text/plain": []
     },
     "metadata": {},
     "output_type": "display_data"
    },
    {
     "name": "stderr",
     "output_type": "stream",
     "text": [
      "Sampling 6 chains for 2_000 tune and 1_500 draw iterations (12_000 + 9_000 draws total) took 9 seconds.\n",
      "Initializing NUTS using jitter+adapt_diag...\n",
      "Multiprocess sampling (6 chains in 6 jobs)\n",
      "NUTS: [ls, amp, ls2]\n"
     ]
    },
    {
     "data": {
      "application/vnd.jupyter.widget-view+json": {
       "model_id": "fabc1f3f4deb418391d6cd28ab5a7216",
       "version_major": 2,
       "version_minor": 0
      },
      "text/plain": [
       "Output()"
      ]
     },
     "metadata": {},
     "output_type": "display_data"
    },
    {
     "data": {
      "text/html": [
       "<pre style=\"white-space:pre;overflow-x:auto;line-height:normal;font-family:Menlo,'DejaVu Sans Mono',consolas,'Courier New',monospace\"></pre>\n"
      ],
      "text/plain": []
     },
     "metadata": {},
     "output_type": "display_data"
    },
    {
     "name": "stderr",
     "output_type": "stream",
     "text": [
      "Sampling 6 chains for 2_000 tune and 1_500 draw iterations (12_000 + 9_000 draws total) took 13 seconds.\n",
      "Initializing NUTS using jitter+adapt_diag...\n",
      "Multiprocess sampling (6 chains in 6 jobs)\n",
      "NUTS: [ls, amp]\n"
     ]
    },
    {
     "data": {
      "application/vnd.jupyter.widget-view+json": {
       "model_id": "82c41c5d6987427ea0753ae39af853f3",
       "version_major": 2,
       "version_minor": 0
      },
      "text/plain": [
       "Output()"
      ]
     },
     "metadata": {},
     "output_type": "display_data"
    },
    {
     "data": {
      "text/html": [
       "<pre style=\"white-space:pre;overflow-x:auto;line-height:normal;font-family:Menlo,'DejaVu Sans Mono',consolas,'Courier New',monospace\"></pre>\n"
      ],
      "text/plain": []
     },
     "metadata": {},
     "output_type": "display_data"
    },
    {
     "name": "stderr",
     "output_type": "stream",
     "text": [
      "Sampling 6 chains for 2_000 tune and 1_500 draw iterations (12_000 + 9_000 draws total) took 10 seconds.\n",
      "Initializing NUTS using jitter+adapt_diag...\n",
      "Multiprocess sampling (6 chains in 6 jobs)\n",
      "NUTS: [ls, amp, ls2]\n"
     ]
    },
    {
     "data": {
      "application/vnd.jupyter.widget-view+json": {
       "model_id": "b5514ddf3b6d4d449b4be58b4e76b67c",
       "version_major": 2,
       "version_minor": 0
      },
      "text/plain": [
       "Output()"
      ]
     },
     "metadata": {},
     "output_type": "display_data"
    },
    {
     "data": {
      "text/html": [
       "<pre style=\"white-space:pre;overflow-x:auto;line-height:normal;font-family:Menlo,'DejaVu Sans Mono',consolas,'Courier New',monospace\"></pre>\n"
      ],
      "text/plain": []
     },
     "metadata": {},
     "output_type": "display_data"
    },
    {
     "name": "stderr",
     "output_type": "stream",
     "text": [
      "Sampling 6 chains for 2_000 tune and 1_500 draw iterations (12_000 + 9_000 draws total) took 13 seconds.\n",
      "Initializing NUTS using jitter+adapt_diag...\n",
      "Multiprocess sampling (6 chains in 6 jobs)\n",
      "NUTS: [ls, amp]\n"
     ]
    },
    {
     "data": {
      "application/vnd.jupyter.widget-view+json": {
       "model_id": "ff0f4f24b25e4b628497084a29934aec",
       "version_major": 2,
       "version_minor": 0
      },
      "text/plain": [
       "Output()"
      ]
     },
     "metadata": {},
     "output_type": "display_data"
    },
    {
     "data": {
      "text/html": [
       "<pre style=\"white-space:pre;overflow-x:auto;line-height:normal;font-family:Menlo,'DejaVu Sans Mono',consolas,'Courier New',monospace\"></pre>\n"
      ],
      "text/plain": []
     },
     "metadata": {},
     "output_type": "display_data"
    },
    {
     "name": "stderr",
     "output_type": "stream",
     "text": [
      "Sampling 6 chains for 2_000 tune and 1_500 draw iterations (12_000 + 9_000 draws total) took 9 seconds.\n",
      "Initializing NUTS using jitter+adapt_diag...\n",
      "Multiprocess sampling (6 chains in 6 jobs)\n",
      "NUTS: [ls, amp, ls2]\n"
     ]
    },
    {
     "data": {
      "application/vnd.jupyter.widget-view+json": {
       "model_id": "6745901af22b4ae5b36c5c2e05e3c67a",
       "version_major": 2,
       "version_minor": 0
      },
      "text/plain": [
       "Output()"
      ]
     },
     "metadata": {},
     "output_type": "display_data"
    },
    {
     "data": {
      "text/html": [
       "<pre style=\"white-space:pre;overflow-x:auto;line-height:normal;font-family:Menlo,'DejaVu Sans Mono',consolas,'Courier New',monospace\"></pre>\n"
      ],
      "text/plain": []
     },
     "metadata": {},
     "output_type": "display_data"
    },
    {
     "name": "stderr",
     "output_type": "stream",
     "text": [
      "Sampling 6 chains for 2_000 tune and 1_500 draw iterations (12_000 + 9_000 draws total) took 13 seconds.\n",
      "Initializing NUTS using jitter+adapt_diag...\n",
      "Multiprocess sampling (6 chains in 6 jobs)\n",
      "NUTS: [ls, amp]\n"
     ]
    },
    {
     "data": {
      "application/vnd.jupyter.widget-view+json": {
       "model_id": "bb27d2868fd7446ba21c6d76b2b6bfeb",
       "version_major": 2,
       "version_minor": 0
      },
      "text/plain": [
       "Output()"
      ]
     },
     "metadata": {},
     "output_type": "display_data"
    },
    {
     "data": {
      "text/html": [
       "<pre style=\"white-space:pre;overflow-x:auto;line-height:normal;font-family:Menlo,'DejaVu Sans Mono',consolas,'Courier New',monospace\"></pre>\n"
      ],
      "text/plain": []
     },
     "metadata": {},
     "output_type": "display_data"
    },
    {
     "name": "stderr",
     "output_type": "stream",
     "text": [
      "Sampling 6 chains for 2_000 tune and 1_500 draw iterations (12_000 + 9_000 draws total) took 10 seconds.\n",
      "Initializing NUTS using jitter+adapt_diag...\n",
      "Multiprocess sampling (6 chains in 6 jobs)\n",
      "NUTS: [ls, amp, ls2]\n"
     ]
    },
    {
     "data": {
      "application/vnd.jupyter.widget-view+json": {
       "model_id": "d600a86761d6441b9282c3f3d5f359b8",
       "version_major": 2,
       "version_minor": 0
      },
      "text/plain": [
       "Output()"
      ]
     },
     "metadata": {},
     "output_type": "display_data"
    },
    {
     "data": {
      "text/html": [
       "<pre style=\"white-space:pre;overflow-x:auto;line-height:normal;font-family:Menlo,'DejaVu Sans Mono',consolas,'Courier New',monospace\"></pre>\n"
      ],
      "text/plain": []
     },
     "metadata": {},
     "output_type": "display_data"
    },
    {
     "name": "stderr",
     "output_type": "stream",
     "text": [
      "Sampling 6 chains for 2_000 tune and 1_500 draw iterations (12_000 + 9_000 draws total) took 13 seconds.\n",
      "Initializing NUTS using jitter+adapt_diag...\n",
      "Multiprocess sampling (6 chains in 6 jobs)\n",
      "NUTS: [ls, amp]\n"
     ]
    },
    {
     "data": {
      "application/vnd.jupyter.widget-view+json": {
       "model_id": "8a5b41d87c404d9a8e36fc9c91e64b03",
       "version_major": 2,
       "version_minor": 0
      },
      "text/plain": [
       "Output()"
      ]
     },
     "metadata": {},
     "output_type": "display_data"
    },
    {
     "data": {
      "text/html": [
       "<pre style=\"white-space:pre;overflow-x:auto;line-height:normal;font-family:Menlo,'DejaVu Sans Mono',consolas,'Courier New',monospace\"></pre>\n"
      ],
      "text/plain": []
     },
     "metadata": {},
     "output_type": "display_data"
    },
    {
     "name": "stderr",
     "output_type": "stream",
     "text": [
      "Sampling 6 chains for 2_000 tune and 1_500 draw iterations (12_000 + 9_000 draws total) took 11 seconds.\n",
      "Initializing NUTS using jitter+adapt_diag...\n",
      "Multiprocess sampling (6 chains in 6 jobs)\n",
      "NUTS: [ls, amp, ls2]\n"
     ]
    },
    {
     "data": {
      "application/vnd.jupyter.widget-view+json": {
       "model_id": "067cfc8ea418450bba152300fee704b1",
       "version_major": 2,
       "version_minor": 0
      },
      "text/plain": [
       "Output()"
      ]
     },
     "metadata": {},
     "output_type": "display_data"
    },
    {
     "data": {
      "text/html": [
       "<pre style=\"white-space:pre;overflow-x:auto;line-height:normal;font-family:Menlo,'DejaVu Sans Mono',consolas,'Courier New',monospace\"></pre>\n"
      ],
      "text/plain": []
     },
     "metadata": {},
     "output_type": "display_data"
    },
    {
     "name": "stderr",
     "output_type": "stream",
     "text": [
      "Sampling 6 chains for 2_000 tune and 1_500 draw iterations (12_000 + 9_000 draws total) took 13 seconds.\n",
      "Initializing NUTS using jitter+adapt_diag...\n",
      "Multiprocess sampling (6 chains in 6 jobs)\n",
      "NUTS: [ls, amp]\n"
     ]
    },
    {
     "data": {
      "application/vnd.jupyter.widget-view+json": {
       "model_id": "bc7709710f2f411ea9da0e0f8e1ca734",
       "version_major": 2,
       "version_minor": 0
      },
      "text/plain": [
       "Output()"
      ]
     },
     "metadata": {},
     "output_type": "display_data"
    },
    {
     "data": {
      "text/html": [
       "<pre style=\"white-space:pre;overflow-x:auto;line-height:normal;font-family:Menlo,'DejaVu Sans Mono',consolas,'Courier New',monospace\"></pre>\n"
      ],
      "text/plain": []
     },
     "metadata": {},
     "output_type": "display_data"
    },
    {
     "name": "stderr",
     "output_type": "stream",
     "text": [
      "Sampling 6 chains for 2_000 tune and 1_500 draw iterations (12_000 + 9_000 draws total) took 9 seconds.\n",
      "There were 1 divergences after tuning. Increase `target_accept` or reparameterize.\n",
      "Initializing NUTS using jitter+adapt_diag...\n",
      "Multiprocess sampling (6 chains in 6 jobs)\n",
      "NUTS: [ls, amp, ls2]\n"
     ]
    },
    {
     "data": {
      "application/vnd.jupyter.widget-view+json": {
       "model_id": "e6a26fcb323c4ab6b525ea77de799972",
       "version_major": 2,
       "version_minor": 0
      },
      "text/plain": [
       "Output()"
      ]
     },
     "metadata": {},
     "output_type": "display_data"
    },
    {
     "data": {
      "text/html": [
       "<pre style=\"white-space:pre;overflow-x:auto;line-height:normal;font-family:Menlo,'DejaVu Sans Mono',consolas,'Courier New',monospace\"></pre>\n"
      ],
      "text/plain": []
     },
     "metadata": {},
     "output_type": "display_data"
    },
    {
     "name": "stderr",
     "output_type": "stream",
     "text": [
      "Sampling 6 chains for 2_000 tune and 1_500 draw iterations (12_000 + 9_000 draws total) took 13 seconds.\n",
      "Initializing NUTS using jitter+adapt_diag...\n",
      "Multiprocess sampling (6 chains in 6 jobs)\n",
      "NUTS: [ls, amp]\n"
     ]
    },
    {
     "data": {
      "application/vnd.jupyter.widget-view+json": {
       "model_id": "5b62d78f1d0348298478d1bed4bf249d",
       "version_major": 2,
       "version_minor": 0
      },
      "text/plain": [
       "Output()"
      ]
     },
     "metadata": {},
     "output_type": "display_data"
    },
    {
     "data": {
      "text/html": [
       "<pre style=\"white-space:pre;overflow-x:auto;line-height:normal;font-family:Menlo,'DejaVu Sans Mono',consolas,'Courier New',monospace\"></pre>\n"
      ],
      "text/plain": []
     },
     "metadata": {},
     "output_type": "display_data"
    },
    {
     "name": "stderr",
     "output_type": "stream",
     "text": [
      "Sampling 6 chains for 2_000 tune and 1_500 draw iterations (12_000 + 9_000 draws total) took 9 seconds.\n",
      "There were 1 divergences after tuning. Increase `target_accept` or reparameterize.\n",
      "Initializing NUTS using jitter+adapt_diag...\n",
      "Multiprocess sampling (6 chains in 6 jobs)\n",
      "NUTS: [ls, amp, ls2]\n"
     ]
    },
    {
     "data": {
      "application/vnd.jupyter.widget-view+json": {
       "model_id": "6b3c56c8bd1847bf9149140b268c053b",
       "version_major": 2,
       "version_minor": 0
      },
      "text/plain": [
       "Output()"
      ]
     },
     "metadata": {},
     "output_type": "display_data"
    },
    {
     "data": {
      "text/html": [
       "<pre style=\"white-space:pre;overflow-x:auto;line-height:normal;font-family:Menlo,'DejaVu Sans Mono',consolas,'Courier New',monospace\"></pre>\n"
      ],
      "text/plain": []
     },
     "metadata": {},
     "output_type": "display_data"
    },
    {
     "name": "stderr",
     "output_type": "stream",
     "text": [
      "Sampling 6 chains for 2_000 tune and 1_500 draw iterations (12_000 + 9_000 draws total) took 13 seconds.\n",
      "Initializing NUTS using jitter+adapt_diag...\n",
      "Multiprocess sampling (6 chains in 6 jobs)\n",
      "NUTS: [ls, amp]\n"
     ]
    },
    {
     "data": {
      "application/vnd.jupyter.widget-view+json": {
       "model_id": "ec53d7458e384c588f52d4e424a5fbff",
       "version_major": 2,
       "version_minor": 0
      },
      "text/plain": [
       "Output()"
      ]
     },
     "metadata": {},
     "output_type": "display_data"
    },
    {
     "data": {
      "text/html": [
       "<pre style=\"white-space:pre;overflow-x:auto;line-height:normal;font-family:Menlo,'DejaVu Sans Mono',consolas,'Courier New',monospace\"></pre>\n"
      ],
      "text/plain": []
     },
     "metadata": {},
     "output_type": "display_data"
    },
    {
     "name": "stderr",
     "output_type": "stream",
     "text": [
      "Sampling 6 chains for 2_000 tune and 1_500 draw iterations (12_000 + 9_000 draws total) took 10 seconds.\n",
      "Initializing NUTS using jitter+adapt_diag...\n",
      "Multiprocess sampling (6 chains in 6 jobs)\n",
      "NUTS: [ls, amp, ls2]\n"
     ]
    },
    {
     "data": {
      "application/vnd.jupyter.widget-view+json": {
       "model_id": "7a3bdca96b8d49f7abc7f7a86b0c9afa",
       "version_major": 2,
       "version_minor": 0
      },
      "text/plain": [
       "Output()"
      ]
     },
     "metadata": {},
     "output_type": "display_data"
    },
    {
     "data": {
      "text/html": [
       "<pre style=\"white-space:pre;overflow-x:auto;line-height:normal;font-family:Menlo,'DejaVu Sans Mono',consolas,'Courier New',monospace\"></pre>\n"
      ],
      "text/plain": []
     },
     "metadata": {},
     "output_type": "display_data"
    },
    {
     "name": "stderr",
     "output_type": "stream",
     "text": [
      "Sampling 6 chains for 2_000 tune and 1_500 draw iterations (12_000 + 9_000 draws total) took 13 seconds.\n",
      "Initializing NUTS using jitter+adapt_diag...\n",
      "Multiprocess sampling (6 chains in 6 jobs)\n",
      "NUTS: [ls, amp]\n"
     ]
    },
    {
     "data": {
      "application/vnd.jupyter.widget-view+json": {
       "model_id": "6b043f2502084967b6a9120eb87f4da0",
       "version_major": 2,
       "version_minor": 0
      },
      "text/plain": [
       "Output()"
      ]
     },
     "metadata": {},
     "output_type": "display_data"
    },
    {
     "data": {
      "text/html": [
       "<pre style=\"white-space:pre;overflow-x:auto;line-height:normal;font-family:Menlo,'DejaVu Sans Mono',consolas,'Courier New',monospace\"></pre>\n"
      ],
      "text/plain": []
     },
     "metadata": {},
     "output_type": "display_data"
    },
    {
     "name": "stderr",
     "output_type": "stream",
     "text": [
      "Sampling 6 chains for 2_000 tune and 1_500 draw iterations (12_000 + 9_000 draws total) took 9 seconds.\n",
      "There were 1 divergences after tuning. Increase `target_accept` or reparameterize.\n",
      "Initializing NUTS using jitter+adapt_diag...\n",
      "Multiprocess sampling (6 chains in 6 jobs)\n",
      "NUTS: [ls, amp, ls2]\n"
     ]
    },
    {
     "data": {
      "application/vnd.jupyter.widget-view+json": {
       "model_id": "98d6df6fd5cb46e88a56f635856eb6d7",
       "version_major": 2,
       "version_minor": 0
      },
      "text/plain": [
       "Output()"
      ]
     },
     "metadata": {},
     "output_type": "display_data"
    },
    {
     "data": {
      "text/html": [
       "<pre style=\"white-space:pre;overflow-x:auto;line-height:normal;font-family:Menlo,'DejaVu Sans Mono',consolas,'Courier New',monospace\"></pre>\n"
      ],
      "text/plain": []
     },
     "metadata": {},
     "output_type": "display_data"
    },
    {
     "name": "stderr",
     "output_type": "stream",
     "text": [
      "Sampling 6 chains for 2_000 tune and 1_500 draw iterations (12_000 + 9_000 draws total) took 14 seconds.\n",
      "Initializing NUTS using jitter+adapt_diag...\n",
      "Multiprocess sampling (6 chains in 6 jobs)\n",
      "NUTS: [ls, amp]\n"
     ]
    },
    {
     "data": {
      "application/vnd.jupyter.widget-view+json": {
       "model_id": "27de1713b85e485582c70d128995e5c5",
       "version_major": 2,
       "version_minor": 0
      },
      "text/plain": [
       "Output()"
      ]
     },
     "metadata": {},
     "output_type": "display_data"
    },
    {
     "data": {
      "text/html": [
       "<pre style=\"white-space:pre;overflow-x:auto;line-height:normal;font-family:Menlo,'DejaVu Sans Mono',consolas,'Courier New',monospace\"></pre>\n"
      ],
      "text/plain": []
     },
     "metadata": {},
     "output_type": "display_data"
    },
    {
     "name": "stderr",
     "output_type": "stream",
     "text": [
      "Sampling 6 chains for 2_000 tune and 1_500 draw iterations (12_000 + 9_000 draws total) took 9 seconds.\n",
      "Initializing NUTS using jitter+adapt_diag...\n",
      "Multiprocess sampling (6 chains in 6 jobs)\n",
      "NUTS: [ls, amp, ls2]\n"
     ]
    },
    {
     "data": {
      "application/vnd.jupyter.widget-view+json": {
       "model_id": "7208f564fc1d4f598edece6047bd7ef4",
       "version_major": 2,
       "version_minor": 0
      },
      "text/plain": [
       "Output()"
      ]
     },
     "metadata": {},
     "output_type": "display_data"
    },
    {
     "data": {
      "text/html": [
       "<pre style=\"white-space:pre;overflow-x:auto;line-height:normal;font-family:Menlo,'DejaVu Sans Mono',consolas,'Courier New',monospace\"></pre>\n"
      ],
      "text/plain": []
     },
     "metadata": {},
     "output_type": "display_data"
    },
    {
     "name": "stderr",
     "output_type": "stream",
     "text": [
      "Sampling 6 chains for 2_000 tune and 1_500 draw iterations (12_000 + 9_000 draws total) took 13 seconds.\n",
      "Initializing NUTS using jitter+adapt_diag...\n",
      "Multiprocess sampling (6 chains in 6 jobs)\n",
      "NUTS: [ls, amp]\n"
     ]
    },
    {
     "data": {
      "application/vnd.jupyter.widget-view+json": {
       "model_id": "4d23f45135bd420bbfc715ea79ce4ec0",
       "version_major": 2,
       "version_minor": 0
      },
      "text/plain": [
       "Output()"
      ]
     },
     "metadata": {},
     "output_type": "display_data"
    },
    {
     "data": {
      "text/html": [
       "<pre style=\"white-space:pre;overflow-x:auto;line-height:normal;font-family:Menlo,'DejaVu Sans Mono',consolas,'Courier New',monospace\"></pre>\n"
      ],
      "text/plain": []
     },
     "metadata": {},
     "output_type": "display_data"
    },
    {
     "name": "stderr",
     "output_type": "stream",
     "text": [
      "Sampling 6 chains for 2_000 tune and 1_500 draw iterations (12_000 + 9_000 draws total) took 10 seconds.\n",
      "There were 1 divergences after tuning. Increase `target_accept` or reparameterize.\n",
      "Initializing NUTS using jitter+adapt_diag...\n",
      "Multiprocess sampling (6 chains in 6 jobs)\n",
      "NUTS: [ls, amp, ls2]\n"
     ]
    },
    {
     "data": {
      "application/vnd.jupyter.widget-view+json": {
       "model_id": "6f0a0b71958341238dd59387ca014131",
       "version_major": 2,
       "version_minor": 0
      },
      "text/plain": [
       "Output()"
      ]
     },
     "metadata": {},
     "output_type": "display_data"
    },
    {
     "data": {
      "text/html": [
       "<pre style=\"white-space:pre;overflow-x:auto;line-height:normal;font-family:Menlo,'DejaVu Sans Mono',consolas,'Courier New',monospace\"></pre>\n"
      ],
      "text/plain": []
     },
     "metadata": {},
     "output_type": "display_data"
    },
    {
     "name": "stderr",
     "output_type": "stream",
     "text": [
      "Sampling 6 chains for 2_000 tune and 1_500 draw iterations (12_000 + 9_000 draws total) took 14 seconds.\n",
      "Initializing NUTS using jitter+adapt_diag...\n",
      "Multiprocess sampling (6 chains in 6 jobs)\n",
      "NUTS: [ls, amp]\n"
     ]
    },
    {
     "data": {
      "application/vnd.jupyter.widget-view+json": {
       "model_id": "7cbdf357f1da4dccac4348922928d576",
       "version_major": 2,
       "version_minor": 0
      },
      "text/plain": [
       "Output()"
      ]
     },
     "metadata": {},
     "output_type": "display_data"
    },
    {
     "data": {
      "text/html": [
       "<pre style=\"white-space:pre;overflow-x:auto;line-height:normal;font-family:Menlo,'DejaVu Sans Mono',consolas,'Courier New',monospace\"></pre>\n"
      ],
      "text/plain": []
     },
     "metadata": {},
     "output_type": "display_data"
    },
    {
     "name": "stderr",
     "output_type": "stream",
     "text": [
      "Sampling 6 chains for 2_000 tune and 1_500 draw iterations (12_000 + 9_000 draws total) took 10 seconds.\n",
      "Initializing NUTS using jitter+adapt_diag...\n",
      "Multiprocess sampling (6 chains in 6 jobs)\n",
      "NUTS: [ls, amp, ls2]\n"
     ]
    },
    {
     "data": {
      "application/vnd.jupyter.widget-view+json": {
       "model_id": "6f73d5addc5047aca4184ac30f9ccf2a",
       "version_major": 2,
       "version_minor": 0
      },
      "text/plain": [
       "Output()"
      ]
     },
     "metadata": {},
     "output_type": "display_data"
    },
    {
     "data": {
      "text/html": [
       "<pre style=\"white-space:pre;overflow-x:auto;line-height:normal;font-family:Menlo,'DejaVu Sans Mono',consolas,'Courier New',monospace\"></pre>\n"
      ],
      "text/plain": []
     },
     "metadata": {},
     "output_type": "display_data"
    },
    {
     "name": "stderr",
     "output_type": "stream",
     "text": [
      "Sampling 6 chains for 2_000 tune and 1_500 draw iterations (12_000 + 9_000 draws total) took 14 seconds.\n",
      "Initializing NUTS using jitter+adapt_diag...\n",
      "Multiprocess sampling (6 chains in 6 jobs)\n",
      "NUTS: [ls, amp]\n"
     ]
    },
    {
     "data": {
      "application/vnd.jupyter.widget-view+json": {
       "model_id": "7565de5f3ce548f980298ca1e54672ea",
       "version_major": 2,
       "version_minor": 0
      },
      "text/plain": [
       "Output()"
      ]
     },
     "metadata": {},
     "output_type": "display_data"
    },
    {
     "data": {
      "text/html": [
       "<pre style=\"white-space:pre;overflow-x:auto;line-height:normal;font-family:Menlo,'DejaVu Sans Mono',consolas,'Courier New',monospace\"></pre>\n"
      ],
      "text/plain": []
     },
     "metadata": {},
     "output_type": "display_data"
    },
    {
     "name": "stderr",
     "output_type": "stream",
     "text": [
      "Sampling 6 chains for 2_000 tune and 1_500 draw iterations (12_000 + 9_000 draws total) took 9 seconds.\n",
      "Initializing NUTS using jitter+adapt_diag...\n",
      "Multiprocess sampling (6 chains in 6 jobs)\n",
      "NUTS: [ls, amp, ls2]\n"
     ]
    },
    {
     "data": {
      "application/vnd.jupyter.widget-view+json": {
       "model_id": "dde709e958af44de948f0de8d50f7a23",
       "version_major": 2,
       "version_minor": 0
      },
      "text/plain": [
       "Output()"
      ]
     },
     "metadata": {},
     "output_type": "display_data"
    },
    {
     "data": {
      "text/html": [
       "<pre style=\"white-space:pre;overflow-x:auto;line-height:normal;font-family:Menlo,'DejaVu Sans Mono',consolas,'Courier New',monospace\"></pre>\n"
      ],
      "text/plain": []
     },
     "metadata": {},
     "output_type": "display_data"
    },
    {
     "name": "stderr",
     "output_type": "stream",
     "text": [
      "Sampling 6 chains for 2_000 tune and 1_500 draw iterations (12_000 + 9_000 draws total) took 13 seconds.\n",
      "Initializing NUTS using jitter+adapt_diag...\n",
      "Multiprocess sampling (6 chains in 6 jobs)\n",
      "NUTS: [ls, amp]\n"
     ]
    },
    {
     "data": {
      "application/vnd.jupyter.widget-view+json": {
       "model_id": "e11fdab153cc48e6a71fa4801de69de3",
       "version_major": 2,
       "version_minor": 0
      },
      "text/plain": [
       "Output()"
      ]
     },
     "metadata": {},
     "output_type": "display_data"
    },
    {
     "data": {
      "text/html": [
       "<pre style=\"white-space:pre;overflow-x:auto;line-height:normal;font-family:Menlo,'DejaVu Sans Mono',consolas,'Courier New',monospace\"></pre>\n"
      ],
      "text/plain": []
     },
     "metadata": {},
     "output_type": "display_data"
    },
    {
     "name": "stderr",
     "output_type": "stream",
     "text": [
      "Sampling 6 chains for 2_000 tune and 1_500 draw iterations (12_000 + 9_000 draws total) took 10 seconds.\n",
      "Initializing NUTS using jitter+adapt_diag...\n",
      "Multiprocess sampling (6 chains in 6 jobs)\n",
      "NUTS: [ls, amp, ls2]\n"
     ]
    },
    {
     "data": {
      "application/vnd.jupyter.widget-view+json": {
       "model_id": "b8ba069aab604d79896446a3a79b09e1",
       "version_major": 2,
       "version_minor": 0
      },
      "text/plain": [
       "Output()"
      ]
     },
     "metadata": {},
     "output_type": "display_data"
    },
    {
     "data": {
      "text/html": [
       "<pre style=\"white-space:pre;overflow-x:auto;line-height:normal;font-family:Menlo,'DejaVu Sans Mono',consolas,'Courier New',monospace\"></pre>\n"
      ],
      "text/plain": []
     },
     "metadata": {},
     "output_type": "display_data"
    },
    {
     "name": "stderr",
     "output_type": "stream",
     "text": [
      "Sampling 6 chains for 2_000 tune and 1_500 draw iterations (12_000 + 9_000 draws total) took 14 seconds.\n",
      "Initializing NUTS using jitter+adapt_diag...\n",
      "Multiprocess sampling (6 chains in 6 jobs)\n",
      "NUTS: [ls, amp]\n"
     ]
    },
    {
     "data": {
      "application/vnd.jupyter.widget-view+json": {
       "model_id": "570b833323d04290b78c4606eb148b17",
       "version_major": 2,
       "version_minor": 0
      },
      "text/plain": [
       "Output()"
      ]
     },
     "metadata": {},
     "output_type": "display_data"
    },
    {
     "data": {
      "text/html": [
       "<pre style=\"white-space:pre;overflow-x:auto;line-height:normal;font-family:Menlo,'DejaVu Sans Mono',consolas,'Courier New',monospace\"></pre>\n"
      ],
      "text/plain": []
     },
     "metadata": {},
     "output_type": "display_data"
    },
    {
     "name": "stderr",
     "output_type": "stream",
     "text": [
      "Sampling 6 chains for 2_000 tune and 1_500 draw iterations (12_000 + 9_000 draws total) took 9 seconds.\n",
      "There were 1 divergences after tuning. Increase `target_accept` or reparameterize.\n",
      "Initializing NUTS using jitter+adapt_diag...\n",
      "Multiprocess sampling (6 chains in 6 jobs)\n",
      "NUTS: [ls, amp, ls2]\n"
     ]
    },
    {
     "data": {
      "application/vnd.jupyter.widget-view+json": {
       "model_id": "bce449e8778b4b74a533036b7c6fd678",
       "version_major": 2,
       "version_minor": 0
      },
      "text/plain": [
       "Output()"
      ]
     },
     "metadata": {},
     "output_type": "display_data"
    },
    {
     "data": {
      "text/html": [
       "<pre style=\"white-space:pre;overflow-x:auto;line-height:normal;font-family:Menlo,'DejaVu Sans Mono',consolas,'Courier New',monospace\"></pre>\n"
      ],
      "text/plain": []
     },
     "metadata": {},
     "output_type": "display_data"
    },
    {
     "name": "stderr",
     "output_type": "stream",
     "text": [
      "Sampling 6 chains for 2_000 tune and 1_500 draw iterations (12_000 + 9_000 draws total) took 12 seconds.\n",
      "Initializing NUTS using jitter+adapt_diag...\n",
      "Multiprocess sampling (6 chains in 6 jobs)\n",
      "NUTS: [ls, amp]\n"
     ]
    },
    {
     "data": {
      "application/vnd.jupyter.widget-view+json": {
       "model_id": "1baeb62037c74978b657b8a95d273367",
       "version_major": 2,
       "version_minor": 0
      },
      "text/plain": [
       "Output()"
      ]
     },
     "metadata": {},
     "output_type": "display_data"
    },
    {
     "data": {
      "text/html": [
       "<pre style=\"white-space:pre;overflow-x:auto;line-height:normal;font-family:Menlo,'DejaVu Sans Mono',consolas,'Courier New',monospace\"></pre>\n"
      ],
      "text/plain": []
     },
     "metadata": {},
     "output_type": "display_data"
    },
    {
     "name": "stderr",
     "output_type": "stream",
     "text": [
      "Sampling 6 chains for 2_000 tune and 1_500 draw iterations (12_000 + 9_000 draws total) took 10 seconds.\n",
      "There were 10 divergences after tuning. Increase `target_accept` or reparameterize.\n",
      "Initializing NUTS using jitter+adapt_diag...\n",
      "Multiprocess sampling (6 chains in 6 jobs)\n",
      "NUTS: [ls, amp, ls2]\n"
     ]
    },
    {
     "data": {
      "application/vnd.jupyter.widget-view+json": {
       "model_id": "323f06b523e6418c9ed665ab3a197197",
       "version_major": 2,
       "version_minor": 0
      },
      "text/plain": [
       "Output()"
      ]
     },
     "metadata": {},
     "output_type": "display_data"
    },
    {
     "data": {
      "text/html": [
       "<pre style=\"white-space:pre;overflow-x:auto;line-height:normal;font-family:Menlo,'DejaVu Sans Mono',consolas,'Courier New',monospace\"></pre>\n"
      ],
      "text/plain": []
     },
     "metadata": {},
     "output_type": "display_data"
    },
    {
     "name": "stderr",
     "output_type": "stream",
     "text": [
      "Sampling 6 chains for 2_000 tune and 1_500 draw iterations (12_000 + 9_000 draws total) took 13 seconds.\n",
      "Initializing NUTS using jitter+adapt_diag...\n",
      "Multiprocess sampling (6 chains in 6 jobs)\n",
      "NUTS: [ls, amp]\n"
     ]
    },
    {
     "data": {
      "application/vnd.jupyter.widget-view+json": {
       "model_id": "635f58768269453480bb44438b85377d",
       "version_major": 2,
       "version_minor": 0
      },
      "text/plain": [
       "Output()"
      ]
     },
     "metadata": {},
     "output_type": "display_data"
    },
    {
     "data": {
      "text/html": [
       "<pre style=\"white-space:pre;overflow-x:auto;line-height:normal;font-family:Menlo,'DejaVu Sans Mono',consolas,'Courier New',monospace\"></pre>\n"
      ],
      "text/plain": []
     },
     "metadata": {},
     "output_type": "display_data"
    },
    {
     "name": "stderr",
     "output_type": "stream",
     "text": [
      "Sampling 6 chains for 2_000 tune and 1_500 draw iterations (12_000 + 9_000 draws total) took 10 seconds.\n",
      "Initializing NUTS using jitter+adapt_diag...\n",
      "Multiprocess sampling (6 chains in 6 jobs)\n",
      "NUTS: [ls, amp, ls2]\n"
     ]
    },
    {
     "data": {
      "application/vnd.jupyter.widget-view+json": {
       "model_id": "8fa00c9c087b4ce281f5c76613e0665b",
       "version_major": 2,
       "version_minor": 0
      },
      "text/plain": [
       "Output()"
      ]
     },
     "metadata": {},
     "output_type": "display_data"
    },
    {
     "data": {
      "text/html": [
       "<pre style=\"white-space:pre;overflow-x:auto;line-height:normal;font-family:Menlo,'DejaVu Sans Mono',consolas,'Courier New',monospace\"></pre>\n"
      ],
      "text/plain": []
     },
     "metadata": {},
     "output_type": "display_data"
    },
    {
     "name": "stderr",
     "output_type": "stream",
     "text": [
      "Sampling 6 chains for 2_000 tune and 1_500 draw iterations (12_000 + 9_000 draws total) took 13 seconds.\n",
      "Initializing NUTS using jitter+adapt_diag...\n",
      "Multiprocess sampling (6 chains in 6 jobs)\n",
      "NUTS: [ls, amp]\n"
     ]
    },
    {
     "data": {
      "application/vnd.jupyter.widget-view+json": {
       "model_id": "85d73533415b4e4a9af9dabfe2892193",
       "version_major": 2,
       "version_minor": 0
      },
      "text/plain": [
       "Output()"
      ]
     },
     "metadata": {},
     "output_type": "display_data"
    },
    {
     "data": {
      "text/html": [
       "<pre style=\"white-space:pre;overflow-x:auto;line-height:normal;font-family:Menlo,'DejaVu Sans Mono',consolas,'Courier New',monospace\"></pre>\n"
      ],
      "text/plain": []
     },
     "metadata": {},
     "output_type": "display_data"
    },
    {
     "name": "stderr",
     "output_type": "stream",
     "text": [
      "Sampling 6 chains for 2_000 tune and 1_500 draw iterations (12_000 + 9_000 draws total) took 10 seconds.\n",
      "Initializing NUTS using jitter+adapt_diag...\n",
      "Multiprocess sampling (6 chains in 6 jobs)\n",
      "NUTS: [ls, amp, ls2]\n"
     ]
    },
    {
     "data": {
      "application/vnd.jupyter.widget-view+json": {
       "model_id": "f9d5a00237764472ba5e138fc1c163f2",
       "version_major": 2,
       "version_minor": 0
      },
      "text/plain": [
       "Output()"
      ]
     },
     "metadata": {},
     "output_type": "display_data"
    },
    {
     "data": {
      "text/html": [
       "<pre style=\"white-space:pre;overflow-x:auto;line-height:normal;font-family:Menlo,'DejaVu Sans Mono',consolas,'Courier New',monospace\"></pre>\n"
      ],
      "text/plain": []
     },
     "metadata": {},
     "output_type": "display_data"
    },
    {
     "name": "stderr",
     "output_type": "stream",
     "text": [
      "Sampling 6 chains for 2_000 tune and 1_500 draw iterations (12_000 + 9_000 draws total) took 14 seconds.\n",
      "Initializing NUTS using jitter+adapt_diag...\n",
      "Multiprocess sampling (6 chains in 6 jobs)\n",
      "NUTS: [ls, amp]\n"
     ]
    },
    {
     "data": {
      "application/vnd.jupyter.widget-view+json": {
       "model_id": "edcc9211de6f45d29559c20b6ff8ae92",
       "version_major": 2,
       "version_minor": 0
      },
      "text/plain": [
       "Output()"
      ]
     },
     "metadata": {},
     "output_type": "display_data"
    },
    {
     "data": {
      "text/html": [
       "<pre style=\"white-space:pre;overflow-x:auto;line-height:normal;font-family:Menlo,'DejaVu Sans Mono',consolas,'Courier New',monospace\"></pre>\n"
      ],
      "text/plain": []
     },
     "metadata": {},
     "output_type": "display_data"
    },
    {
     "name": "stderr",
     "output_type": "stream",
     "text": [
      "Sampling 6 chains for 2_000 tune and 1_500 draw iterations (12_000 + 9_000 draws total) took 11 seconds.\n",
      "There were 3 divergences after tuning. Increase `target_accept` or reparameterize.\n",
      "Initializing NUTS using jitter+adapt_diag...\n",
      "Multiprocess sampling (6 chains in 6 jobs)\n",
      "NUTS: [ls, amp, ls2]\n"
     ]
    },
    {
     "data": {
      "application/vnd.jupyter.widget-view+json": {
       "model_id": "735da6d01fe147d3ac443fc8461687ea",
       "version_major": 2,
       "version_minor": 0
      },
      "text/plain": [
       "Output()"
      ]
     },
     "metadata": {},
     "output_type": "display_data"
    },
    {
     "data": {
      "text/html": [
       "<pre style=\"white-space:pre;overflow-x:auto;line-height:normal;font-family:Menlo,'DejaVu Sans Mono',consolas,'Courier New',monospace\"></pre>\n"
      ],
      "text/plain": []
     },
     "metadata": {},
     "output_type": "display_data"
    },
    {
     "name": "stderr",
     "output_type": "stream",
     "text": [
      "Sampling 6 chains for 2_000 tune and 1_500 draw iterations (12_000 + 9_000 draws total) took 14 seconds.\n",
      "Initializing NUTS using jitter+adapt_diag...\n",
      "Multiprocess sampling (6 chains in 6 jobs)\n",
      "NUTS: [ls, amp]\n"
     ]
    },
    {
     "data": {
      "application/vnd.jupyter.widget-view+json": {
       "model_id": "fe0a7ebfdc834b2eb77d942059357d1e",
       "version_major": 2,
       "version_minor": 0
      },
      "text/plain": [
       "Output()"
      ]
     },
     "metadata": {},
     "output_type": "display_data"
    },
    {
     "data": {
      "text/html": [
       "<pre style=\"white-space:pre;overflow-x:auto;line-height:normal;font-family:Menlo,'DejaVu Sans Mono',consolas,'Courier New',monospace\"></pre>\n"
      ],
      "text/plain": []
     },
     "metadata": {},
     "output_type": "display_data"
    },
    {
     "name": "stderr",
     "output_type": "stream",
     "text": [
      "Sampling 6 chains for 2_000 tune and 1_500 draw iterations (12_000 + 9_000 draws total) took 9 seconds.\n",
      "There were 1 divergences after tuning. Increase `target_accept` or reparameterize.\n",
      "Initializing NUTS using jitter+adapt_diag...\n",
      "Multiprocess sampling (6 chains in 6 jobs)\n",
      "NUTS: [ls, amp, ls2]\n"
     ]
    },
    {
     "data": {
      "application/vnd.jupyter.widget-view+json": {
       "model_id": "9f1092012db245b9a4809910c1019196",
       "version_major": 2,
       "version_minor": 0
      },
      "text/plain": [
       "Output()"
      ]
     },
     "metadata": {},
     "output_type": "display_data"
    },
    {
     "data": {
      "text/html": [
       "<pre style=\"white-space:pre;overflow-x:auto;line-height:normal;font-family:Menlo,'DejaVu Sans Mono',consolas,'Courier New',monospace\"></pre>\n"
      ],
      "text/plain": []
     },
     "metadata": {},
     "output_type": "display_data"
    },
    {
     "name": "stderr",
     "output_type": "stream",
     "text": [
      "Sampling 6 chains for 2_000 tune and 1_500 draw iterations (12_000 + 9_000 draws total) took 13 seconds.\n",
      "Initializing NUTS using jitter+adapt_diag...\n",
      "Multiprocess sampling (6 chains in 6 jobs)\n",
      "NUTS: [ls, amp]\n"
     ]
    },
    {
     "data": {
      "application/vnd.jupyter.widget-view+json": {
       "model_id": "c5f031da9d584104b76d2ca8a3ce87ff",
       "version_major": 2,
       "version_minor": 0
      },
      "text/plain": [
       "Output()"
      ]
     },
     "metadata": {},
     "output_type": "display_data"
    },
    {
     "data": {
      "text/html": [
       "<pre style=\"white-space:pre;overflow-x:auto;line-height:normal;font-family:Menlo,'DejaVu Sans Mono',consolas,'Courier New',monospace\"></pre>\n"
      ],
      "text/plain": []
     },
     "metadata": {},
     "output_type": "display_data"
    },
    {
     "name": "stderr",
     "output_type": "stream",
     "text": [
      "Sampling 6 chains for 2_000 tune and 1_500 draw iterations (12_000 + 9_000 draws total) took 11 seconds.\n",
      "There were 1 divergences after tuning. Increase `target_accept` or reparameterize.\n",
      "Initializing NUTS using jitter+adapt_diag...\n",
      "Multiprocess sampling (6 chains in 6 jobs)\n",
      "NUTS: [ls, amp, ls2]\n"
     ]
    },
    {
     "data": {
      "application/vnd.jupyter.widget-view+json": {
       "model_id": "db2b4f9df834409f96b80ec44979999b",
       "version_major": 2,
       "version_minor": 0
      },
      "text/plain": [
       "Output()"
      ]
     },
     "metadata": {},
     "output_type": "display_data"
    },
    {
     "data": {
      "text/html": [
       "<pre style=\"white-space:pre;overflow-x:auto;line-height:normal;font-family:Menlo,'DejaVu Sans Mono',consolas,'Courier New',monospace\"></pre>\n"
      ],
      "text/plain": []
     },
     "metadata": {},
     "output_type": "display_data"
    },
    {
     "name": "stderr",
     "output_type": "stream",
     "text": [
      "Sampling 6 chains for 2_000 tune and 1_500 draw iterations (12_000 + 9_000 draws total) took 14 seconds.\n",
      "Initializing NUTS using jitter+adapt_diag...\n",
      "Multiprocess sampling (6 chains in 6 jobs)\n",
      "NUTS: [ls, amp]\n"
     ]
    },
    {
     "data": {
      "application/vnd.jupyter.widget-view+json": {
       "model_id": "4c1284b8d1e546ebb82a8cc385971b2f",
       "version_major": 2,
       "version_minor": 0
      },
      "text/plain": [
       "Output()"
      ]
     },
     "metadata": {},
     "output_type": "display_data"
    },
    {
     "data": {
      "text/html": [
       "<pre style=\"white-space:pre;overflow-x:auto;line-height:normal;font-family:Menlo,'DejaVu Sans Mono',consolas,'Courier New',monospace\"></pre>\n"
      ],
      "text/plain": []
     },
     "metadata": {},
     "output_type": "display_data"
    },
    {
     "name": "stderr",
     "output_type": "stream",
     "text": [
      "Sampling 6 chains for 2_000 tune and 1_500 draw iterations (12_000 + 9_000 draws total) took 9 seconds.\n",
      "There were 2 divergences after tuning. Increase `target_accept` or reparameterize.\n",
      "Initializing NUTS using jitter+adapt_diag...\n",
      "Multiprocess sampling (6 chains in 6 jobs)\n",
      "NUTS: [ls, amp, ls2]\n"
     ]
    },
    {
     "data": {
      "application/vnd.jupyter.widget-view+json": {
       "model_id": "17ad824756a64751afd5a04e6e5ef860",
       "version_major": 2,
       "version_minor": 0
      },
      "text/plain": [
       "Output()"
      ]
     },
     "metadata": {},
     "output_type": "display_data"
    },
    {
     "data": {
      "text/html": [
       "<pre style=\"white-space:pre;overflow-x:auto;line-height:normal;font-family:Menlo,'DejaVu Sans Mono',consolas,'Courier New',monospace\"></pre>\n"
      ],
      "text/plain": []
     },
     "metadata": {},
     "output_type": "display_data"
    },
    {
     "name": "stderr",
     "output_type": "stream",
     "text": [
      "Sampling 6 chains for 2_000 tune and 1_500 draw iterations (12_000 + 9_000 draws total) took 13 seconds.\n",
      "Initializing NUTS using jitter+adapt_diag...\n",
      "Multiprocess sampling (6 chains in 6 jobs)\n",
      "NUTS: [ls, amp]\n"
     ]
    },
    {
     "data": {
      "application/vnd.jupyter.widget-view+json": {
       "model_id": "9e5938825078475f9ca180b5bd5b65ff",
       "version_major": 2,
       "version_minor": 0
      },
      "text/plain": [
       "Output()"
      ]
     },
     "metadata": {},
     "output_type": "display_data"
    },
    {
     "data": {
      "text/html": [
       "<pre style=\"white-space:pre;overflow-x:auto;line-height:normal;font-family:Menlo,'DejaVu Sans Mono',consolas,'Courier New',monospace\"></pre>\n"
      ],
      "text/plain": []
     },
     "metadata": {},
     "output_type": "display_data"
    },
    {
     "name": "stderr",
     "output_type": "stream",
     "text": [
      "Sampling 6 chains for 2_000 tune and 1_500 draw iterations (12_000 + 9_000 draws total) took 10 seconds.\n",
      "Initializing NUTS using jitter+adapt_diag...\n",
      "Multiprocess sampling (6 chains in 6 jobs)\n",
      "NUTS: [ls, amp, ls2]\n"
     ]
    },
    {
     "data": {
      "application/vnd.jupyter.widget-view+json": {
       "model_id": "78ad5d56636848619af38c048361a104",
       "version_major": 2,
       "version_minor": 0
      },
      "text/plain": [
       "Output()"
      ]
     },
     "metadata": {},
     "output_type": "display_data"
    },
    {
     "data": {
      "text/html": [
       "<pre style=\"white-space:pre;overflow-x:auto;line-height:normal;font-family:Menlo,'DejaVu Sans Mono',consolas,'Courier New',monospace\"></pre>\n"
      ],
      "text/plain": []
     },
     "metadata": {},
     "output_type": "display_data"
    },
    {
     "name": "stderr",
     "output_type": "stream",
     "text": [
      "Sampling 6 chains for 2_000 tune and 1_500 draw iterations (12_000 + 9_000 draws total) took 13 seconds.\n",
      "Initializing NUTS using jitter+adapt_diag...\n",
      "Multiprocess sampling (6 chains in 6 jobs)\n",
      "NUTS: [ls, amp]\n"
     ]
    },
    {
     "data": {
      "application/vnd.jupyter.widget-view+json": {
       "model_id": "ad3b538117c64cf889512e3502f4f898",
       "version_major": 2,
       "version_minor": 0
      },
      "text/plain": [
       "Output()"
      ]
     },
     "metadata": {},
     "output_type": "display_data"
    },
    {
     "data": {
      "text/html": [
       "<pre style=\"white-space:pre;overflow-x:auto;line-height:normal;font-family:Menlo,'DejaVu Sans Mono',consolas,'Courier New',monospace\"></pre>\n"
      ],
      "text/plain": []
     },
     "metadata": {},
     "output_type": "display_data"
    },
    {
     "name": "stderr",
     "output_type": "stream",
     "text": [
      "Sampling 6 chains for 2_000 tune and 1_500 draw iterations (12_000 + 9_000 draws total) took 9 seconds.\n",
      "There were 1 divergences after tuning. Increase `target_accept` or reparameterize.\n",
      "Initializing NUTS using jitter+adapt_diag...\n",
      "Multiprocess sampling (6 chains in 6 jobs)\n",
      "NUTS: [ls, amp, ls2]\n"
     ]
    },
    {
     "data": {
      "application/vnd.jupyter.widget-view+json": {
       "model_id": "ac82c3f50f97427e823a603d04237622",
       "version_major": 2,
       "version_minor": 0
      },
      "text/plain": [
       "Output()"
      ]
     },
     "metadata": {},
     "output_type": "display_data"
    },
    {
     "data": {
      "text/html": [
       "<pre style=\"white-space:pre;overflow-x:auto;line-height:normal;font-family:Menlo,'DejaVu Sans Mono',consolas,'Courier New',monospace\"></pre>\n"
      ],
      "text/plain": []
     },
     "metadata": {},
     "output_type": "display_data"
    },
    {
     "name": "stderr",
     "output_type": "stream",
     "text": [
      "Sampling 6 chains for 2_000 tune and 1_500 draw iterations (12_000 + 9_000 draws total) took 14 seconds.\n",
      "Initializing NUTS using jitter+adapt_diag...\n",
      "Multiprocess sampling (6 chains in 6 jobs)\n",
      "NUTS: [ls, amp]\n"
     ]
    },
    {
     "data": {
      "application/vnd.jupyter.widget-view+json": {
       "model_id": "6d4ebb1e74a147889a65b1cb6db7d034",
       "version_major": 2,
       "version_minor": 0
      },
      "text/plain": [
       "Output()"
      ]
     },
     "metadata": {},
     "output_type": "display_data"
    },
    {
     "data": {
      "text/html": [
       "<pre style=\"white-space:pre;overflow-x:auto;line-height:normal;font-family:Menlo,'DejaVu Sans Mono',consolas,'Courier New',monospace\"></pre>\n"
      ],
      "text/plain": []
     },
     "metadata": {},
     "output_type": "display_data"
    },
    {
     "name": "stderr",
     "output_type": "stream",
     "text": [
      "Sampling 6 chains for 2_000 tune and 1_500 draw iterations (12_000 + 9_000 draws total) took 10 seconds.\n",
      "Initializing NUTS using jitter+adapt_diag...\n",
      "Multiprocess sampling (6 chains in 6 jobs)\n",
      "NUTS: [ls, amp, ls2]\n"
     ]
    },
    {
     "data": {
      "application/vnd.jupyter.widget-view+json": {
       "model_id": "54c51f6ec0114399ba12c8558c9978ef",
       "version_major": 2,
       "version_minor": 0
      },
      "text/plain": [
       "Output()"
      ]
     },
     "metadata": {},
     "output_type": "display_data"
    },
    {
     "data": {
      "text/html": [
       "<pre style=\"white-space:pre;overflow-x:auto;line-height:normal;font-family:Menlo,'DejaVu Sans Mono',consolas,'Courier New',monospace\"></pre>\n"
      ],
      "text/plain": []
     },
     "metadata": {},
     "output_type": "display_data"
    },
    {
     "name": "stderr",
     "output_type": "stream",
     "text": [
      "Sampling 6 chains for 2_000 tune and 1_500 draw iterations (12_000 + 9_000 draws total) took 13 seconds.\n",
      "Initializing NUTS using jitter+adapt_diag...\n",
      "Multiprocess sampling (6 chains in 6 jobs)\n",
      "NUTS: [ls, amp]\n"
     ]
    },
    {
     "data": {
      "application/vnd.jupyter.widget-view+json": {
       "model_id": "b3e65114935d452897889118c202893f",
       "version_major": 2,
       "version_minor": 0
      },
      "text/plain": [
       "Output()"
      ]
     },
     "metadata": {},
     "output_type": "display_data"
    },
    {
     "data": {
      "text/html": [
       "<pre style=\"white-space:pre;overflow-x:auto;line-height:normal;font-family:Menlo,'DejaVu Sans Mono',consolas,'Courier New',monospace\"></pre>\n"
      ],
      "text/plain": []
     },
     "metadata": {},
     "output_type": "display_data"
    },
    {
     "name": "stderr",
     "output_type": "stream",
     "text": [
      "Sampling 6 chains for 2_000 tune and 1_500 draw iterations (12_000 + 9_000 draws total) took 10 seconds.\n",
      "There were 1 divergences after tuning. Increase `target_accept` or reparameterize.\n",
      "Initializing NUTS using jitter+adapt_diag...\n",
      "Multiprocess sampling (6 chains in 6 jobs)\n",
      "NUTS: [ls, amp, ls2]\n"
     ]
    },
    {
     "data": {
      "application/vnd.jupyter.widget-view+json": {
       "model_id": "0ec1c2998f6a4425993533cd227c3f5e",
       "version_major": 2,
       "version_minor": 0
      },
      "text/plain": [
       "Output()"
      ]
     },
     "metadata": {},
     "output_type": "display_data"
    },
    {
     "data": {
      "text/html": [
       "<pre style=\"white-space:pre;overflow-x:auto;line-height:normal;font-family:Menlo,'DejaVu Sans Mono',consolas,'Courier New',monospace\"></pre>\n"
      ],
      "text/plain": []
     },
     "metadata": {},
     "output_type": "display_data"
    },
    {
     "name": "stderr",
     "output_type": "stream",
     "text": [
      "Sampling 6 chains for 2_000 tune and 1_500 draw iterations (12_000 + 9_000 draws total) took 14 seconds.\n",
      "Initializing NUTS using jitter+adapt_diag...\n",
      "Multiprocess sampling (6 chains in 6 jobs)\n",
      "NUTS: [ls, amp]\n"
     ]
    },
    {
     "data": {
      "application/vnd.jupyter.widget-view+json": {
       "model_id": "798962ccf2b64c98a62ee27c67b1a7fc",
       "version_major": 2,
       "version_minor": 0
      },
      "text/plain": [
       "Output()"
      ]
     },
     "metadata": {},
     "output_type": "display_data"
    },
    {
     "data": {
      "text/html": [
       "<pre style=\"white-space:pre;overflow-x:auto;line-height:normal;font-family:Menlo,'DejaVu Sans Mono',consolas,'Courier New',monospace\"></pre>\n"
      ],
      "text/plain": []
     },
     "metadata": {},
     "output_type": "display_data"
    },
    {
     "name": "stderr",
     "output_type": "stream",
     "text": [
      "Sampling 6 chains for 2_000 tune and 1_500 draw iterations (12_000 + 9_000 draws total) took 10 seconds.\n",
      "There were 3 divergences after tuning. Increase `target_accept` or reparameterize.\n",
      "Initializing NUTS using jitter+adapt_diag...\n",
      "Multiprocess sampling (6 chains in 6 jobs)\n",
      "NUTS: [ls, amp, ls2]\n"
     ]
    },
    {
     "data": {
      "application/vnd.jupyter.widget-view+json": {
       "model_id": "101650a6db554bfc88bed525d65fc886",
       "version_major": 2,
       "version_minor": 0
      },
      "text/plain": [
       "Output()"
      ]
     },
     "metadata": {},
     "output_type": "display_data"
    },
    {
     "data": {
      "text/html": [
       "<pre style=\"white-space:pre;overflow-x:auto;line-height:normal;font-family:Menlo,'DejaVu Sans Mono',consolas,'Courier New',monospace\"></pre>\n"
      ],
      "text/plain": []
     },
     "metadata": {},
     "output_type": "display_data"
    },
    {
     "name": "stderr",
     "output_type": "stream",
     "text": [
      "Sampling 6 chains for 2_000 tune and 1_500 draw iterations (12_000 + 9_000 draws total) took 13 seconds.\n",
      "Initializing NUTS using jitter+adapt_diag...\n",
      "Multiprocess sampling (6 chains in 6 jobs)\n",
      "NUTS: [ls, amp]\n"
     ]
    },
    {
     "data": {
      "application/vnd.jupyter.widget-view+json": {
       "model_id": "6da64370d3044837bb71dfb3e7630415",
       "version_major": 2,
       "version_minor": 0
      },
      "text/plain": [
       "Output()"
      ]
     },
     "metadata": {},
     "output_type": "display_data"
    },
    {
     "data": {
      "text/html": [
       "<pre style=\"white-space:pre;overflow-x:auto;line-height:normal;font-family:Menlo,'DejaVu Sans Mono',consolas,'Courier New',monospace\"></pre>\n"
      ],
      "text/plain": []
     },
     "metadata": {},
     "output_type": "display_data"
    },
    {
     "name": "stderr",
     "output_type": "stream",
     "text": [
      "Sampling 6 chains for 2_000 tune and 1_500 draw iterations (12_000 + 9_000 draws total) took 10 seconds.\n",
      "Initializing NUTS using jitter+adapt_diag...\n",
      "Multiprocess sampling (6 chains in 6 jobs)\n",
      "NUTS: [ls, amp, ls2]\n"
     ]
    },
    {
     "data": {
      "application/vnd.jupyter.widget-view+json": {
       "model_id": "99ab5a740b254fe0918007b9f0b144d4",
       "version_major": 2,
       "version_minor": 0
      },
      "text/plain": [
       "Output()"
      ]
     },
     "metadata": {},
     "output_type": "display_data"
    },
    {
     "data": {
      "text/html": [
       "<pre style=\"white-space:pre;overflow-x:auto;line-height:normal;font-family:Menlo,'DejaVu Sans Mono',consolas,'Courier New',monospace\"></pre>\n"
      ],
      "text/plain": []
     },
     "metadata": {},
     "output_type": "display_data"
    },
    {
     "name": "stderr",
     "output_type": "stream",
     "text": [
      "Sampling 6 chains for 2_000 tune and 1_500 draw iterations (12_000 + 9_000 draws total) took 13 seconds.\n",
      "Initializing NUTS using jitter+adapt_diag...\n",
      "Multiprocess sampling (6 chains in 6 jobs)\n",
      "NUTS: [ls, amp]\n"
     ]
    },
    {
     "data": {
      "application/vnd.jupyter.widget-view+json": {
       "model_id": "991aeae22af340319841e6774b7383af",
       "version_major": 2,
       "version_minor": 0
      },
      "text/plain": [
       "Output()"
      ]
     },
     "metadata": {},
     "output_type": "display_data"
    },
    {
     "data": {
      "text/html": [
       "<pre style=\"white-space:pre;overflow-x:auto;line-height:normal;font-family:Menlo,'DejaVu Sans Mono',consolas,'Courier New',monospace\"></pre>\n"
      ],
      "text/plain": []
     },
     "metadata": {},
     "output_type": "display_data"
    },
    {
     "name": "stderr",
     "output_type": "stream",
     "text": [
      "Sampling 6 chains for 2_000 tune and 1_500 draw iterations (12_000 + 9_000 draws total) took 10 seconds.\n",
      "Initializing NUTS using jitter+adapt_diag...\n",
      "Multiprocess sampling (6 chains in 6 jobs)\n",
      "NUTS: [ls, amp, ls2]\n"
     ]
    },
    {
     "data": {
      "application/vnd.jupyter.widget-view+json": {
       "model_id": "9fe69612f1a04c83b7ff27c93518f781",
       "version_major": 2,
       "version_minor": 0
      },
      "text/plain": [
       "Output()"
      ]
     },
     "metadata": {},
     "output_type": "display_data"
    },
    {
     "data": {
      "text/html": [
       "<pre style=\"white-space:pre;overflow-x:auto;line-height:normal;font-family:Menlo,'DejaVu Sans Mono',consolas,'Courier New',monospace\"></pre>\n"
      ],
      "text/plain": []
     },
     "metadata": {},
     "output_type": "display_data"
    },
    {
     "name": "stderr",
     "output_type": "stream",
     "text": [
      "Sampling 6 chains for 2_000 tune and 1_500 draw iterations (12_000 + 9_000 draws total) took 14 seconds.\n",
      "Initializing NUTS using jitter+adapt_diag...\n",
      "Multiprocess sampling (6 chains in 6 jobs)\n",
      "NUTS: [ls, amp]\n"
     ]
    },
    {
     "data": {
      "application/vnd.jupyter.widget-view+json": {
       "model_id": "71f5f2e59eff4980a88de31ff058f889",
       "version_major": 2,
       "version_minor": 0
      },
      "text/plain": [
       "Output()"
      ]
     },
     "metadata": {},
     "output_type": "display_data"
    },
    {
     "data": {
      "text/html": [
       "<pre style=\"white-space:pre;overflow-x:auto;line-height:normal;font-family:Menlo,'DejaVu Sans Mono',consolas,'Courier New',monospace\"></pre>\n"
      ],
      "text/plain": []
     },
     "metadata": {},
     "output_type": "display_data"
    },
    {
     "name": "stderr",
     "output_type": "stream",
     "text": [
      "Sampling 6 chains for 2_000 tune and 1_500 draw iterations (12_000 + 9_000 draws total) took 9 seconds.\n",
      "There were 1 divergences after tuning. Increase `target_accept` or reparameterize.\n",
      "Initializing NUTS using jitter+adapt_diag...\n",
      "Multiprocess sampling (6 chains in 6 jobs)\n",
      "NUTS: [ls, amp, ls2]\n"
     ]
    },
    {
     "data": {
      "application/vnd.jupyter.widget-view+json": {
       "model_id": "3d27f88520e24c92823ff1a696e13a7b",
       "version_major": 2,
       "version_minor": 0
      },
      "text/plain": [
       "Output()"
      ]
     },
     "metadata": {},
     "output_type": "display_data"
    },
    {
     "data": {
      "text/html": [
       "<pre style=\"white-space:pre;overflow-x:auto;line-height:normal;font-family:Menlo,'DejaVu Sans Mono',consolas,'Courier New',monospace\"></pre>\n"
      ],
      "text/plain": []
     },
     "metadata": {},
     "output_type": "display_data"
    },
    {
     "name": "stderr",
     "output_type": "stream",
     "text": [
      "Sampling 6 chains for 2_000 tune and 1_500 draw iterations (12_000 + 9_000 draws total) took 13 seconds.\n",
      "Initializing NUTS using jitter+adapt_diag...\n",
      "Multiprocess sampling (6 chains in 6 jobs)\n",
      "NUTS: [ls, amp]\n"
     ]
    },
    {
     "data": {
      "application/vnd.jupyter.widget-view+json": {
       "model_id": "1510864bf70841cda4ff734edef2ed6a",
       "version_major": 2,
       "version_minor": 0
      },
      "text/plain": [
       "Output()"
      ]
     },
     "metadata": {},
     "output_type": "display_data"
    },
    {
     "data": {
      "text/html": [
       "<pre style=\"white-space:pre;overflow-x:auto;line-height:normal;font-family:Menlo,'DejaVu Sans Mono',consolas,'Courier New',monospace\"></pre>\n"
      ],
      "text/plain": []
     },
     "metadata": {},
     "output_type": "display_data"
    },
    {
     "name": "stderr",
     "output_type": "stream",
     "text": [
      "Sampling 6 chains for 2_000 tune and 1_500 draw iterations (12_000 + 9_000 draws total) took 10 seconds.\n",
      "There were 1 divergences after tuning. Increase `target_accept` or reparameterize.\n",
      "Initializing NUTS using jitter+adapt_diag...\n",
      "Multiprocess sampling (6 chains in 6 jobs)\n",
      "NUTS: [ls, amp, ls2]\n"
     ]
    },
    {
     "data": {
      "application/vnd.jupyter.widget-view+json": {
       "model_id": "b7cc40d276e0418ebed99f215fa665dc",
       "version_major": 2,
       "version_minor": 0
      },
      "text/plain": [
       "Output()"
      ]
     },
     "metadata": {},
     "output_type": "display_data"
    },
    {
     "data": {
      "text/html": [
       "<pre style=\"white-space:pre;overflow-x:auto;line-height:normal;font-family:Menlo,'DejaVu Sans Mono',consolas,'Courier New',monospace\"></pre>\n"
      ],
      "text/plain": []
     },
     "metadata": {},
     "output_type": "display_data"
    },
    {
     "name": "stderr",
     "output_type": "stream",
     "text": [
      "Sampling 6 chains for 2_000 tune and 1_500 draw iterations (12_000 + 9_000 draws total) took 14 seconds.\n",
      "Initializing NUTS using jitter+adapt_diag...\n",
      "Multiprocess sampling (6 chains in 6 jobs)\n",
      "NUTS: [ls, amp]\n"
     ]
    },
    {
     "data": {
      "application/vnd.jupyter.widget-view+json": {
       "model_id": "5544306c8d6a49dbac9f8c2f265eeb1b",
       "version_major": 2,
       "version_minor": 0
      },
      "text/plain": [
       "Output()"
      ]
     },
     "metadata": {},
     "output_type": "display_data"
    },
    {
     "data": {
      "text/html": [
       "<pre style=\"white-space:pre;overflow-x:auto;line-height:normal;font-family:Menlo,'DejaVu Sans Mono',consolas,'Courier New',monospace\"></pre>\n"
      ],
      "text/plain": []
     },
     "metadata": {},
     "output_type": "display_data"
    },
    {
     "name": "stderr",
     "output_type": "stream",
     "text": [
      "Sampling 6 chains for 2_000 tune and 1_500 draw iterations (12_000 + 9_000 draws total) took 9 seconds.\n",
      "Initializing NUTS using jitter+adapt_diag...\n",
      "Multiprocess sampling (6 chains in 6 jobs)\n",
      "NUTS: [ls, amp, ls2]\n"
     ]
    },
    {
     "data": {
      "application/vnd.jupyter.widget-view+json": {
       "model_id": "82693885bb4e4a8e9d21315c353e031a",
       "version_major": 2,
       "version_minor": 0
      },
      "text/plain": [
       "Output()"
      ]
     },
     "metadata": {},
     "output_type": "display_data"
    },
    {
     "data": {
      "text/html": [
       "<pre style=\"white-space:pre;overflow-x:auto;line-height:normal;font-family:Menlo,'DejaVu Sans Mono',consolas,'Courier New',monospace\"></pre>\n"
      ],
      "text/plain": []
     },
     "metadata": {},
     "output_type": "display_data"
    },
    {
     "name": "stderr",
     "output_type": "stream",
     "text": [
      "Sampling 6 chains for 2_000 tune and 1_500 draw iterations (12_000 + 9_000 draws total) took 14 seconds.\n",
      "Initializing NUTS using jitter+adapt_diag...\n",
      "Multiprocess sampling (6 chains in 6 jobs)\n",
      "NUTS: [ls, amp]\n"
     ]
    },
    {
     "data": {
      "application/vnd.jupyter.widget-view+json": {
       "model_id": "94825e74f5cc400e9676de243b749cdd",
       "version_major": 2,
       "version_minor": 0
      },
      "text/plain": [
       "Output()"
      ]
     },
     "metadata": {},
     "output_type": "display_data"
    },
    {
     "data": {
      "text/html": [
       "<pre style=\"white-space:pre;overflow-x:auto;line-height:normal;font-family:Menlo,'DejaVu Sans Mono',consolas,'Courier New',monospace\"></pre>\n"
      ],
      "text/plain": []
     },
     "metadata": {},
     "output_type": "display_data"
    },
    {
     "name": "stderr",
     "output_type": "stream",
     "text": [
      "Sampling 6 chains for 2_000 tune and 1_500 draw iterations (12_000 + 9_000 draws total) took 9 seconds.\n",
      "There were 11 divergences after tuning. Increase `target_accept` or reparameterize.\n",
      "Initializing NUTS using jitter+adapt_diag...\n",
      "Multiprocess sampling (6 chains in 6 jobs)\n",
      "NUTS: [ls, amp, ls2]\n"
     ]
    },
    {
     "data": {
      "application/vnd.jupyter.widget-view+json": {
       "model_id": "1cd3a17d46b440acad1722b2d58eb0a4",
       "version_major": 2,
       "version_minor": 0
      },
      "text/plain": [
       "Output()"
      ]
     },
     "metadata": {},
     "output_type": "display_data"
    },
    {
     "data": {
      "text/html": [
       "<pre style=\"white-space:pre;overflow-x:auto;line-height:normal;font-family:Menlo,'DejaVu Sans Mono',consolas,'Courier New',monospace\"></pre>\n"
      ],
      "text/plain": []
     },
     "metadata": {},
     "output_type": "display_data"
    },
    {
     "name": "stderr",
     "output_type": "stream",
     "text": [
      "Sampling 6 chains for 2_000 tune and 1_500 draw iterations (12_000 + 9_000 draws total) took 13 seconds.\n",
      "Initializing NUTS using jitter+adapt_diag...\n",
      "Multiprocess sampling (6 chains in 6 jobs)\n",
      "NUTS: [ls, amp]\n"
     ]
    },
    {
     "data": {
      "application/vnd.jupyter.widget-view+json": {
       "model_id": "adc3b4d205f143159a59cb21957517ba",
       "version_major": 2,
       "version_minor": 0
      },
      "text/plain": [
       "Output()"
      ]
     },
     "metadata": {},
     "output_type": "display_data"
    },
    {
     "data": {
      "text/html": [
       "<pre style=\"white-space:pre;overflow-x:auto;line-height:normal;font-family:Menlo,'DejaVu Sans Mono',consolas,'Courier New',monospace\"></pre>\n"
      ],
      "text/plain": []
     },
     "metadata": {},
     "output_type": "display_data"
    },
    {
     "name": "stderr",
     "output_type": "stream",
     "text": [
      "Sampling 6 chains for 2_000 tune and 1_500 draw iterations (12_000 + 9_000 draws total) took 10 seconds.\n",
      "Initializing NUTS using jitter+adapt_diag...\n",
      "Multiprocess sampling (6 chains in 6 jobs)\n",
      "NUTS: [ls, amp, ls2]\n"
     ]
    },
    {
     "data": {
      "application/vnd.jupyter.widget-view+json": {
       "model_id": "5479f210dd8b4a6fa7c1ed3e7d4f4850",
       "version_major": 2,
       "version_minor": 0
      },
      "text/plain": [
       "Output()"
      ]
     },
     "metadata": {},
     "output_type": "display_data"
    },
    {
     "data": {
      "text/html": [
       "<pre style=\"white-space:pre;overflow-x:auto;line-height:normal;font-family:Menlo,'DejaVu Sans Mono',consolas,'Courier New',monospace\"></pre>\n"
      ],
      "text/plain": []
     },
     "metadata": {},
     "output_type": "display_data"
    },
    {
     "name": "stderr",
     "output_type": "stream",
     "text": [
      "Sampling 6 chains for 2_000 tune and 1_500 draw iterations (12_000 + 9_000 draws total) took 13 seconds.\n",
      "Initializing NUTS using jitter+adapt_diag...\n",
      "Multiprocess sampling (6 chains in 6 jobs)\n",
      "NUTS: [ls, amp]\n"
     ]
    },
    {
     "data": {
      "application/vnd.jupyter.widget-view+json": {
       "model_id": "907878c6d24940c2840bc867caa2a3df",
       "version_major": 2,
       "version_minor": 0
      },
      "text/plain": [
       "Output()"
      ]
     },
     "metadata": {},
     "output_type": "display_data"
    },
    {
     "data": {
      "text/html": [
       "<pre style=\"white-space:pre;overflow-x:auto;line-height:normal;font-family:Menlo,'DejaVu Sans Mono',consolas,'Courier New',monospace\"></pre>\n"
      ],
      "text/plain": []
     },
     "metadata": {},
     "output_type": "display_data"
    },
    {
     "name": "stderr",
     "output_type": "stream",
     "text": [
      "Sampling 6 chains for 2_000 tune and 1_500 draw iterations (12_000 + 9_000 draws total) took 10 seconds.\n",
      "Initializing NUTS using jitter+adapt_diag...\n",
      "Multiprocess sampling (6 chains in 6 jobs)\n",
      "NUTS: [ls, amp, ls2]\n"
     ]
    },
    {
     "data": {
      "application/vnd.jupyter.widget-view+json": {
       "model_id": "4f58a6495c70466dbc3e86a525e9f475",
       "version_major": 2,
       "version_minor": 0
      },
      "text/plain": [
       "Output()"
      ]
     },
     "metadata": {},
     "output_type": "display_data"
    },
    {
     "data": {
      "text/html": [
       "<pre style=\"white-space:pre;overflow-x:auto;line-height:normal;font-family:Menlo,'DejaVu Sans Mono',consolas,'Courier New',monospace\"></pre>\n"
      ],
      "text/plain": []
     },
     "metadata": {},
     "output_type": "display_data"
    },
    {
     "name": "stderr",
     "output_type": "stream",
     "text": [
      "Sampling 6 chains for 2_000 tune and 1_500 draw iterations (12_000 + 9_000 draws total) took 13 seconds.\n",
      "Initializing NUTS using jitter+adapt_diag...\n",
      "Multiprocess sampling (6 chains in 6 jobs)\n",
      "NUTS: [ls, amp]\n"
     ]
    },
    {
     "data": {
      "application/vnd.jupyter.widget-view+json": {
       "model_id": "a917d883034949f390a814fff82f8249",
       "version_major": 2,
       "version_minor": 0
      },
      "text/plain": [
       "Output()"
      ]
     },
     "metadata": {},
     "output_type": "display_data"
    },
    {
     "data": {
      "text/html": [
       "<pre style=\"white-space:pre;overflow-x:auto;line-height:normal;font-family:Menlo,'DejaVu Sans Mono',consolas,'Courier New',monospace\"></pre>\n"
      ],
      "text/plain": []
     },
     "metadata": {},
     "output_type": "display_data"
    },
    {
     "name": "stderr",
     "output_type": "stream",
     "text": [
      "Sampling 6 chains for 2_000 tune and 1_500 draw iterations (12_000 + 9_000 draws total) took 9 seconds.\n",
      "Initializing NUTS using jitter+adapt_diag...\n",
      "Multiprocess sampling (6 chains in 6 jobs)\n",
      "NUTS: [ls, amp, ls2]\n"
     ]
    },
    {
     "data": {
      "application/vnd.jupyter.widget-view+json": {
       "model_id": "776eeae0122c40ab8c9f76ed3c031d57",
       "version_major": 2,
       "version_minor": 0
      },
      "text/plain": [
       "Output()"
      ]
     },
     "metadata": {},
     "output_type": "display_data"
    },
    {
     "data": {
      "text/html": [
       "<pre style=\"white-space:pre;overflow-x:auto;line-height:normal;font-family:Menlo,'DejaVu Sans Mono',consolas,'Courier New',monospace\"></pre>\n"
      ],
      "text/plain": []
     },
     "metadata": {},
     "output_type": "display_data"
    },
    {
     "name": "stderr",
     "output_type": "stream",
     "text": [
      "Sampling 6 chains for 2_000 tune and 1_500 draw iterations (12_000 + 9_000 draws total) took 12 seconds.\n",
      "Initializing NUTS using jitter+adapt_diag...\n",
      "Multiprocess sampling (6 chains in 6 jobs)\n",
      "NUTS: [ls, amp]\n"
     ]
    },
    {
     "data": {
      "application/vnd.jupyter.widget-view+json": {
       "model_id": "4dcbcf243bd441a3b861e05aab035abc",
       "version_major": 2,
       "version_minor": 0
      },
      "text/plain": [
       "Output()"
      ]
     },
     "metadata": {},
     "output_type": "display_data"
    },
    {
     "data": {
      "text/html": [
       "<pre style=\"white-space:pre;overflow-x:auto;line-height:normal;font-family:Menlo,'DejaVu Sans Mono',consolas,'Courier New',monospace\"></pre>\n"
      ],
      "text/plain": []
     },
     "metadata": {},
     "output_type": "display_data"
    },
    {
     "name": "stderr",
     "output_type": "stream",
     "text": [
      "Sampling 6 chains for 2_000 tune and 1_500 draw iterations (12_000 + 9_000 draws total) took 9 seconds.\n",
      "Initializing NUTS using jitter+adapt_diag...\n",
      "Multiprocess sampling (6 chains in 6 jobs)\n",
      "NUTS: [ls, amp, ls2]\n"
     ]
    },
    {
     "data": {
      "application/vnd.jupyter.widget-view+json": {
       "model_id": "f7812c2bc663467a9258a44f75f8de97",
       "version_major": 2,
       "version_minor": 0
      },
      "text/plain": [
       "Output()"
      ]
     },
     "metadata": {},
     "output_type": "display_data"
    },
    {
     "data": {
      "text/html": [
       "<pre style=\"white-space:pre;overflow-x:auto;line-height:normal;font-family:Menlo,'DejaVu Sans Mono',consolas,'Courier New',monospace\"></pre>\n"
      ],
      "text/plain": []
     },
     "metadata": {},
     "output_type": "display_data"
    },
    {
     "name": "stderr",
     "output_type": "stream",
     "text": [
      "Sampling 6 chains for 2_000 tune and 1_500 draw iterations (12_000 + 9_000 draws total) took 13 seconds.\n",
      "Initializing NUTS using jitter+adapt_diag...\n",
      "Multiprocess sampling (6 chains in 6 jobs)\n",
      "NUTS: [ls, amp]\n"
     ]
    },
    {
     "data": {
      "application/vnd.jupyter.widget-view+json": {
       "model_id": "4bbb4e0f2fb54837b6e16ea1b7d19d5d",
       "version_major": 2,
       "version_minor": 0
      },
      "text/plain": [
       "Output()"
      ]
     },
     "metadata": {},
     "output_type": "display_data"
    },
    {
     "data": {
      "text/html": [
       "<pre style=\"white-space:pre;overflow-x:auto;line-height:normal;font-family:Menlo,'DejaVu Sans Mono',consolas,'Courier New',monospace\"></pre>\n"
      ],
      "text/plain": []
     },
     "metadata": {},
     "output_type": "display_data"
    },
    {
     "name": "stderr",
     "output_type": "stream",
     "text": [
      "Sampling 6 chains for 2_000 tune and 1_500 draw iterations (12_000 + 9_000 draws total) took 9 seconds.\n",
      "Initializing NUTS using jitter+adapt_diag...\n",
      "Multiprocess sampling (6 chains in 6 jobs)\n",
      "NUTS: [ls, amp, ls2]\n"
     ]
    },
    {
     "data": {
      "application/vnd.jupyter.widget-view+json": {
       "model_id": "dc1433a564094fb38164b4a30b4fcbc3",
       "version_major": 2,
       "version_minor": 0
      },
      "text/plain": [
       "Output()"
      ]
     },
     "metadata": {},
     "output_type": "display_data"
    },
    {
     "data": {
      "text/html": [
       "<pre style=\"white-space:pre;overflow-x:auto;line-height:normal;font-family:Menlo,'DejaVu Sans Mono',consolas,'Courier New',monospace\"></pre>\n"
      ],
      "text/plain": []
     },
     "metadata": {},
     "output_type": "display_data"
    },
    {
     "name": "stderr",
     "output_type": "stream",
     "text": [
      "Sampling 6 chains for 2_000 tune and 1_500 draw iterations (12_000 + 9_000 draws total) took 13 seconds.\n",
      "Initializing NUTS using jitter+adapt_diag...\n",
      "Multiprocess sampling (6 chains in 6 jobs)\n",
      "NUTS: [ls, amp]\n"
     ]
    },
    {
     "data": {
      "application/vnd.jupyter.widget-view+json": {
       "model_id": "3765bfccb6c14b1bae636537ebb52239",
       "version_major": 2,
       "version_minor": 0
      },
      "text/plain": [
       "Output()"
      ]
     },
     "metadata": {},
     "output_type": "display_data"
    },
    {
     "data": {
      "text/html": [
       "<pre style=\"white-space:pre;overflow-x:auto;line-height:normal;font-family:Menlo,'DejaVu Sans Mono',consolas,'Courier New',monospace\"></pre>\n"
      ],
      "text/plain": []
     },
     "metadata": {},
     "output_type": "display_data"
    },
    {
     "name": "stderr",
     "output_type": "stream",
     "text": [
      "Sampling 6 chains for 2_000 tune and 1_500 draw iterations (12_000 + 9_000 draws total) took 9 seconds.\n",
      "Initializing NUTS using jitter+adapt_diag...\n",
      "Multiprocess sampling (6 chains in 6 jobs)\n",
      "NUTS: [ls, amp, ls2]\n"
     ]
    },
    {
     "data": {
      "application/vnd.jupyter.widget-view+json": {
       "model_id": "7061717e4d4748b383c3230fdc11874c",
       "version_major": 2,
       "version_minor": 0
      },
      "text/plain": [
       "Output()"
      ]
     },
     "metadata": {},
     "output_type": "display_data"
    },
    {
     "data": {
      "text/html": [
       "<pre style=\"white-space:pre;overflow-x:auto;line-height:normal;font-family:Menlo,'DejaVu Sans Mono',consolas,'Courier New',monospace\"></pre>\n"
      ],
      "text/plain": []
     },
     "metadata": {},
     "output_type": "display_data"
    },
    {
     "name": "stderr",
     "output_type": "stream",
     "text": [
      "Sampling 6 chains for 2_000 tune and 1_500 draw iterations (12_000 + 9_000 draws total) took 13 seconds.\n",
      "Initializing NUTS using jitter+adapt_diag...\n",
      "Multiprocess sampling (6 chains in 6 jobs)\n",
      "NUTS: [ls, amp]\n"
     ]
    },
    {
     "data": {
      "application/vnd.jupyter.widget-view+json": {
       "model_id": "731ee183c8d84ff1ae3e7ba9ff4dd3fc",
       "version_major": 2,
       "version_minor": 0
      },
      "text/plain": [
       "Output()"
      ]
     },
     "metadata": {},
     "output_type": "display_data"
    },
    {
     "data": {
      "text/html": [
       "<pre style=\"white-space:pre;overflow-x:auto;line-height:normal;font-family:Menlo,'DejaVu Sans Mono',consolas,'Courier New',monospace\"></pre>\n"
      ],
      "text/plain": []
     },
     "metadata": {},
     "output_type": "display_data"
    },
    {
     "name": "stderr",
     "output_type": "stream",
     "text": [
      "Sampling 6 chains for 2_000 tune and 1_500 draw iterations (12_000 + 9_000 draws total) took 10 seconds.\n",
      "Initializing NUTS using jitter+adapt_diag...\n",
      "Multiprocess sampling (6 chains in 6 jobs)\n",
      "NUTS: [ls, amp, ls2]\n"
     ]
    },
    {
     "data": {
      "application/vnd.jupyter.widget-view+json": {
       "model_id": "15d3a9e2121c45698c3c8160c1e3a8f7",
       "version_major": 2,
       "version_minor": 0
      },
      "text/plain": [
       "Output()"
      ]
     },
     "metadata": {},
     "output_type": "display_data"
    },
    {
     "data": {
      "text/html": [
       "<pre style=\"white-space:pre;overflow-x:auto;line-height:normal;font-family:Menlo,'DejaVu Sans Mono',consolas,'Courier New',monospace\"></pre>\n"
      ],
      "text/plain": []
     },
     "metadata": {},
     "output_type": "display_data"
    },
    {
     "name": "stderr",
     "output_type": "stream",
     "text": [
      "Sampling 6 chains for 2_000 tune and 1_500 draw iterations (12_000 + 9_000 draws total) took 13 seconds.\n",
      "Initializing NUTS using jitter+adapt_diag...\n",
      "Multiprocess sampling (6 chains in 6 jobs)\n",
      "NUTS: [ls, amp]\n"
     ]
    },
    {
     "data": {
      "application/vnd.jupyter.widget-view+json": {
       "model_id": "7aa22004447b49209f079b64bdfe5e7e",
       "version_major": 2,
       "version_minor": 0
      },
      "text/plain": [
       "Output()"
      ]
     },
     "metadata": {},
     "output_type": "display_data"
    },
    {
     "data": {
      "text/html": [
       "<pre style=\"white-space:pre;overflow-x:auto;line-height:normal;font-family:Menlo,'DejaVu Sans Mono',consolas,'Courier New',monospace\"></pre>\n"
      ],
      "text/plain": []
     },
     "metadata": {},
     "output_type": "display_data"
    },
    {
     "name": "stderr",
     "output_type": "stream",
     "text": [
      "Sampling 6 chains for 2_000 tune and 1_500 draw iterations (12_000 + 9_000 draws total) took 10 seconds.\n",
      "There were 1 divergences after tuning. Increase `target_accept` or reparameterize.\n",
      "Initializing NUTS using jitter+adapt_diag...\n",
      "Multiprocess sampling (6 chains in 6 jobs)\n",
      "NUTS: [ls, amp, ls2]\n"
     ]
    },
    {
     "data": {
      "application/vnd.jupyter.widget-view+json": {
       "model_id": "ed1b88e04ec84e738069a6672e5cba05",
       "version_major": 2,
       "version_minor": 0
      },
      "text/plain": [
       "Output()"
      ]
     },
     "metadata": {},
     "output_type": "display_data"
    },
    {
     "data": {
      "text/html": [
       "<pre style=\"white-space:pre;overflow-x:auto;line-height:normal;font-family:Menlo,'DejaVu Sans Mono',consolas,'Courier New',monospace\"></pre>\n"
      ],
      "text/plain": []
     },
     "metadata": {},
     "output_type": "display_data"
    },
    {
     "name": "stderr",
     "output_type": "stream",
     "text": [
      "Sampling 6 chains for 2_000 tune and 1_500 draw iterations (12_000 + 9_000 draws total) took 12 seconds.\n",
      "Initializing NUTS using jitter+adapt_diag...\n",
      "Multiprocess sampling (6 chains in 6 jobs)\n",
      "NUTS: [ls, amp]\n"
     ]
    },
    {
     "data": {
      "application/vnd.jupyter.widget-view+json": {
       "model_id": "cae37b7da1d743bdb698322adb45f219",
       "version_major": 2,
       "version_minor": 0
      },
      "text/plain": [
       "Output()"
      ]
     },
     "metadata": {},
     "output_type": "display_data"
    },
    {
     "data": {
      "text/html": [
       "<pre style=\"white-space:pre;overflow-x:auto;line-height:normal;font-family:Menlo,'DejaVu Sans Mono',consolas,'Courier New',monospace\"></pre>\n"
      ],
      "text/plain": []
     },
     "metadata": {},
     "output_type": "display_data"
    },
    {
     "name": "stderr",
     "output_type": "stream",
     "text": [
      "Sampling 6 chains for 2_000 tune and 1_500 draw iterations (12_000 + 9_000 draws total) took 9 seconds.\n",
      "Initializing NUTS using jitter+adapt_diag...\n",
      "Multiprocess sampling (6 chains in 6 jobs)\n",
      "NUTS: [ls, amp, ls2]\n"
     ]
    },
    {
     "data": {
      "application/vnd.jupyter.widget-view+json": {
       "model_id": "a58fdbe7471f4b25b759b0e9295b550e",
       "version_major": 2,
       "version_minor": 0
      },
      "text/plain": [
       "Output()"
      ]
     },
     "metadata": {},
     "output_type": "display_data"
    },
    {
     "data": {
      "text/html": [
       "<pre style=\"white-space:pre;overflow-x:auto;line-height:normal;font-family:Menlo,'DejaVu Sans Mono',consolas,'Courier New',monospace\"></pre>\n"
      ],
      "text/plain": []
     },
     "metadata": {},
     "output_type": "display_data"
    },
    {
     "name": "stderr",
     "output_type": "stream",
     "text": [
      "Sampling 6 chains for 2_000 tune and 1_500 draw iterations (12_000 + 9_000 draws total) took 12 seconds.\n",
      "Initializing NUTS using jitter+adapt_diag...\n",
      "Multiprocess sampling (6 chains in 6 jobs)\n",
      "NUTS: [ls, amp]\n"
     ]
    },
    {
     "data": {
      "application/vnd.jupyter.widget-view+json": {
       "model_id": "9049764688c847da89e95f40d4b5de38",
       "version_major": 2,
       "version_minor": 0
      },
      "text/plain": [
       "Output()"
      ]
     },
     "metadata": {},
     "output_type": "display_data"
    },
    {
     "data": {
      "text/html": [
       "<pre style=\"white-space:pre;overflow-x:auto;line-height:normal;font-family:Menlo,'DejaVu Sans Mono',consolas,'Courier New',monospace\"></pre>\n"
      ],
      "text/plain": []
     },
     "metadata": {},
     "output_type": "display_data"
    },
    {
     "name": "stderr",
     "output_type": "stream",
     "text": [
      "Sampling 6 chains for 2_000 tune and 1_500 draw iterations (12_000 + 9_000 draws total) took 9 seconds.\n",
      "Initializing NUTS using jitter+adapt_diag...\n",
      "Multiprocess sampling (6 chains in 6 jobs)\n",
      "NUTS: [ls, amp, ls2]\n"
     ]
    },
    {
     "data": {
      "application/vnd.jupyter.widget-view+json": {
       "model_id": "17036ed23b3f4fee8fe9ef01ff22c5fe",
       "version_major": 2,
       "version_minor": 0
      },
      "text/plain": [
       "Output()"
      ]
     },
     "metadata": {},
     "output_type": "display_data"
    },
    {
     "data": {
      "text/html": [
       "<pre style=\"white-space:pre;overflow-x:auto;line-height:normal;font-family:Menlo,'DejaVu Sans Mono',consolas,'Courier New',monospace\"></pre>\n"
      ],
      "text/plain": []
     },
     "metadata": {},
     "output_type": "display_data"
    },
    {
     "name": "stderr",
     "output_type": "stream",
     "text": [
      "Sampling 6 chains for 2_000 tune and 1_500 draw iterations (12_000 + 9_000 draws total) took 13 seconds.\n",
      "Initializing NUTS using jitter+adapt_diag...\n",
      "Multiprocess sampling (6 chains in 6 jobs)\n",
      "NUTS: [ls, amp]\n"
     ]
    },
    {
     "data": {
      "application/vnd.jupyter.widget-view+json": {
       "model_id": "32ef3063f5f94662b3b653baad81127c",
       "version_major": 2,
       "version_minor": 0
      },
      "text/plain": [
       "Output()"
      ]
     },
     "metadata": {},
     "output_type": "display_data"
    },
    {
     "data": {
      "text/html": [
       "<pre style=\"white-space:pre;overflow-x:auto;line-height:normal;font-family:Menlo,'DejaVu Sans Mono',consolas,'Courier New',monospace\"></pre>\n"
      ],
      "text/plain": []
     },
     "metadata": {},
     "output_type": "display_data"
    },
    {
     "name": "stderr",
     "output_type": "stream",
     "text": [
      "Sampling 6 chains for 2_000 tune and 1_500 draw iterations (12_000 + 9_000 draws total) took 9 seconds.\n",
      "Initializing NUTS using jitter+adapt_diag...\n",
      "Multiprocess sampling (6 chains in 6 jobs)\n",
      "NUTS: [ls, amp, ls2]\n"
     ]
    },
    {
     "data": {
      "application/vnd.jupyter.widget-view+json": {
       "model_id": "764d3118400243d585d7575a816d68c0",
       "version_major": 2,
       "version_minor": 0
      },
      "text/plain": [
       "Output()"
      ]
     },
     "metadata": {},
     "output_type": "display_data"
    },
    {
     "data": {
      "text/html": [
       "<pre style=\"white-space:pre;overflow-x:auto;line-height:normal;font-family:Menlo,'DejaVu Sans Mono',consolas,'Courier New',monospace\"></pre>\n"
      ],
      "text/plain": []
     },
     "metadata": {},
     "output_type": "display_data"
    },
    {
     "name": "stderr",
     "output_type": "stream",
     "text": [
      "Sampling 6 chains for 2_000 tune and 1_500 draw iterations (12_000 + 9_000 draws total) took 12 seconds.\n",
      "Initializing NUTS using jitter+adapt_diag...\n",
      "Multiprocess sampling (6 chains in 6 jobs)\n",
      "NUTS: [ls, amp]\n"
     ]
    },
    {
     "data": {
      "application/vnd.jupyter.widget-view+json": {
       "model_id": "5d60066dfd554232887e8f99f1132f25",
       "version_major": 2,
       "version_minor": 0
      },
      "text/plain": [
       "Output()"
      ]
     },
     "metadata": {},
     "output_type": "display_data"
    },
    {
     "data": {
      "text/html": [
       "<pre style=\"white-space:pre;overflow-x:auto;line-height:normal;font-family:Menlo,'DejaVu Sans Mono',consolas,'Courier New',monospace\"></pre>\n"
      ],
      "text/plain": []
     },
     "metadata": {},
     "output_type": "display_data"
    },
    {
     "name": "stderr",
     "output_type": "stream",
     "text": [
      "Sampling 6 chains for 2_000 tune and 1_500 draw iterations (12_000 + 9_000 draws total) took 10 seconds.\n",
      "Initializing NUTS using jitter+adapt_diag...\n",
      "Multiprocess sampling (6 chains in 6 jobs)\n",
      "NUTS: [ls, amp, ls2]\n"
     ]
    },
    {
     "data": {
      "application/vnd.jupyter.widget-view+json": {
       "model_id": "d95415ddc7164bc4ae07fa871a9b9ebc",
       "version_major": 2,
       "version_minor": 0
      },
      "text/plain": [
       "Output()"
      ]
     },
     "metadata": {},
     "output_type": "display_data"
    },
    {
     "data": {
      "text/html": [
       "<pre style=\"white-space:pre;overflow-x:auto;line-height:normal;font-family:Menlo,'DejaVu Sans Mono',consolas,'Courier New',monospace\"></pre>\n"
      ],
      "text/plain": []
     },
     "metadata": {},
     "output_type": "display_data"
    },
    {
     "name": "stderr",
     "output_type": "stream",
     "text": [
      "Sampling 6 chains for 2_000 tune and 1_500 draw iterations (12_000 + 9_000 draws total) took 13 seconds.\n",
      "Initializing NUTS using jitter+adapt_diag...\n",
      "Multiprocess sampling (6 chains in 6 jobs)\n",
      "NUTS: [ls, amp]\n"
     ]
    },
    {
     "data": {
      "application/vnd.jupyter.widget-view+json": {
       "model_id": "3fefe2970c7141d9bf1036d1355a84d2",
       "version_major": 2,
       "version_minor": 0
      },
      "text/plain": [
       "Output()"
      ]
     },
     "metadata": {},
     "output_type": "display_data"
    },
    {
     "data": {
      "text/html": [
       "<pre style=\"white-space:pre;overflow-x:auto;line-height:normal;font-family:Menlo,'DejaVu Sans Mono',consolas,'Courier New',monospace\"></pre>\n"
      ],
      "text/plain": []
     },
     "metadata": {},
     "output_type": "display_data"
    },
    {
     "name": "stderr",
     "output_type": "stream",
     "text": [
      "Sampling 6 chains for 2_000 tune and 1_500 draw iterations (12_000 + 9_000 draws total) took 9 seconds.\n",
      "Initializing NUTS using jitter+adapt_diag...\n",
      "Multiprocess sampling (6 chains in 6 jobs)\n",
      "NUTS: [ls, amp, ls2]\n"
     ]
    },
    {
     "data": {
      "application/vnd.jupyter.widget-view+json": {
       "model_id": "52f1a1977d624228bb46f68efb9425ef",
       "version_major": 2,
       "version_minor": 0
      },
      "text/plain": [
       "Output()"
      ]
     },
     "metadata": {},
     "output_type": "display_data"
    },
    {
     "data": {
      "text/html": [
       "<pre style=\"white-space:pre;overflow-x:auto;line-height:normal;font-family:Menlo,'DejaVu Sans Mono',consolas,'Courier New',monospace\"></pre>\n"
      ],
      "text/plain": []
     },
     "metadata": {},
     "output_type": "display_data"
    },
    {
     "name": "stderr",
     "output_type": "stream",
     "text": [
      "Sampling 6 chains for 2_000 tune and 1_500 draw iterations (12_000 + 9_000 draws total) took 12 seconds.\n",
      "Initializing NUTS using jitter+adapt_diag...\n",
      "Multiprocess sampling (6 chains in 6 jobs)\n",
      "NUTS: [ls, amp]\n"
     ]
    },
    {
     "data": {
      "application/vnd.jupyter.widget-view+json": {
       "model_id": "1299d174bc0848f2b09683ab1b5cea5a",
       "version_major": 2,
       "version_minor": 0
      },
      "text/plain": [
       "Output()"
      ]
     },
     "metadata": {},
     "output_type": "display_data"
    },
    {
     "data": {
      "text/html": [
       "<pre style=\"white-space:pre;overflow-x:auto;line-height:normal;font-family:Menlo,'DejaVu Sans Mono',consolas,'Courier New',monospace\"></pre>\n"
      ],
      "text/plain": []
     },
     "metadata": {},
     "output_type": "display_data"
    },
    {
     "name": "stderr",
     "output_type": "stream",
     "text": [
      "Sampling 6 chains for 2_000 tune and 1_500 draw iterations (12_000 + 9_000 draws total) took 10 seconds.\n",
      "Initializing NUTS using jitter+adapt_diag...\n",
      "Multiprocess sampling (6 chains in 6 jobs)\n",
      "NUTS: [ls, amp, ls2]\n"
     ]
    },
    {
     "data": {
      "application/vnd.jupyter.widget-view+json": {
       "model_id": "a7a351a782ea4411a8392a4154127cac",
       "version_major": 2,
       "version_minor": 0
      },
      "text/plain": [
       "Output()"
      ]
     },
     "metadata": {},
     "output_type": "display_data"
    },
    {
     "data": {
      "text/html": [
       "<pre style=\"white-space:pre;overflow-x:auto;line-height:normal;font-family:Menlo,'DejaVu Sans Mono',consolas,'Courier New',monospace\"></pre>\n"
      ],
      "text/plain": []
     },
     "metadata": {},
     "output_type": "display_data"
    },
    {
     "name": "stderr",
     "output_type": "stream",
     "text": [
      "Sampling 6 chains for 2_000 tune and 1_500 draw iterations (12_000 + 9_000 draws total) took 13 seconds.\n",
      "Initializing NUTS using jitter+adapt_diag...\n",
      "Multiprocess sampling (6 chains in 6 jobs)\n",
      "NUTS: [ls, amp]\n"
     ]
    },
    {
     "data": {
      "application/vnd.jupyter.widget-view+json": {
       "model_id": "b3c035aa3e4e4052915d5d800ff4a82a",
       "version_major": 2,
       "version_minor": 0
      },
      "text/plain": [
       "Output()"
      ]
     },
     "metadata": {},
     "output_type": "display_data"
    },
    {
     "data": {
      "text/html": [
       "<pre style=\"white-space:pre;overflow-x:auto;line-height:normal;font-family:Menlo,'DejaVu Sans Mono',consolas,'Courier New',monospace\"></pre>\n"
      ],
      "text/plain": []
     },
     "metadata": {},
     "output_type": "display_data"
    },
    {
     "name": "stderr",
     "output_type": "stream",
     "text": [
      "Sampling 6 chains for 2_000 tune and 1_500 draw iterations (12_000 + 9_000 draws total) took 10 seconds.\n",
      "Initializing NUTS using jitter+adapt_diag...\n",
      "Multiprocess sampling (6 chains in 6 jobs)\n",
      "NUTS: [ls, amp, ls2]\n"
     ]
    },
    {
     "data": {
      "application/vnd.jupyter.widget-view+json": {
       "model_id": "0b812251f01e40db981fd9de66c5703e",
       "version_major": 2,
       "version_minor": 0
      },
      "text/plain": [
       "Output()"
      ]
     },
     "metadata": {},
     "output_type": "display_data"
    },
    {
     "data": {
      "text/html": [
       "<pre style=\"white-space:pre;overflow-x:auto;line-height:normal;font-family:Menlo,'DejaVu Sans Mono',consolas,'Courier New',monospace\"></pre>\n"
      ],
      "text/plain": []
     },
     "metadata": {},
     "output_type": "display_data"
    },
    {
     "name": "stderr",
     "output_type": "stream",
     "text": [
      "Sampling 6 chains for 2_000 tune and 1_500 draw iterations (12_000 + 9_000 draws total) took 13 seconds.\n",
      "Initializing NUTS using jitter+adapt_diag...\n",
      "Multiprocess sampling (6 chains in 6 jobs)\n",
      "NUTS: [ls, amp]\n"
     ]
    },
    {
     "data": {
      "application/vnd.jupyter.widget-view+json": {
       "model_id": "12a16b341e8b4eafb8b59d61ef1efd34",
       "version_major": 2,
       "version_minor": 0
      },
      "text/plain": [
       "Output()"
      ]
     },
     "metadata": {},
     "output_type": "display_data"
    },
    {
     "data": {
      "text/html": [
       "<pre style=\"white-space:pre;overflow-x:auto;line-height:normal;font-family:Menlo,'DejaVu Sans Mono',consolas,'Courier New',monospace\"></pre>\n"
      ],
      "text/plain": []
     },
     "metadata": {},
     "output_type": "display_data"
    },
    {
     "name": "stderr",
     "output_type": "stream",
     "text": [
      "Sampling 6 chains for 2_000 tune and 1_500 draw iterations (12_000 + 9_000 draws total) took 9 seconds.\n",
      "Initializing NUTS using jitter+adapt_diag...\n",
      "Multiprocess sampling (6 chains in 6 jobs)\n",
      "NUTS: [ls, amp, ls2]\n"
     ]
    },
    {
     "data": {
      "application/vnd.jupyter.widget-view+json": {
       "model_id": "85af7442077e48e48efb7464b5d03c82",
       "version_major": 2,
       "version_minor": 0
      },
      "text/plain": [
       "Output()"
      ]
     },
     "metadata": {},
     "output_type": "display_data"
    },
    {
     "data": {
      "text/html": [
       "<pre style=\"white-space:pre;overflow-x:auto;line-height:normal;font-family:Menlo,'DejaVu Sans Mono',consolas,'Courier New',monospace\"></pre>\n"
      ],
      "text/plain": []
     },
     "metadata": {},
     "output_type": "display_data"
    },
    {
     "name": "stderr",
     "output_type": "stream",
     "text": [
      "Sampling 6 chains for 2_000 tune and 1_500 draw iterations (12_000 + 9_000 draws total) took 12 seconds.\n",
      "Initializing NUTS using jitter+adapt_diag...\n",
      "Multiprocess sampling (6 chains in 6 jobs)\n",
      "NUTS: [ls, amp]\n"
     ]
    },
    {
     "data": {
      "application/vnd.jupyter.widget-view+json": {
       "model_id": "47847fd9377742219a6c6b02316f18c9",
       "version_major": 2,
       "version_minor": 0
      },
      "text/plain": [
       "Output()"
      ]
     },
     "metadata": {},
     "output_type": "display_data"
    },
    {
     "data": {
      "text/html": [
       "<pre style=\"white-space:pre;overflow-x:auto;line-height:normal;font-family:Menlo,'DejaVu Sans Mono',consolas,'Courier New',monospace\"></pre>\n"
      ],
      "text/plain": []
     },
     "metadata": {},
     "output_type": "display_data"
    },
    {
     "name": "stderr",
     "output_type": "stream",
     "text": [
      "Sampling 6 chains for 2_000 tune and 1_500 draw iterations (12_000 + 9_000 draws total) took 10 seconds.\n",
      "Initializing NUTS using jitter+adapt_diag...\n",
      "Multiprocess sampling (6 chains in 6 jobs)\n",
      "NUTS: [ls, amp, ls2]\n"
     ]
    },
    {
     "data": {
      "application/vnd.jupyter.widget-view+json": {
       "model_id": "62c1644395e441d38acb83a86fc87ad2",
       "version_major": 2,
       "version_minor": 0
      },
      "text/plain": [
       "Output()"
      ]
     },
     "metadata": {},
     "output_type": "display_data"
    },
    {
     "data": {
      "text/html": [
       "<pre style=\"white-space:pre;overflow-x:auto;line-height:normal;font-family:Menlo,'DejaVu Sans Mono',consolas,'Courier New',monospace\"></pre>\n"
      ],
      "text/plain": []
     },
     "metadata": {},
     "output_type": "display_data"
    },
    {
     "name": "stderr",
     "output_type": "stream",
     "text": [
      "Sampling 6 chains for 2_000 tune and 1_500 draw iterations (12_000 + 9_000 draws total) took 12 seconds.\n",
      "Initializing NUTS using jitter+adapt_diag...\n",
      "Multiprocess sampling (6 chains in 6 jobs)\n",
      "NUTS: [ls, amp]\n"
     ]
    },
    {
     "data": {
      "application/vnd.jupyter.widget-view+json": {
       "model_id": "4810116e8c7041c7a30ad43ed0d04520",
       "version_major": 2,
       "version_minor": 0
      },
      "text/plain": [
       "Output()"
      ]
     },
     "metadata": {},
     "output_type": "display_data"
    },
    {
     "data": {
      "text/html": [
       "<pre style=\"white-space:pre;overflow-x:auto;line-height:normal;font-family:Menlo,'DejaVu Sans Mono',consolas,'Courier New',monospace\"></pre>\n"
      ],
      "text/plain": []
     },
     "metadata": {},
     "output_type": "display_data"
    },
    {
     "name": "stderr",
     "output_type": "stream",
     "text": [
      "Sampling 6 chains for 2_000 tune and 1_500 draw iterations (12_000 + 9_000 draws total) took 10 seconds.\n",
      "Initializing NUTS using jitter+adapt_diag...\n",
      "Multiprocess sampling (6 chains in 6 jobs)\n",
      "NUTS: [ls, amp, ls2]\n"
     ]
    },
    {
     "data": {
      "application/vnd.jupyter.widget-view+json": {
       "model_id": "0582209d594d46bf907fd50e92428d70",
       "version_major": 2,
       "version_minor": 0
      },
      "text/plain": [
       "Output()"
      ]
     },
     "metadata": {},
     "output_type": "display_data"
    },
    {
     "data": {
      "text/html": [
       "<pre style=\"white-space:pre;overflow-x:auto;line-height:normal;font-family:Menlo,'DejaVu Sans Mono',consolas,'Courier New',monospace\"></pre>\n"
      ],
      "text/plain": []
     },
     "metadata": {},
     "output_type": "display_data"
    },
    {
     "name": "stderr",
     "output_type": "stream",
     "text": [
      "Sampling 6 chains for 2_000 tune and 1_500 draw iterations (12_000 + 9_000 draws total) took 13 seconds.\n",
      "Initializing NUTS using jitter+adapt_diag...\n",
      "Multiprocess sampling (6 chains in 6 jobs)\n",
      "NUTS: [ls, amp]\n"
     ]
    },
    {
     "data": {
      "application/vnd.jupyter.widget-view+json": {
       "model_id": "a157096c7b6a496780f40acf3068c402",
       "version_major": 2,
       "version_minor": 0
      },
      "text/plain": [
       "Output()"
      ]
     },
     "metadata": {},
     "output_type": "display_data"
    },
    {
     "data": {
      "text/html": [
       "<pre style=\"white-space:pre;overflow-x:auto;line-height:normal;font-family:Menlo,'DejaVu Sans Mono',consolas,'Courier New',monospace\"></pre>\n"
      ],
      "text/plain": []
     },
     "metadata": {},
     "output_type": "display_data"
    },
    {
     "name": "stderr",
     "output_type": "stream",
     "text": [
      "Sampling 6 chains for 2_000 tune and 1_500 draw iterations (12_000 + 9_000 draws total) took 9 seconds.\n",
      "There were 1 divergences after tuning. Increase `target_accept` or reparameterize.\n",
      "Initializing NUTS using jitter+adapt_diag...\n",
      "Multiprocess sampling (6 chains in 6 jobs)\n",
      "NUTS: [ls, amp, ls2]\n"
     ]
    },
    {
     "data": {
      "application/vnd.jupyter.widget-view+json": {
       "model_id": "0edd02192b944800bf1892d45043819a",
       "version_major": 2,
       "version_minor": 0
      },
      "text/plain": [
       "Output()"
      ]
     },
     "metadata": {},
     "output_type": "display_data"
    },
    {
     "data": {
      "text/html": [
       "<pre style=\"white-space:pre;overflow-x:auto;line-height:normal;font-family:Menlo,'DejaVu Sans Mono',consolas,'Courier New',monospace\"></pre>\n"
      ],
      "text/plain": []
     },
     "metadata": {},
     "output_type": "display_data"
    },
    {
     "name": "stderr",
     "output_type": "stream",
     "text": [
      "Sampling 6 chains for 2_000 tune and 1_500 draw iterations (12_000 + 9_000 draws total) took 13 seconds.\n",
      "Initializing NUTS using jitter+adapt_diag...\n",
      "Multiprocess sampling (6 chains in 6 jobs)\n",
      "NUTS: [ls, amp]\n"
     ]
    },
    {
     "data": {
      "application/vnd.jupyter.widget-view+json": {
       "model_id": "e6e4a445b31a4311a39f4da29919d584",
       "version_major": 2,
       "version_minor": 0
      },
      "text/plain": [
       "Output()"
      ]
     },
     "metadata": {},
     "output_type": "display_data"
    },
    {
     "data": {
      "text/html": [
       "<pre style=\"white-space:pre;overflow-x:auto;line-height:normal;font-family:Menlo,'DejaVu Sans Mono',consolas,'Courier New',monospace\"></pre>\n"
      ],
      "text/plain": []
     },
     "metadata": {},
     "output_type": "display_data"
    },
    {
     "name": "stderr",
     "output_type": "stream",
     "text": [
      "Sampling 6 chains for 2_000 tune and 1_500 draw iterations (12_000 + 9_000 draws total) took 10 seconds.\n",
      "There were 4 divergences after tuning. Increase `target_accept` or reparameterize.\n",
      "Initializing NUTS using jitter+adapt_diag...\n",
      "Multiprocess sampling (6 chains in 6 jobs)\n",
      "NUTS: [ls, amp, ls2]\n"
     ]
    },
    {
     "data": {
      "application/vnd.jupyter.widget-view+json": {
       "model_id": "1674aecd413045e68703babe68e1d405",
       "version_major": 2,
       "version_minor": 0
      },
      "text/plain": [
       "Output()"
      ]
     },
     "metadata": {},
     "output_type": "display_data"
    },
    {
     "data": {
      "text/html": [
       "<pre style=\"white-space:pre;overflow-x:auto;line-height:normal;font-family:Menlo,'DejaVu Sans Mono',consolas,'Courier New',monospace\"></pre>\n"
      ],
      "text/plain": []
     },
     "metadata": {},
     "output_type": "display_data"
    },
    {
     "name": "stderr",
     "output_type": "stream",
     "text": [
      "Sampling 6 chains for 2_000 tune and 1_500 draw iterations (12_000 + 9_000 draws total) took 13 seconds.\n",
      "Initializing NUTS using jitter+adapt_diag...\n",
      "Multiprocess sampling (6 chains in 6 jobs)\n",
      "NUTS: [ls, amp]\n"
     ]
    },
    {
     "data": {
      "application/vnd.jupyter.widget-view+json": {
       "model_id": "2f388ac80b134819ab8a2de65b9fcffc",
       "version_major": 2,
       "version_minor": 0
      },
      "text/plain": [
       "Output()"
      ]
     },
     "metadata": {},
     "output_type": "display_data"
    },
    {
     "data": {
      "text/html": [
       "<pre style=\"white-space:pre;overflow-x:auto;line-height:normal;font-family:Menlo,'DejaVu Sans Mono',consolas,'Courier New',monospace\"></pre>\n"
      ],
      "text/plain": []
     },
     "metadata": {},
     "output_type": "display_data"
    },
    {
     "name": "stderr",
     "output_type": "stream",
     "text": [
      "Sampling 6 chains for 2_000 tune and 1_500 draw iterations (12_000 + 9_000 draws total) took 9 seconds.\n",
      "Initializing NUTS using jitter+adapt_diag...\n",
      "Multiprocess sampling (6 chains in 6 jobs)\n",
      "NUTS: [ls, amp, ls2]\n"
     ]
    },
    {
     "data": {
      "application/vnd.jupyter.widget-view+json": {
       "model_id": "6ffb93e922b1429f915f4fe993d2f3b7",
       "version_major": 2,
       "version_minor": 0
      },
      "text/plain": [
       "Output()"
      ]
     },
     "metadata": {},
     "output_type": "display_data"
    },
    {
     "data": {
      "text/html": [
       "<pre style=\"white-space:pre;overflow-x:auto;line-height:normal;font-family:Menlo,'DejaVu Sans Mono',consolas,'Courier New',monospace\"></pre>\n"
      ],
      "text/plain": []
     },
     "metadata": {},
     "output_type": "display_data"
    },
    {
     "name": "stderr",
     "output_type": "stream",
     "text": [
      "Sampling 6 chains for 2_000 tune and 1_500 draw iterations (12_000 + 9_000 draws total) took 12 seconds.\n",
      "Initializing NUTS using jitter+adapt_diag...\n",
      "Multiprocess sampling (6 chains in 6 jobs)\n",
      "NUTS: [ls, amp]\n"
     ]
    },
    {
     "data": {
      "application/vnd.jupyter.widget-view+json": {
       "model_id": "ca69daeabad046bab39ae64f9037c937",
       "version_major": 2,
       "version_minor": 0
      },
      "text/plain": [
       "Output()"
      ]
     },
     "metadata": {},
     "output_type": "display_data"
    },
    {
     "data": {
      "text/html": [
       "<pre style=\"white-space:pre;overflow-x:auto;line-height:normal;font-family:Menlo,'DejaVu Sans Mono',consolas,'Courier New',monospace\"></pre>\n"
      ],
      "text/plain": []
     },
     "metadata": {},
     "output_type": "display_data"
    },
    {
     "name": "stderr",
     "output_type": "stream",
     "text": [
      "Sampling 6 chains for 2_000 tune and 1_500 draw iterations (12_000 + 9_000 draws total) took 9 seconds.\n",
      "There were 1 divergences after tuning. Increase `target_accept` or reparameterize.\n",
      "Initializing NUTS using jitter+adapt_diag...\n",
      "Multiprocess sampling (6 chains in 6 jobs)\n",
      "NUTS: [ls, amp, ls2]\n"
     ]
    },
    {
     "data": {
      "application/vnd.jupyter.widget-view+json": {
       "model_id": "c219358fde0c479dbc223ab7c823bd14",
       "version_major": 2,
       "version_minor": 0
      },
      "text/plain": [
       "Output()"
      ]
     },
     "metadata": {},
     "output_type": "display_data"
    },
    {
     "data": {
      "text/html": [
       "<pre style=\"white-space:pre;overflow-x:auto;line-height:normal;font-family:Menlo,'DejaVu Sans Mono',consolas,'Courier New',monospace\"></pre>\n"
      ],
      "text/plain": []
     },
     "metadata": {},
     "output_type": "display_data"
    },
    {
     "name": "stderr",
     "output_type": "stream",
     "text": [
      "Sampling 6 chains for 2_000 tune and 1_500 draw iterations (12_000 + 9_000 draws total) took 14 seconds.\n",
      "Initializing NUTS using jitter+adapt_diag...\n",
      "Multiprocess sampling (6 chains in 6 jobs)\n",
      "NUTS: [ls, amp]\n"
     ]
    },
    {
     "data": {
      "application/vnd.jupyter.widget-view+json": {
       "model_id": "48d2e81eb92249bcb75c8d220539f71f",
       "version_major": 2,
       "version_minor": 0
      },
      "text/plain": [
       "Output()"
      ]
     },
     "metadata": {},
     "output_type": "display_data"
    },
    {
     "data": {
      "text/html": [
       "<pre style=\"white-space:pre;overflow-x:auto;line-height:normal;font-family:Menlo,'DejaVu Sans Mono',consolas,'Courier New',monospace\"></pre>\n"
      ],
      "text/plain": []
     },
     "metadata": {},
     "output_type": "display_data"
    },
    {
     "name": "stderr",
     "output_type": "stream",
     "text": [
      "Sampling 6 chains for 2_000 tune and 1_500 draw iterations (12_000 + 9_000 draws total) took 9 seconds.\n",
      "Initializing NUTS using jitter+adapt_diag...\n",
      "Multiprocess sampling (6 chains in 6 jobs)\n",
      "NUTS: [ls, amp, ls2]\n"
     ]
    },
    {
     "data": {
      "application/vnd.jupyter.widget-view+json": {
       "model_id": "dca3b33579bf4b8696b85c095325f9ab",
       "version_major": 2,
       "version_minor": 0
      },
      "text/plain": [
       "Output()"
      ]
     },
     "metadata": {},
     "output_type": "display_data"
    },
    {
     "data": {
      "text/html": [
       "<pre style=\"white-space:pre;overflow-x:auto;line-height:normal;font-family:Menlo,'DejaVu Sans Mono',consolas,'Courier New',monospace\"></pre>\n"
      ],
      "text/plain": []
     },
     "metadata": {},
     "output_type": "display_data"
    },
    {
     "name": "stderr",
     "output_type": "stream",
     "text": [
      "Sampling 6 chains for 2_000 tune and 1_500 draw iterations (12_000 + 9_000 draws total) took 12 seconds.\n",
      "Initializing NUTS using jitter+adapt_diag...\n",
      "Multiprocess sampling (6 chains in 6 jobs)\n",
      "NUTS: [ls, amp]\n"
     ]
    },
    {
     "data": {
      "application/vnd.jupyter.widget-view+json": {
       "model_id": "0b6a20c2e8704fc8ad508e6060f884b4",
       "version_major": 2,
       "version_minor": 0
      },
      "text/plain": [
       "Output()"
      ]
     },
     "metadata": {},
     "output_type": "display_data"
    },
    {
     "data": {
      "text/html": [
       "<pre style=\"white-space:pre;overflow-x:auto;line-height:normal;font-family:Menlo,'DejaVu Sans Mono',consolas,'Courier New',monospace\"></pre>\n"
      ],
      "text/plain": []
     },
     "metadata": {},
     "output_type": "display_data"
    },
    {
     "name": "stderr",
     "output_type": "stream",
     "text": [
      "Sampling 6 chains for 2_000 tune and 1_500 draw iterations (12_000 + 9_000 draws total) took 9 seconds.\n",
      "Initializing NUTS using jitter+adapt_diag...\n",
      "Multiprocess sampling (6 chains in 6 jobs)\n",
      "NUTS: [ls, amp, ls2]\n"
     ]
    },
    {
     "data": {
      "application/vnd.jupyter.widget-view+json": {
       "model_id": "adaafa6bf16a4c609d6423346aa492f9",
       "version_major": 2,
       "version_minor": 0
      },
      "text/plain": [
       "Output()"
      ]
     },
     "metadata": {},
     "output_type": "display_data"
    },
    {
     "data": {
      "text/html": [
       "<pre style=\"white-space:pre;overflow-x:auto;line-height:normal;font-family:Menlo,'DejaVu Sans Mono',consolas,'Courier New',monospace\"></pre>\n"
      ],
      "text/plain": []
     },
     "metadata": {},
     "output_type": "display_data"
    },
    {
     "name": "stderr",
     "output_type": "stream",
     "text": [
      "Sampling 6 chains for 2_000 tune and 1_500 draw iterations (12_000 + 9_000 draws total) took 13 seconds.\n",
      "Initializing NUTS using jitter+adapt_diag...\n",
      "Multiprocess sampling (6 chains in 6 jobs)\n",
      "NUTS: [ls, amp]\n"
     ]
    },
    {
     "data": {
      "application/vnd.jupyter.widget-view+json": {
       "model_id": "d3fca7b120b24dafb08a1dbc891c3688",
       "version_major": 2,
       "version_minor": 0
      },
      "text/plain": [
       "Output()"
      ]
     },
     "metadata": {},
     "output_type": "display_data"
    },
    {
     "data": {
      "text/html": [
       "<pre style=\"white-space:pre;overflow-x:auto;line-height:normal;font-family:Menlo,'DejaVu Sans Mono',consolas,'Courier New',monospace\"></pre>\n"
      ],
      "text/plain": []
     },
     "metadata": {},
     "output_type": "display_data"
    },
    {
     "name": "stderr",
     "output_type": "stream",
     "text": [
      "Sampling 6 chains for 2_000 tune and 1_500 draw iterations (12_000 + 9_000 draws total) took 9 seconds.\n",
      "Initializing NUTS using jitter+adapt_diag...\n",
      "Multiprocess sampling (6 chains in 6 jobs)\n",
      "NUTS: [ls, amp, ls2]\n"
     ]
    },
    {
     "data": {
      "application/vnd.jupyter.widget-view+json": {
       "model_id": "3f477a3f968444598c0e2e4bcd7cb3d9",
       "version_major": 2,
       "version_minor": 0
      },
      "text/plain": [
       "Output()"
      ]
     },
     "metadata": {},
     "output_type": "display_data"
    },
    {
     "data": {
      "text/html": [
       "<pre style=\"white-space:pre;overflow-x:auto;line-height:normal;font-family:Menlo,'DejaVu Sans Mono',consolas,'Courier New',monospace\"></pre>\n"
      ],
      "text/plain": []
     },
     "metadata": {},
     "output_type": "display_data"
    },
    {
     "name": "stderr",
     "output_type": "stream",
     "text": [
      "Sampling 6 chains for 2_000 tune and 1_500 draw iterations (12_000 + 9_000 draws total) took 12 seconds.\n",
      "Initializing NUTS using jitter+adapt_diag...\n",
      "Multiprocess sampling (6 chains in 6 jobs)\n",
      "NUTS: [ls, amp]\n"
     ]
    },
    {
     "data": {
      "application/vnd.jupyter.widget-view+json": {
       "model_id": "ee943bc4055e42efbc26581d37dc540a",
       "version_major": 2,
       "version_minor": 0
      },
      "text/plain": [
       "Output()"
      ]
     },
     "metadata": {},
     "output_type": "display_data"
    },
    {
     "data": {
      "text/html": [
       "<pre style=\"white-space:pre;overflow-x:auto;line-height:normal;font-family:Menlo,'DejaVu Sans Mono',consolas,'Courier New',monospace\"></pre>\n"
      ],
      "text/plain": []
     },
     "metadata": {},
     "output_type": "display_data"
    },
    {
     "name": "stderr",
     "output_type": "stream",
     "text": [
      "Sampling 6 chains for 2_000 tune and 1_500 draw iterations (12_000 + 9_000 draws total) took 9 seconds.\n",
      "There were 1 divergences after tuning. Increase `target_accept` or reparameterize.\n",
      "Initializing NUTS using jitter+adapt_diag...\n",
      "Multiprocess sampling (6 chains in 6 jobs)\n",
      "NUTS: [ls, amp, ls2]\n"
     ]
    },
    {
     "data": {
      "application/vnd.jupyter.widget-view+json": {
       "model_id": "e89b0787707544c19d6502b31b9b7edd",
       "version_major": 2,
       "version_minor": 0
      },
      "text/plain": [
       "Output()"
      ]
     },
     "metadata": {},
     "output_type": "display_data"
    },
    {
     "data": {
      "text/html": [
       "<pre style=\"white-space:pre;overflow-x:auto;line-height:normal;font-family:Menlo,'DejaVu Sans Mono',consolas,'Courier New',monospace\"></pre>\n"
      ],
      "text/plain": []
     },
     "metadata": {},
     "output_type": "display_data"
    },
    {
     "name": "stderr",
     "output_type": "stream",
     "text": [
      "Sampling 6 chains for 2_000 tune and 1_500 draw iterations (12_000 + 9_000 draws total) took 190 seconds.\n",
      "Initializing NUTS using jitter+adapt_diag...\n",
      "Multiprocess sampling (6 chains in 6 jobs)\n",
      "NUTS: [ls, amp]\n"
     ]
    },
    {
     "data": {
      "application/vnd.jupyter.widget-view+json": {
       "model_id": "4dd106b4b1494ed8a70d32c56d32abd0",
       "version_major": 2,
       "version_minor": 0
      },
      "text/plain": [
       "Output()"
      ]
     },
     "metadata": {},
     "output_type": "display_data"
    },
    {
     "data": {
      "text/html": [
       "<pre style=\"white-space:pre;overflow-x:auto;line-height:normal;font-family:Menlo,'DejaVu Sans Mono',consolas,'Courier New',monospace\"></pre>\n"
      ],
      "text/plain": []
     },
     "metadata": {},
     "output_type": "display_data"
    },
    {
     "name": "stderr",
     "output_type": "stream",
     "text": [
      "Sampling 6 chains for 2_000 tune and 1_500 draw iterations (12_000 + 9_000 draws total) took 28 seconds.\n",
      "Initializing NUTS using jitter+adapt_diag...\n",
      "Multiprocess sampling (6 chains in 6 jobs)\n",
      "NUTS: [ls, amp, ls2]\n"
     ]
    },
    {
     "data": {
      "application/vnd.jupyter.widget-view+json": {
       "model_id": "376b50cc973d4914ad8991c2ce8cbf43",
       "version_major": 2,
       "version_minor": 0
      },
      "text/plain": [
       "Output()"
      ]
     },
     "metadata": {},
     "output_type": "display_data"
    },
    {
     "data": {
      "text/html": [
       "<pre style=\"white-space:pre;overflow-x:auto;line-height:normal;font-family:Menlo,'DejaVu Sans Mono',consolas,'Courier New',monospace\"></pre>\n"
      ],
      "text/plain": []
     },
     "metadata": {},
     "output_type": "display_data"
    },
    {
     "name": "stderr",
     "output_type": "stream",
     "text": [
      "Sampling 6 chains for 2_000 tune and 1_500 draw iterations (12_000 + 9_000 draws total) took 180 seconds.\n",
      "Initializing NUTS using jitter+adapt_diag...\n",
      "Multiprocess sampling (6 chains in 6 jobs)\n",
      "NUTS: [ls, amp]\n"
     ]
    },
    {
     "data": {
      "application/vnd.jupyter.widget-view+json": {
       "model_id": "6d7e04d47b7a477babf70de00e62f618",
       "version_major": 2,
       "version_minor": 0
      },
      "text/plain": [
       "Output()"
      ]
     },
     "metadata": {},
     "output_type": "display_data"
    },
    {
     "data": {
      "text/html": [
       "<pre style=\"white-space:pre;overflow-x:auto;line-height:normal;font-family:Menlo,'DejaVu Sans Mono',consolas,'Courier New',monospace\"></pre>\n"
      ],
      "text/plain": []
     },
     "metadata": {},
     "output_type": "display_data"
    },
    {
     "name": "stderr",
     "output_type": "stream",
     "text": [
      "Sampling 6 chains for 2_000 tune and 1_500 draw iterations (12_000 + 9_000 draws total) took 95 seconds.\n",
      "Initializing NUTS using jitter+adapt_diag...\n",
      "Multiprocess sampling (6 chains in 6 jobs)\n",
      "NUTS: [ls, amp, ls2]\n"
     ]
    },
    {
     "data": {
      "application/vnd.jupyter.widget-view+json": {
       "model_id": "633882a03973437ca04f083dc48170d5",
       "version_major": 2,
       "version_minor": 0
      },
      "text/plain": [
       "Output()"
      ]
     },
     "metadata": {},
     "output_type": "display_data"
    },
    {
     "data": {
      "text/html": [
       "<pre style=\"white-space:pre;overflow-x:auto;line-height:normal;font-family:Menlo,'DejaVu Sans Mono',consolas,'Courier New',monospace\"></pre>\n"
      ],
      "text/plain": []
     },
     "metadata": {},
     "output_type": "display_data"
    },
    {
     "name": "stderr",
     "output_type": "stream",
     "text": [
      "Sampling 6 chains for 2_000 tune and 1_500 draw iterations (12_000 + 9_000 draws total) took 248 seconds.\n",
      "Initializing NUTS using jitter+adapt_diag...\n",
      "Multiprocess sampling (6 chains in 6 jobs)\n",
      "NUTS: [ls, amp]\n"
     ]
    },
    {
     "data": {
      "application/vnd.jupyter.widget-view+json": {
       "model_id": "4baa935aef7d49ff974a09edbcedf612",
       "version_major": 2,
       "version_minor": 0
      },
      "text/plain": [
       "Output()"
      ]
     },
     "metadata": {},
     "output_type": "display_data"
    },
    {
     "data": {
      "text/html": [
       "<pre style=\"white-space:pre;overflow-x:auto;line-height:normal;font-family:Menlo,'DejaVu Sans Mono',consolas,'Courier New',monospace\"></pre>\n"
      ],
      "text/plain": []
     },
     "metadata": {},
     "output_type": "display_data"
    },
    {
     "name": "stderr",
     "output_type": "stream",
     "text": [
      "Sampling 6 chains for 2_000 tune and 1_500 draw iterations (12_000 + 9_000 draws total) took 21 seconds.\n",
      "Initializing NUTS using jitter+adapt_diag...\n",
      "Multiprocess sampling (6 chains in 6 jobs)\n",
      "NUTS: [ls, amp, ls2]\n"
     ]
    },
    {
     "data": {
      "application/vnd.jupyter.widget-view+json": {
       "model_id": "360c481e9e5e4f5482261a903a727350",
       "version_major": 2,
       "version_minor": 0
      },
      "text/plain": [
       "Output()"
      ]
     },
     "metadata": {},
     "output_type": "display_data"
    },
    {
     "data": {
      "text/html": [
       "<pre style=\"white-space:pre;overflow-x:auto;line-height:normal;font-family:Menlo,'DejaVu Sans Mono',consolas,'Courier New',monospace\"></pre>\n"
      ],
      "text/plain": []
     },
     "metadata": {},
     "output_type": "display_data"
    },
    {
     "name": "stderr",
     "output_type": "stream",
     "text": [
      "Sampling 6 chains for 2_000 tune and 1_500 draw iterations (12_000 + 9_000 draws total) took 197 seconds.\n",
      "Initializing NUTS using jitter+adapt_diag...\n",
      "Multiprocess sampling (6 chains in 6 jobs)\n",
      "NUTS: [ls, amp]\n"
     ]
    },
    {
     "data": {
      "application/vnd.jupyter.widget-view+json": {
       "model_id": "1a26b88ab14247628c08b6a926d649fd",
       "version_major": 2,
       "version_minor": 0
      },
      "text/plain": [
       "Output()"
      ]
     },
     "metadata": {},
     "output_type": "display_data"
    },
    {
     "data": {
      "text/html": [
       "<pre style=\"white-space:pre;overflow-x:auto;line-height:normal;font-family:Menlo,'DejaVu Sans Mono',consolas,'Courier New',monospace\"></pre>\n"
      ],
      "text/plain": []
     },
     "metadata": {},
     "output_type": "display_data"
    },
    {
     "name": "stderr",
     "output_type": "stream",
     "text": [
      "Sampling 6 chains for 2_000 tune and 1_500 draw iterations (12_000 + 9_000 draws total) took 65 seconds.\n",
      "There were 1 divergences after tuning. Increase `target_accept` or reparameterize.\n",
      "Initializing NUTS using jitter+adapt_diag...\n",
      "Multiprocess sampling (6 chains in 6 jobs)\n",
      "NUTS: [ls, amp, ls2]\n"
     ]
    },
    {
     "data": {
      "application/vnd.jupyter.widget-view+json": {
       "model_id": "69eefee754034e2fa3b8e74035ae2a88",
       "version_major": 2,
       "version_minor": 0
      },
      "text/plain": [
       "Output()"
      ]
     },
     "metadata": {},
     "output_type": "display_data"
    },
    {
     "data": {
      "text/html": [
       "<pre style=\"white-space:pre;overflow-x:auto;line-height:normal;font-family:Menlo,'DejaVu Sans Mono',consolas,'Courier New',monospace\"></pre>\n"
      ],
      "text/plain": []
     },
     "metadata": {},
     "output_type": "display_data"
    },
    {
     "name": "stderr",
     "output_type": "stream",
     "text": [
      "Sampling 6 chains for 2_000 tune and 1_500 draw iterations (12_000 + 9_000 draws total) took 246 seconds.\n",
      "The rhat statistic is larger than 1.01 for some parameters. This indicates problems during sampling. See https://arxiv.org/abs/1903.08008 for details\n",
      "The effective sample size per chain is smaller than 100 for some parameters.  A higher number is needed for reliable rhat and ess computation. See https://arxiv.org/abs/1903.08008 for details\n",
      "Initializing NUTS using jitter+adapt_diag...\n",
      "Multiprocess sampling (6 chains in 6 jobs)\n",
      "NUTS: [ls, amp]\n"
     ]
    },
    {
     "data": {
      "application/vnd.jupyter.widget-view+json": {
       "model_id": "dfe1ee74ceec42b68064d36774611be9",
       "version_major": 2,
       "version_minor": 0
      },
      "text/plain": [
       "Output()"
      ]
     },
     "metadata": {},
     "output_type": "display_data"
    },
    {
     "data": {
      "text/html": [
       "<pre style=\"white-space:pre;overflow-x:auto;line-height:normal;font-family:Menlo,'DejaVu Sans Mono',consolas,'Courier New',monospace\"></pre>\n"
      ],
      "text/plain": []
     },
     "metadata": {},
     "output_type": "display_data"
    },
    {
     "name": "stderr",
     "output_type": "stream",
     "text": [
      "Sampling 6 chains for 2_000 tune and 1_500 draw iterations (12_000 + 9_000 draws total) took 61 seconds.\n",
      "Initializing NUTS using jitter+adapt_diag...\n",
      "Multiprocess sampling (6 chains in 6 jobs)\n",
      "NUTS: [ls, amp, ls2]\n"
     ]
    },
    {
     "data": {
      "application/vnd.jupyter.widget-view+json": {
       "model_id": "d7dd8f69f6b04d14a00eb906ccc395e7",
       "version_major": 2,
       "version_minor": 0
      },
      "text/plain": [
       "Output()"
      ]
     },
     "metadata": {},
     "output_type": "display_data"
    },
    {
     "data": {
      "text/html": [
       "<pre style=\"white-space:pre;overflow-x:auto;line-height:normal;font-family:Menlo,'DejaVu Sans Mono',consolas,'Courier New',monospace\"></pre>\n"
      ],
      "text/plain": []
     },
     "metadata": {},
     "output_type": "display_data"
    },
    {
     "name": "stderr",
     "output_type": "stream",
     "text": [
      "Sampling 6 chains for 2_000 tune and 1_500 draw iterations (12_000 + 9_000 draws total) took 192 seconds.\n",
      "Initializing NUTS using jitter+adapt_diag...\n",
      "Multiprocess sampling (6 chains in 6 jobs)\n",
      "NUTS: [ls, amp]\n"
     ]
    },
    {
     "data": {
      "application/vnd.jupyter.widget-view+json": {
       "model_id": "eff74f6291524508a364c495acf51131",
       "version_major": 2,
       "version_minor": 0
      },
      "text/plain": [
       "Output()"
      ]
     },
     "metadata": {},
     "output_type": "display_data"
    },
    {
     "data": {
      "text/html": [
       "<pre style=\"white-space:pre;overflow-x:auto;line-height:normal;font-family:Menlo,'DejaVu Sans Mono',consolas,'Courier New',monospace\"></pre>\n"
      ],
      "text/plain": []
     },
     "metadata": {},
     "output_type": "display_data"
    },
    {
     "name": "stderr",
     "output_type": "stream",
     "text": [
      "Sampling 6 chains for 2_000 tune and 1_500 draw iterations (12_000 + 9_000 draws total) took 20 seconds.\n",
      "There were 2 divergences after tuning. Increase `target_accept` or reparameterize.\n",
      "Initializing NUTS using jitter+adapt_diag...\n",
      "Multiprocess sampling (6 chains in 6 jobs)\n",
      "NUTS: [ls, amp, ls2]\n"
     ]
    },
    {
     "data": {
      "application/vnd.jupyter.widget-view+json": {
       "model_id": "e4814c0408c144b98137d5707b9c674b",
       "version_major": 2,
       "version_minor": 0
      },
      "text/plain": [
       "Output()"
      ]
     },
     "metadata": {},
     "output_type": "display_data"
    },
    {
     "data": {
      "text/html": [
       "<pre style=\"white-space:pre;overflow-x:auto;line-height:normal;font-family:Menlo,'DejaVu Sans Mono',consolas,'Courier New',monospace\"></pre>\n"
      ],
      "text/plain": []
     },
     "metadata": {},
     "output_type": "display_data"
    },
    {
     "name": "stderr",
     "output_type": "stream",
     "text": [
      "Sampling 6 chains for 2_000 tune and 1_500 draw iterations (12_000 + 9_000 draws total) took 181 seconds.\n",
      "Initializing NUTS using jitter+adapt_diag...\n",
      "Multiprocess sampling (6 chains in 6 jobs)\n",
      "NUTS: [ls, amp]\n"
     ]
    },
    {
     "data": {
      "application/vnd.jupyter.widget-view+json": {
       "model_id": "c19576290b1148efb397ddecd444b567",
       "version_major": 2,
       "version_minor": 0
      },
      "text/plain": [
       "Output()"
      ]
     },
     "metadata": {},
     "output_type": "display_data"
    },
    {
     "data": {
      "text/html": [
       "<pre style=\"white-space:pre;overflow-x:auto;line-height:normal;font-family:Menlo,'DejaVu Sans Mono',consolas,'Courier New',monospace\"></pre>\n"
      ],
      "text/plain": []
     },
     "metadata": {},
     "output_type": "display_data"
    },
    {
     "name": "stderr",
     "output_type": "stream",
     "text": [
      "Sampling 6 chains for 2_000 tune and 1_500 draw iterations (12_000 + 9_000 draws total) took 80 seconds.\n",
      "Initializing NUTS using jitter+adapt_diag...\n",
      "Multiprocess sampling (6 chains in 6 jobs)\n",
      "NUTS: [ls, amp, ls2]\n"
     ]
    },
    {
     "data": {
      "application/vnd.jupyter.widget-view+json": {
       "model_id": "cf1e07af524e4ab58580b79841f9fa9f",
       "version_major": 2,
       "version_minor": 0
      },
      "text/plain": [
       "Output()"
      ]
     },
     "metadata": {},
     "output_type": "display_data"
    },
    {
     "data": {
      "text/html": [
       "<pre style=\"white-space:pre;overflow-x:auto;line-height:normal;font-family:Menlo,'DejaVu Sans Mono',consolas,'Courier New',monospace\"></pre>\n"
      ],
      "text/plain": []
     },
     "metadata": {},
     "output_type": "display_data"
    },
    {
     "name": "stderr",
     "output_type": "stream",
     "text": [
      "Sampling 6 chains for 2_000 tune and 1_500 draw iterations (12_000 + 9_000 draws total) took 260 seconds.\n",
      "Initializing NUTS using jitter+adapt_diag...\n",
      "Multiprocess sampling (6 chains in 6 jobs)\n",
      "NUTS: [ls, amp]\n"
     ]
    },
    {
     "data": {
      "application/vnd.jupyter.widget-view+json": {
       "model_id": "8c6e47e219eb4e4083aa1de50f3421dd",
       "version_major": 2,
       "version_minor": 0
      },
      "text/plain": [
       "Output()"
      ]
     },
     "metadata": {},
     "output_type": "display_data"
    },
    {
     "data": {
      "text/html": [
       "<pre style=\"white-space:pre;overflow-x:auto;line-height:normal;font-family:Menlo,'DejaVu Sans Mono',consolas,'Courier New',monospace\"></pre>\n"
      ],
      "text/plain": []
     },
     "metadata": {},
     "output_type": "display_data"
    },
    {
     "name": "stderr",
     "output_type": "stream",
     "text": [
      "Sampling 6 chains for 2_000 tune and 1_500 draw iterations (12_000 + 9_000 draws total) took 33 seconds.\n",
      "Initializing NUTS using jitter+adapt_diag...\n",
      "Multiprocess sampling (6 chains in 6 jobs)\n",
      "NUTS: [ls, amp, ls2]\n"
     ]
    },
    {
     "data": {
      "application/vnd.jupyter.widget-view+json": {
       "model_id": "4eb7903342904f1688a42db11bc7c58c",
       "version_major": 2,
       "version_minor": 0
      },
      "text/plain": [
       "Output()"
      ]
     },
     "metadata": {},
     "output_type": "display_data"
    },
    {
     "data": {
      "text/html": [
       "<pre style=\"white-space:pre;overflow-x:auto;line-height:normal;font-family:Menlo,'DejaVu Sans Mono',consolas,'Courier New',monospace\"></pre>\n"
      ],
      "text/plain": []
     },
     "metadata": {},
     "output_type": "display_data"
    },
    {
     "name": "stderr",
     "output_type": "stream",
     "text": [
      "Sampling 6 chains for 2_000 tune and 1_500 draw iterations (12_000 + 9_000 draws total) took 228 seconds.\n",
      "Initializing NUTS using jitter+adapt_diag...\n",
      "Multiprocess sampling (6 chains in 6 jobs)\n",
      "NUTS: [ls, amp]\n"
     ]
    },
    {
     "data": {
      "application/vnd.jupyter.widget-view+json": {
       "model_id": "545404b4f3144e03b7d9a0c45a118a72",
       "version_major": 2,
       "version_minor": 0
      },
      "text/plain": [
       "Output()"
      ]
     },
     "metadata": {},
     "output_type": "display_data"
    },
    {
     "data": {
      "text/html": [
       "<pre style=\"white-space:pre;overflow-x:auto;line-height:normal;font-family:Menlo,'DejaVu Sans Mono',consolas,'Courier New',monospace\"></pre>\n"
      ],
      "text/plain": []
     },
     "metadata": {},
     "output_type": "display_data"
    },
    {
     "name": "stderr",
     "output_type": "stream",
     "text": [
      "Sampling 6 chains for 2_000 tune and 1_500 draw iterations (12_000 + 9_000 draws total) took 137 seconds.\n",
      "Initializing NUTS using jitter+adapt_diag...\n",
      "Multiprocess sampling (6 chains in 6 jobs)\n",
      "NUTS: [ls, amp, ls2]\n"
     ]
    },
    {
     "data": {
      "application/vnd.jupyter.widget-view+json": {
       "model_id": "f66e58598a1f4e7bbfc7b080fd4583d1",
       "version_major": 2,
       "version_minor": 0
      },
      "text/plain": [
       "Output()"
      ]
     },
     "metadata": {},
     "output_type": "display_data"
    },
    {
     "data": {
      "text/html": [
       "<pre style=\"white-space:pre;overflow-x:auto;line-height:normal;font-family:Menlo,'DejaVu Sans Mono',consolas,'Courier New',monospace\"></pre>\n"
      ],
      "text/plain": []
     },
     "metadata": {},
     "output_type": "display_data"
    },
    {
     "name": "stderr",
     "output_type": "stream",
     "text": [
      "Sampling 6 chains for 2_000 tune and 1_500 draw iterations (12_000 + 9_000 draws total) took 97 seconds.\n",
      "Initializing NUTS using jitter+adapt_diag...\n",
      "Multiprocess sampling (6 chains in 6 jobs)\n",
      "NUTS: [ls, amp]\n"
     ]
    },
    {
     "data": {
      "application/vnd.jupyter.widget-view+json": {
       "model_id": "ca3215448a8a43c589ecae5c44c4714e",
       "version_major": 2,
       "version_minor": 0
      },
      "text/plain": [
       "Output()"
      ]
     },
     "metadata": {},
     "output_type": "display_data"
    },
    {
     "data": {
      "text/html": [
       "<pre style=\"white-space:pre;overflow-x:auto;line-height:normal;font-family:Menlo,'DejaVu Sans Mono',consolas,'Courier New',monospace\"></pre>\n"
      ],
      "text/plain": []
     },
     "metadata": {},
     "output_type": "display_data"
    },
    {
     "name": "stderr",
     "output_type": "stream",
     "text": [
      "Sampling 6 chains for 2_000 tune and 1_500 draw iterations (12_000 + 9_000 draws total) took 10 seconds.\n",
      "Initializing NUTS using jitter+adapt_diag...\n",
      "Multiprocess sampling (6 chains in 6 jobs)\n",
      "NUTS: [ls, amp, ls2]\n"
     ]
    },
    {
     "data": {
      "application/vnd.jupyter.widget-view+json": {
       "model_id": "0fd7477513984eb0a0d6643e78045b2d",
       "version_major": 2,
       "version_minor": 0
      },
      "text/plain": [
       "Output()"
      ]
     },
     "metadata": {},
     "output_type": "display_data"
    },
    {
     "data": {
      "text/html": [
       "<pre style=\"white-space:pre;overflow-x:auto;line-height:normal;font-family:Menlo,'DejaVu Sans Mono',consolas,'Courier New',monospace\"></pre>\n"
      ],
      "text/plain": []
     },
     "metadata": {},
     "output_type": "display_data"
    },
    {
     "name": "stderr",
     "output_type": "stream",
     "text": [
      "Sampling 6 chains for 2_000 tune and 1_500 draw iterations (12_000 + 9_000 draws total) took 14 seconds.\n",
      "Initializing NUTS using jitter+adapt_diag...\n",
      "Multiprocess sampling (6 chains in 6 jobs)\n",
      "NUTS: [ls, amp]\n"
     ]
    },
    {
     "data": {
      "application/vnd.jupyter.widget-view+json": {
       "model_id": "0806a9c023c64905b53423134aff1fa6",
       "version_major": 2,
       "version_minor": 0
      },
      "text/plain": [
       "Output()"
      ]
     },
     "metadata": {},
     "output_type": "display_data"
    },
    {
     "data": {
      "text/html": [
       "<pre style=\"white-space:pre;overflow-x:auto;line-height:normal;font-family:Menlo,'DejaVu Sans Mono',consolas,'Courier New',monospace\"></pre>\n"
      ],
      "text/plain": []
     },
     "metadata": {},
     "output_type": "display_data"
    },
    {
     "name": "stderr",
     "output_type": "stream",
     "text": [
      "Sampling 6 chains for 2_000 tune and 1_500 draw iterations (12_000 + 9_000 draws total) took 9 seconds.\n",
      "Initializing NUTS using jitter+adapt_diag...\n",
      "Multiprocess sampling (6 chains in 6 jobs)\n",
      "NUTS: [ls, amp, ls2]\n"
     ]
    },
    {
     "data": {
      "application/vnd.jupyter.widget-view+json": {
       "model_id": "4a1ef0fa729648c5a438aa15f078297f",
       "version_major": 2,
       "version_minor": 0
      },
      "text/plain": [
       "Output()"
      ]
     },
     "metadata": {},
     "output_type": "display_data"
    },
    {
     "data": {
      "text/html": [
       "<pre style=\"white-space:pre;overflow-x:auto;line-height:normal;font-family:Menlo,'DejaVu Sans Mono',consolas,'Courier New',monospace\"></pre>\n"
      ],
      "text/plain": []
     },
     "metadata": {},
     "output_type": "display_data"
    },
    {
     "name": "stderr",
     "output_type": "stream",
     "text": [
      "Sampling 6 chains for 2_000 tune and 1_500 draw iterations (12_000 + 9_000 draws total) took 13 seconds.\n",
      "Initializing NUTS using jitter+adapt_diag...\n",
      "Multiprocess sampling (6 chains in 6 jobs)\n",
      "NUTS: [ls, amp]\n"
     ]
    },
    {
     "data": {
      "application/vnd.jupyter.widget-view+json": {
       "model_id": "0ecc0c4db0a040a0ab66fb1eb391e4e3",
       "version_major": 2,
       "version_minor": 0
      },
      "text/plain": [
       "Output()"
      ]
     },
     "metadata": {},
     "output_type": "display_data"
    },
    {
     "data": {
      "text/html": [
       "<pre style=\"white-space:pre;overflow-x:auto;line-height:normal;font-family:Menlo,'DejaVu Sans Mono',consolas,'Courier New',monospace\"></pre>\n"
      ],
      "text/plain": []
     },
     "metadata": {},
     "output_type": "display_data"
    },
    {
     "name": "stderr",
     "output_type": "stream",
     "text": [
      "Sampling 6 chains for 2_000 tune and 1_500 draw iterations (12_000 + 9_000 draws total) took 9 seconds.\n"
     ]
    }
   ],
   "source": [
    "# fit model for all cells\n",
    "ou_data_list, ou_model_list = [], []\n",
    "ouosc_data_list, ouosc_model_list = [], []\n",
    "\n",
    "for x, y in zip(X, Y):\n",
    "    # ouosc model\n",
    "    idata, gp_model = fit_model(\n",
    "        x,\n",
    "        y,\n",
    "        noise,\n",
    "        model=\"ouosc\",\n",
    "        draws=1500,\n",
    "        tune=2000,\n",
    "        chains=6,\n",
    "    )\n",
    "    ouosc_data_list.append(idata)\n",
    "    ouosc_model_list.append(gp_model)\n",
    "\n",
    "    # ou model\n",
    "    idata, gp_model = fit_model(\n",
    "        x,\n",
    "        y,\n",
    "        noise,\n",
    "        model=\"ou\",\n",
    "        draws=1500,\n",
    "        tune=2000,\n",
    "        chains=6,\n",
    "    )\n",
    "    ou_data_list.append(idata)\n",
    "    ou_model_list.append(gp_model)"
   ]
  },
  {
   "cell_type": "code",
   "execution_count": 7,
   "metadata": {},
   "outputs": [
    {
     "name": "stderr",
     "output_type": "stream",
     "text": [
      "/var/folders/02/sbxv72953zl8f3lq6bgy3hh40000gn/T/ipykernel_40672/1648944363.py:70: UserWarning: Median ESS=13.3 below threshold 100; bridge-sampling results may be unreliable.\n",
      "  warnings.warn(\n",
      "/var/folders/02/sbxv72953zl8f3lq6bgy3hh40000gn/T/ipykernel_40672/1648944363.py:119: RuntimeWarning: overflow encountered in exp\n",
      "  den = 1.0 / (s1 * np.exp(l1 - lstar) + s2 * r)\n"
     ]
    },
    {
     "name": "stdout",
     "output_type": "stream",
     "text": [
      "OUosc: 2261.6615 vs OU: 2261.6615\n",
      "Number of iterations: 4\n",
      "logZ_ou: [np.float64(2261.661522097426), np.float64(2261.661522097426), np.float64(2261.661522097426), np.float64(2261.661522097426), np.float64(2261.661522097426), np.float64(2261.661522097426), np.float64(2261.661522097426), np.float64(2261.661522097426), np.float64(2261.661522097426), np.float64(2261.661522097426), np.float64(2261.661522097426), np.float64(2261.661522097426), np.float64(2261.661522097426), np.float64(2261.661522097426), np.float64(2261.661522097426), np.float64(2261.661522097426), np.float64(2261.661522097426), np.float64(2261.661522097426), np.float64(2261.661522097426), np.float64(2261.661522097426), np.float64(2261.661522097426), np.float64(2261.661522097426), np.float64(2261.661522097426), np.float64(2261.661522097426), np.float64(2261.661522097426), np.float64(2261.661522097426), np.float64(2261.661522097426), np.float64(2261.661522097426), np.float64(2261.661522097426), np.float64(2261.661522097426), np.float64(2261.661522097426), np.float64(2261.661522097426), np.float64(2261.661522097426), np.float64(2261.661522097426), np.float64(2261.661522097426), np.float64(2261.661522097426), np.float64(2261.661522097426), np.float64(2261.661522097426), np.float64(2261.661522097426), np.float64(2261.661522097426), np.float64(2261.661522097426), np.float64(2261.661522097426), np.float64(2261.661522097426), np.float64(2261.661522097426), np.float64(2261.661522097426), np.float64(2261.661522097426), np.float64(2261.661522097426), np.float64(2261.661522097426), np.float64(2261.661522097426), np.float64(2261.661522097426), np.float64(2261.661522097426), np.float64(2261.661522097426), np.float64(2261.661522097426), np.float64(2261.661522097426), np.float64(2261.661522097426), np.float64(2261.661522097426), np.float64(2261.661522097426), np.float64(2261.661522097426), np.float64(2261.661522097426), np.float64(2261.661522097426), np.float64(2261.661522097426), np.float64(2261.661522097426), np.float64(2261.661522097426), np.float64(2261.661522097426), np.float64(2261.661522097426), np.float64(2261.661522097426), np.float64(2261.661522097426), np.float64(2261.661522097426), np.float64(2261.661522097426), np.float64(2261.661522097426), np.float64(2261.661522097426), np.float64(2261.661522097426), np.float64(2261.661522097426), np.float64(2261.661522097426), np.float64(2261.661522097426), np.float64(2261.661522097426), np.float64(2261.661522097426), np.float64(2261.661522097426), np.float64(2261.661522097426), np.float64(2261.661522097426), np.float64(2261.661522097426), np.float64(2261.661522097426), np.float64(2261.661522097426), np.float64(2261.661522097426), np.float64(2261.661522097426), np.float64(2261.661522097426), np.float64(2261.661522097426), np.float64(2261.661522097426), np.float64(2261.661522097426), np.float64(2261.661522097426), np.float64(2261.661522097426), np.float64(2261.661522097426), np.float64(2261.661522097426), np.float64(2261.661522097426), np.float64(2261.661522097426), np.float64(2261.661522097426), np.float64(2261.661522097426), np.float64(2261.661522097426), np.float64(2261.661522097426), np.float64(2261.661522097426)]\n",
      "logZ_ouosc: [np.float64(2261.6590473695132), np.float64(2282.4405206924957), np.float64(2271.8168274896448), np.float64(2278.7080565041247), np.float64(2266.739693403041), np.float64(2269.4752006954536), np.float64(2274.0295724418006), np.float64(2284.0667822496744), np.float64(2267.365128126545), np.float64(2275.520777549654), np.float64(2285.352903925316), np.float64(2278.7771852755764), np.float64(2269.3043850058734), np.float64(2270.1252284011334), np.float64(2286.001705796485), np.float64(2255.1121220380196), np.float64(2279.3339452095474), np.float64(2264.928238567255), np.float64(2280.539706868295), np.float64(2277.219781039165), np.float64(2277.8031283491423), np.float64(2265.8126668074988), np.float64(2269.426979853837), np.float64(2273.1595299480446), np.float64(2267.7531749848104), np.float64(2269.3721705846315), np.float64(2265.152614058213), np.float64(2277.0636369634844), np.float64(2280.0009877738794), np.float64(2265.131352290248), np.float64(2274.4213493663115), np.float64(2275.795348354457), np.float64(2292.5211376215993), np.float64(2254.8413003813134), np.float64(2280.9534925764838), np.float64(2272.602382525317), np.float64(2293.9817172687585), np.float64(2281.0991930026858), np.float64(2280.849662405966), np.float64(2278.4674999201634), np.float64(2276.5017939360014), np.float64(2269.7086249938156), np.float64(2262.41148043645), np.float64(2273.6728870142542), np.float64(2286.33113756249), np.float64(2265.931926772421), np.float64(2264.6241753483423), np.float64(2293.9096413620405), np.float64(2261.6118755202974), np.float64(2267.4302872146973), np.float64(2262.2661007438487), np.float64(2283.368858241769), np.float64(2276.075245240986), np.float64(2257.283329935186), np.float64(2277.150535805667), np.float64(2284.299132986426), np.float64(2279.880370919496), np.float64(2270.9500932065816), np.float64(2257.7425103266123), np.float64(2270.92254409488), np.float64(2264.845082018142), np.float64(2275.755297417965), np.float64(2274.569554465264), np.float64(2275.209257413479), np.float64(2280.6319660197005), np.float64(2270.9027686678824), np.float64(2272.694253738486), np.float64(2267.366485000505), np.float64(2273.2367343168667), np.float64(2280.6858798492763), np.float64(2268.9439963757754), np.float64(2275.595245370144), np.float64(2265.773967691083), np.float64(2267.4702827705946), np.float64(2269.730721287634), np.float64(2262.7288426234813), np.float64(2268.9230963323434), np.float64(2270.9435894344388), np.float64(2266.513267219718), np.float64(2275.0023365775983), np.float64(2271.4023913076144), np.float64(2285.6942618630305), np.float64(2270.084265445306), np.float64(2275.136049984438), np.float64(2268.726660626789), np.float64(2275.6780087237576), np.float64(2275.5659080085215), np.float64(2287.605199094745), np.float64(2280.1024066324608), np.float64(2272.6235711030295), np.float64(2261.5878892055575), np.float64(2269.3136690363085), np.float64(2275.408979674337), np.float64(2288.804198739046), np.float64(2280.5104261512865), np.float64(2261.769752989801), np.float64(2269.8832074043776), np.float64(2263.70768415252), np.float64(2282.1225060724346), np.float64(2264.6558276811365)]\n",
      "Bayes Factor (ouosc vs ou): [9.97528332e-01 1.05731509e+09 2.57272338e+04 2.53055528e+07\n",
      " 1.60480318e+02 2.47421536e+03 2.35166804e+05 5.37626726e+09\n",
      " 2.99947071e+02 1.04471581e+06 1.94552312e+10 2.71167772e+07\n",
      " 2.08570646e+03 4.73959185e+03 3.72226655e+10 1.43097384e-03\n",
      " 4.73190307e+07 2.62250870e+01 1.58012511e+08 5.71302345e+06\n",
      " 1.02378915e+07 6.35066554e+01 2.35773751e+03 9.85193102e+04\n",
      " 4.42151634e+02 2.23198921e+03 3.28217682e+01 4.88712555e+06\n",
      " 9.21995379e+07 3.21312859e+01 3.47954592e+05 1.37481022e+06\n",
      " 2.52441491e+13 1.09147890e-03 2.38999132e+08 5.64358813e+04\n",
      " 1.08763310e+14 2.76486044e+08 2.15428647e+08 1.98949765e+07\n",
      " 2.78643021e+06 3.12472918e+03 2.11691182e+00 1.64615037e+05\n",
      " 5.17461290e+10 7.15505845e+01 1.93492421e+01 1.01199938e+14\n",
      " 9.51565670e-01 3.20142150e+02 1.83048077e+00 2.67532350e+09\n",
      " 1.81886483e+06 1.25480229e-02 5.33080975e+06 6.78249516e+09\n",
      " 8.17232275e+07 1.08137214e+04 1.98607120e-02 1.05198791e+04\n",
      " 2.41325106e+01 1.32083586e+06 4.03540595e+05 7.65079720e+05\n",
      " 1.73284259e+08 1.03138875e+04 6.18663468e+04 3.00354338e+02\n",
      " 1.06426748e+05 1.82883108e+08 1.45458262e+03 1.12548349e+06\n",
      " 6.10959509e+01 3.33205919e+02 3.19454258e+03 2.90757827e+00\n",
      " 1.42449727e+03 1.07436197e+04 1.27963507e+02 6.22074090e+05\n",
      " 1.69983101e+04 2.73707227e+10 4.54936685e+03 7.11071230e+05\n",
      " 1.17044410e+03 1.22259551e+06 1.09294442e+06 1.85010237e+11\n",
      " 1.02040927e+08 5.76444359e+04 9.29012679e-01 2.10516039e+03\n",
      " 9.34210977e+05 6.13641453e+11 1.53452872e+08 1.11430500e+00\n",
      " 3.72076774e+03 7.73814547e+00 7.69294158e+08 1.99714865e+01]\n"
     ]
    }
   ],
   "source": [
    "# calculate logZ\n",
    "logZ_ou, logZ_ouosc = [], []\n",
    "for ou_idata, ou_model, ouosc_idata, ouosc_model in zip(\n",
    "    ou_data_list, ou_model_list, ouosc_data_list, ouosc_model_list\n",
    "):\n",
    "    # calculate logZ\n",
    "    ouosc_marg_llk = bridge_sampler(\n",
    "        ouosc_idata, model=ouosc_model, maxiter=1000, scipy_fixed_point=False\n",
    "    )\n",
    "    logZ_ouosc.append(ouosc_marg_llk[\"logml\"])\n",
    "\n",
    "    # calculate logZ\n",
    "    ou_marg_llk = bridge_sampler(\n",
    "        ou_idata, model=ou_model, maxiter=1000, scipy_fixed_point=False\n",
    "    )\n",
    "    logZ_ou.append(marg_llk[\"logml\"])\n",
    "\n",
    "print(f\"OUosc: {marg_llk['logml']:.4f} vs OU: {marg_llk['logml']:.4f}\")\n",
    "print(f\"Number of iterations: {marg_llk['niter']}\")\n",
    "\n",
    "print(\"logZ_ou:\", logZ_ou)\n",
    "print(\"logZ_ouosc:\", logZ_ouosc)\n",
    "BF_array = np.exp(np.array(logZ_ouosc) - np.array(logZ_ou))\n",
    "print(\"Bayes Factor (ouosc vs ou):\", BF_array)"
   ]
  },
  {
   "cell_type": "code",
   "execution_count": 11,
   "metadata": {},
   "outputs": [
    {
     "data": {
      "text/plain": [
       "<matplotlib.legend.Legend at 0x3515b0170>"
      ]
     },
     "execution_count": 11,
     "metadata": {},
     "output_type": "execute_result"
    },
    {
     "data": {
      "image/png": "[encoded data removed]",
      "text/plain": [
       "<Figure size 640x480 with 1 Axes>"
      ]
     },
     "metadata": {},
     "output_type": "display_data"
    }
   ],
   "source": [
    "from sklearn.metrics import roc_curve\n",
    "\n",
    "n = len(X) // 2\n",
    "labels = [0 for _ in range(n)] + [1 for _ in range(n)]\n",
    "\n",
    "fpr, tpr, thresholds = roc_curve(labels, BF_array)\n",
    "\n",
    "# plot ROC curve\n",
    "plt.plot(fpr, tpr, label=\"ROC curve\")\n",
    "plt.plot([0, 1], [0, 1], \"k--\", label=\"Random\")\n",
    "plt.xlabel(\"False Positive Rate\")\n",
    "plt.ylabel(\"True Positive Rate\")\n",
    "plt.title(\"ROC Curve\")\n",
    "plt.legend()"
   ]
  },
  {
   "cell_type": "code",
   "execution_count": null,
   "metadata": {},
   "outputs": [],
   "source": []
  }
 ],
 "metadata": {
  "kernelspec": {
   "display_name": "gpcell",
   "language": "python",
   "name": "python3"
  },
  "language_info": {
   "codemirror_mode": {
    "name": "ipython",
    "version": 3
   },
   "file_extension": ".py",
   "mimetype": "text/x-python",
   "name": "python",
   "nbconvert_exporter": "python",
   "pygments_lexer": "ipython3",
   "version": "3.12.9"
  }
 },
 "nbformat": 4,
 "nbformat_minor": 2
}
