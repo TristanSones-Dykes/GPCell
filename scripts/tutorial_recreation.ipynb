{
 "cells": [
  {
   "cell_type": "code",
   "execution_count": 1,
   "metadata": {},
   "outputs": [],
   "source": [
    "# lib\n",
    "import sys\n",
    "\n",
    "sys.path.append(\"..\")\n",
    "\n",
    "# set cwd one up\n",
    "import os\n",
    "\n",
    "os.chdir(\"..\")\n",
    "path = \"data/hes/Hes1_example.csv\"\n"
   ]
  },
  {
   "cell_type": "code",
   "execution_count": 2,
   "metadata": {},
   "outputs": [],
   "source": [
    "from pyrocell.gp.gpflow import OscillatorDetector"
   ]
  },
  {
   "cell_type": "code",
   "execution_count": 3,
   "metadata": {},
   "outputs": [
    {
     "name": "stdout",
     "output_type": "stream",
     "text": [
      "Loaded data with 12 cells and 4 background noise models\n",
      "Plots: on\n",
      "\n",
      "\n",
      "Fitting background noise...\n",
      "tfp.bijectors.Softplus(\"softplus\", batch_shape=[], min_event_ndims=0, dtype=float64)\n",
      "Prior dict:\n",
      "tfp.bijectors.Softplus(\"softplus\", batch_shape=[], min_event_ndims=0, dtype=float64)\n",
      "tfp.bijectors.Softplus(\"softplus\", batch_shape=[], min_event_ndims=0, dtype=float64)\n",
      "Set kernel.lengthscales to tfp.bijectors.Softplus(\"softplus\", batch_shape=[], min_event_ndims=0, dtype=float64)\n",
      "<Parameter: name=softplus, dtype=float64, shape=[], fn=\"softplus\", numpy=1.0>\n",
      "tfp.bijectors.Softplus(\"softplus\", batch_shape=[], min_event_ndims=0, dtype=float64)\n",
      "Model parameters 1:\n",
      "tfp.bijectors.Softplus(\"softplus\", batch_shape=[], min_event_ndims=0)\n",
      "Model parameters 2:\n",
      "tfp.bijectors.Softplus(\"softplus\", batch_shape=[], min_event_ndims=0)\n",
      "tfp.bijectors.Softplus(\"softplus\", batch_shape=[], min_event_ndims=0, dtype=float64)\n",
      "Prior dict:\n",
      "tfp.bijectors.Softplus(\"softplus\", batch_shape=[], min_event_ndims=0, dtype=float64)\n",
      "tfp.bijectors.Softplus(\"softplus\", batch_shape=[], min_event_ndims=0, dtype=float64)\n",
      "Set kernel.lengthscales to tfp.bijectors.Softplus(\"softplus\", batch_shape=[], min_event_ndims=0, dtype=float64)\n",
      "<Parameter: name=softplus, dtype=float64, shape=[], fn=\"softplus\", numpy=1.0>\n",
      "tfp.bijectors.Softplus(\"softplus\", batch_shape=[], min_event_ndims=0, dtype=float64)\n",
      "Model parameters 1:\n",
      "tfp.bijectors.Softplus(\"softplus\", batch_shape=[], min_event_ndims=0)\n",
      "Model parameters 2:\n",
      "tfp.bijectors.Softplus(\"softplus\", batch_shape=[], min_event_ndims=0)\n",
      "tfp.bijectors.Softplus(\"softplus\", batch_shape=[], min_event_ndims=0, dtype=float64)\n",
      "Prior dict:\n",
      "tfp.bijectors.Softplus(\"softplus\", batch_shape=[], min_event_ndims=0, dtype=float64)\n",
      "tfp.bijectors.Softplus(\"softplus\", batch_shape=[], min_event_ndims=0, dtype=float64)\n",
      "Set kernel.lengthscales to tfp.bijectors.Softplus(\"softplus\", batch_shape=[], min_event_ndims=0, dtype=float64)\n",
      "<Parameter: name=softplus, dtype=float64, shape=[], fn=\"softplus\", numpy=1.0>\n",
      "tfp.bijectors.Softplus(\"softplus\", batch_shape=[], min_event_ndims=0, dtype=float64)\n",
      "Model parameters 1:\n",
      "tfp.bijectors.Softplus(\"softplus\", batch_shape=[], min_event_ndims=0)\n",
      "Model parameters 2:\n",
      "tfp.bijectors.Softplus(\"softplus\", batch_shape=[], min_event_ndims=0)\n",
      "tfp.bijectors.Softplus(\"softplus\", batch_shape=[], min_event_ndims=0, dtype=float64)\n",
      "Prior dict:\n",
      "tfp.bijectors.Softplus(\"softplus\", batch_shape=[], min_event_ndims=0, dtype=float64)\n",
      "tfp.bijectors.Softplus(\"softplus\", batch_shape=[], min_event_ndims=0, dtype=float64)\n",
      "Set kernel.lengthscales to tfp.bijectors.Softplus(\"softplus\", batch_shape=[], min_event_ndims=0, dtype=float64)\n",
      "<Parameter: name=softplus, dtype=float64, shape=[], fn=\"softplus\", numpy=1.0>\n",
      "tfp.bijectors.Softplus(\"softplus\", batch_shape=[], min_event_ndims=0, dtype=float64)\n",
      "Model parameters 1:\n",
      "tfp.bijectors.Softplus(\"softplus\", batch_shape=[], min_event_ndims=0)\n",
      "Model parameters 2:\n",
      "tfp.bijectors.Softplus(\"softplus\", batch_shape=[], min_event_ndims=0)\n"
     ]
    },
    {
     "ename": "AttributeError",
     "evalue": "'function' object has no attribute 'items'",
     "output_type": "error",
     "traceback": [
      "\u001b[0;31m---------------------------------------------------------------------------\u001b[0m",
      "\u001b[0;31mAttributeError\u001b[0m                            Traceback (most recent call last)",
      "Cell \u001b[0;32mIn[3], line 3\u001b[0m\n\u001b[1;32m      1\u001b[0m osc \u001b[38;5;241m=\u001b[39m OscillatorDetector(path, \u001b[38;5;124m\"\u001b[39m\u001b[38;5;124mTime (h)\u001b[39m\u001b[38;5;124m\"\u001b[39m, \u001b[38;5;124m\"\u001b[39m\u001b[38;5;124mBackground\u001b[39m\u001b[38;5;124m\"\u001b[39m, \u001b[38;5;124m\"\u001b[39m\u001b[38;5;124mCell\u001b[39m\u001b[38;5;124m\"\u001b[39m)\n\u001b[1;32m      2\u001b[0m params \u001b[38;5;241m=\u001b[39m {\u001b[38;5;124m\"\u001b[39m\u001b[38;5;124mverbose\u001b[39m\u001b[38;5;124m\"\u001b[39m: \u001b[38;5;28;01mTrue\u001b[39;00m, \u001b[38;5;124m\"\u001b[39m\u001b[38;5;124mplots\u001b[39m\u001b[38;5;124m\"\u001b[39m: [\u001b[38;5;124m\"\u001b[39m\u001b[38;5;124mbackground\u001b[39m\u001b[38;5;124m\"\u001b[39m, \u001b[38;5;124m\"\u001b[39m\u001b[38;5;124mdetrend\u001b[39m\u001b[38;5;124m\"\u001b[39m]}\n\u001b[0;32m----> 3\u001b[0m osc\u001b[38;5;241m.\u001b[39mrun(\u001b[38;5;241m*\u001b[39m\u001b[38;5;241m*\u001b[39mparams)\n",
      "File \u001b[0;32m~/scientific-computing/Python/MT5099/PyroCell/pyrocell/gp/gpflow/__init__.py:90\u001b[0m, in \u001b[0;36mOscillatorDetector.run\u001b[0;34m(self, *args, **kwargs)\u001b[0m\n\u001b[1;32m     87\u001b[0m \u001b[38;5;28mself\u001b[39m\u001b[38;5;241m.\u001b[39mnoise_list \u001b[38;5;241m=\u001b[39m [\u001b[38;5;28mself\u001b[39m\u001b[38;5;241m.\u001b[39mmean_std \u001b[38;5;241m/\u001b[39m std(y) \u001b[38;5;28;01mfor\u001b[39;00m y \u001b[38;5;129;01min\u001b[39;00m \u001b[38;5;28mself\u001b[39m\u001b[38;5;241m.\u001b[39mY]\n\u001b[1;32m     89\u001b[0m \u001b[38;5;66;03m# --- detrend data --- #\u001b[39;00m\n\u001b[0;32m---> 90\u001b[0m \u001b[38;5;28mself\u001b[39m\u001b[38;5;241m.\u001b[39mY_detrended, \u001b[38;5;28mself\u001b[39m\u001b[38;5;241m.\u001b[39mdetrend_GPs \u001b[38;5;241m=\u001b[39m detrend(\u001b[38;5;28mself\u001b[39m\u001b[38;5;241m.\u001b[39mX, \u001b[38;5;28mself\u001b[39m\u001b[38;5;241m.\u001b[39mY, \u001b[38;5;241m3\u001b[39m)\n\u001b[1;32m     92\u001b[0m \u001b[38;5;250m\u001b[39m\u001b[38;5;124;03m\"\"\"# --- fit OU and OU+Oscillator models --- #\u001b[39;00m\n\u001b[1;32m     93\u001b[0m \u001b[38;5;124;03mdef fit_ou_ouosc(X, Y, noise, K):\u001b[39;00m\n\u001b[1;32m     94\u001b[0m \u001b[38;5;124;03m    OU_LL_list, OUosc_LL_list = [[] for _ in range(2)]\u001b[39;00m\n\u001b[0;32m   (...)\u001b[0m\n\u001b[1;32m    201\u001b[0m \n\u001b[1;32m    202\u001b[0m \u001b[38;5;124;03mplt.tight_layout()\"\"\"\u001b[39;00m\n",
      "File \u001b[0;32m~/scientific-computing/Python/MT5099/PyroCell/pyrocell/gp/gpflow/utils.py:201\u001b[0m, in \u001b[0;36mdetrend\u001b[0;34m(X, Y, detrend_lengthscale, verbose)\u001b[0m\n\u001b[1;32m    173\u001b[0m \u001b[38;5;28;01mmatch\u001b[39;00m detrend_lengthscale:\n\u001b[1;32m    174\u001b[0m     \u001b[38;5;28;01mcase\u001b[39;00m \u001b[38;5;28mfloat\u001b[39m():\n\u001b[1;32m    175\u001b[0m         prior_gen \u001b[38;5;241m=\u001b[39m \u001b[38;5;28;01mlambda\u001b[39;00m: {  \u001b[38;5;66;03m# noqa: E731\u001b[39;00m\n\u001b[0;32m   (...)\u001b[0m\n\u001b[1;32m    197\u001b[0m             \u001b[38;5;28;01mfor\u001b[39;00m y \u001b[38;5;129;01min\u001b[39;00m Y\n\u001b[1;32m    198\u001b[0m         ]\n\u001b[1;32m    200\u001b[0m \u001b[38;5;66;03m# Fit detrending processes\u001b[39;00m\n\u001b[0;32m--> 201\u001b[0m GPs \u001b[38;5;241m=\u001b[39m fit_processes(X, Y_standardised, RBF, prior_gen, verbose\u001b[38;5;241m=\u001b[39mverbose)\n\u001b[1;32m    203\u001b[0m \u001b[38;5;66;03m# Detrend traces\u001b[39;00m\n\u001b[1;32m    204\u001b[0m detrended \u001b[38;5;241m=\u001b[39m []\n",
      "File \u001b[0;32m~/scientific-computing/Python/MT5099/PyroCell/pyrocell/gp/gpflow/utils.py:133\u001b[0m, in \u001b[0;36mfit_processes\u001b[0;34m(X, Y, kernels, prior_gen, replicates, trainable, operator, preprocess, verbose)\u001b[0m\n\u001b[1;32m    131\u001b[0m     new_processes \u001b[38;5;241m=\u001b[39m [GaussianProcess(constructor) \u001b[38;5;28;01mfor\u001b[39;00m _ \u001b[38;5;129;01min\u001b[39;00m \u001b[38;5;28mrange\u001b[39m(replicates)]\n\u001b[1;32m    132\u001b[0m     \u001b[38;5;28;01mfor\u001b[39;00m process \u001b[38;5;129;01min\u001b[39;00m new_processes:\n\u001b[0;32m--> 133\u001b[0m         process\u001b[38;5;241m.\u001b[39mfit(x, y)\n\u001b[1;32m    135\u001b[0m     processes\u001b[38;5;241m.\u001b[39mappend(new_processes)\n\u001b[1;32m    137\u001b[0m \u001b[38;5;28;01mmatch\u001b[39;00m replicates:\n\u001b[1;32m    138\u001b[0m     \u001b[38;5;28;01mcase\u001b[39;00m \u001b[38;5;241m1\u001b[39m:\n\u001b[1;32m    139\u001b[0m         \u001b[38;5;28;01mreturn\u001b[39;00m [x[\u001b[38;5;241m0\u001b[39m] \u001b[38;5;28;01mfor\u001b[39;00m x \u001b[38;5;129;01min\u001b[39;00m processes]\n\u001b[1;32m    140\u001b[0m     \u001b[38;5;28;01mcase\u001b[39;00m\u001b[38;5;250m \u001b[39m\u001b[38;5;28;01m_\u001b[39;00m:\n\u001b[1;32m    141\u001b[0m         \u001b[38;5;28;01mreturn\u001b[39;00m processes\n",
      "File \u001b[0;32m~/scientific-computing/Python/MT5099/PyroCell/pyrocell/gp/gpflow/backend/__init__.py:164\u001b[0m, in \u001b[0;36mGaussianProcess.fit\u001b[0;34m(self, X, y, verbose)\u001b[0m\n\u001b[1;32m    140\u001b[0m \u001b[38;5;28;01mdef\u001b[39;00m \u001b[38;5;21mfit\u001b[39m(\n\u001b[1;32m    141\u001b[0m     \u001b[38;5;28mself\u001b[39m,\n\u001b[1;32m    142\u001b[0m     X: Ndarray,\n\u001b[1;32m    143\u001b[0m     y: Ndarray,\n\u001b[1;32m    144\u001b[0m     verbose: \u001b[38;5;28mbool\u001b[39m \u001b[38;5;241m=\u001b[39m \u001b[38;5;28;01mFalse\u001b[39;00m,\n\u001b[1;32m    145\u001b[0m ):\n\u001b[1;32m    146\u001b[0m \u001b[38;5;250m    \u001b[39m\u001b[38;5;124;03m\"\"\"\u001b[39;00m\n\u001b[1;32m    147\u001b[0m \u001b[38;5;124;03m    Fit the Gaussian Process model, saves the model and training values for later use if needed.\u001b[39;00m\n\u001b[1;32m    148\u001b[0m \n\u001b[0;32m   (...)\u001b[0m\n\u001b[1;32m    161\u001b[0m \u001b[38;5;124;03m        Success status\u001b[39;00m\n\u001b[1;32m    162\u001b[0m \u001b[38;5;124;03m    \"\"\"\u001b[39;00m\n\u001b[0;32m--> 164\u001b[0m     gp_reg \u001b[38;5;241m=\u001b[39m \u001b[38;5;28mself\u001b[39m\u001b[38;5;241m.\u001b[39mconstructor(X, y)\n\u001b[1;32m    166\u001b[0m     \u001b[38;5;28mself\u001b[39m\u001b[38;5;241m.\u001b[39mX, \u001b[38;5;28mself\u001b[39m\u001b[38;5;241m.\u001b[39my \u001b[38;5;241m=\u001b[39m X, y\n\u001b[1;32m    167\u001b[0m     opt \u001b[38;5;241m=\u001b[39m optimizers\u001b[38;5;241m.\u001b[39mScipy()\n",
      "File \u001b[0;32m~/scientific-computing/Python/MT5099/PyroCell/pyrocell/gp/gpflow/backend/__init__.py:77\u001b[0m, in \u001b[0;36mGPRConstructor.__call__\u001b[0;34m(self, X, y)\u001b[0m\n\u001b[1;32m     74\u001b[0m kernel \u001b[38;5;241m=\u001b[39m \u001b[38;5;28mself\u001b[39m\u001b[38;5;241m.\u001b[39mkernel()\n\u001b[1;32m     75\u001b[0m model \u001b[38;5;241m=\u001b[39m GPR((X, y), kernel)\n\u001b[0;32m---> 77\u001b[0m prior_dict \u001b[38;5;241m=\u001b[39m {k: v(\u001b[38;5;241m*\u001b[39margs) \u001b[38;5;28;01mfor\u001b[39;00m k, (v, args) \u001b[38;5;129;01min\u001b[39;00m \u001b[38;5;28mself\u001b[39m\u001b[38;5;241m.\u001b[39mprior_gen\u001b[38;5;241m.\u001b[39mitems()}\n\u001b[1;32m     78\u001b[0m \u001b[38;5;28mprint\u001b[39m(\u001b[38;5;124m\"\u001b[39m\u001b[38;5;124mPrior dict:\u001b[39m\u001b[38;5;124m\"\u001b[39m)\n\u001b[1;32m     79\u001b[0m \u001b[38;5;28mprint\u001b[39m(prior_dict[\u001b[38;5;124m\"\u001b[39m\u001b[38;5;124mkernel.lengthscales\u001b[39m\u001b[38;5;124m\"\u001b[39m]\u001b[38;5;241m.\u001b[39mtransform)\n",
      "\u001b[0;31mAttributeError\u001b[0m: 'function' object has no attribute 'items'"
     ]
    }
   ],
   "source": [
    "osc = OscillatorDetector(path, \"Time (h)\", \"Background\", \"Cell\")\n",
    "params = {\"verbose\": True, \"plots\": [\"background\", \"detrend\"]}\n",
    "osc.run(**params)"
   ]
  },
  {
   "cell_type": "code",
   "execution_count": null,
   "metadata": {},
   "outputs": [
    {
     "data": {
      "text/html": [
       "<table>\n",
       "<thead>\n",
       "<tr><th>name                   </th><th>class    </th><th>transform       </th><th>prior  </th><th>trainable  </th><th>shape  </th><th>dtype  </th><th style=\"text-align: right;\">  value</th></tr>\n",
       "</thead>\n",
       "<tbody>\n",
       "<tr><td>GPR.kernel.variance    </td><td>Parameter</td><td>Softplus        </td><td>       </td><td>True       </td><td>()     </td><td>float64</td><td style=\"text-align: right;\">212.043</td></tr>\n",
       "<tr><td>GPR.kernel.lengthscales</td><td>Parameter</td><td>Softplus        </td><td>       </td><td>True       </td><td>()     </td><td>float64</td><td style=\"text-align: right;\"> 14.945</td></tr>\n",
       "<tr><td>GPR.likelihood.variance</td><td>Parameter</td><td>Softplus + Shift</td><td>       </td><td>True       </td><td>()     </td><td>float64</td><td style=\"text-align: right;\"> 42.625</td></tr>\n",
       "</tbody>\n",
       "</table>"
      ],
      "text/plain": [
       "<IPython.core.display.HTML object>"
      ]
     },
     "metadata": {},
     "output_type": "display_data"
    },
    {
     "name": "stdout",
     "output_type": "stream",
     "text": [
      "tfp.bijectors.Softplus(\"softplus\", batch_shape=[], min_event_ndims=0)\n"
     ]
    },
    {
     "data": {
      "text/html": [
       "<table>\n",
       "<thead>\n",
       "<tr><th>name                   </th><th>class    </th><th>transform       </th><th>prior  </th><th>trainable  </th><th>shape  </th><th>dtype  </th><th style=\"text-align: right;\">   value</th></tr>\n",
       "</thead>\n",
       "<tbody>\n",
       "<tr><td>GPR.kernel.variance    </td><td>Parameter</td><td>Softplus        </td><td>       </td><td>True       </td><td>()     </td><td>float64</td><td style=\"text-align: right;\">130.762 </td></tr>\n",
       "<tr><td>GPR.kernel.lengthscales</td><td>Parameter</td><td>Softplus        </td><td>       </td><td>True       </td><td>()     </td><td>float64</td><td style=\"text-align: right;\"> 12.1158</td></tr>\n",
       "<tr><td>GPR.likelihood.variance</td><td>Parameter</td><td>Softplus + Shift</td><td>       </td><td>True       </td><td>()     </td><td>float64</td><td style=\"text-align: right;\"> 70.3509</td></tr>\n",
       "</tbody>\n",
       "</table>"
      ],
      "text/plain": [
       "<IPython.core.display.HTML object>"
      ]
     },
     "metadata": {},
     "output_type": "display_data"
    },
    {
     "name": "stdout",
     "output_type": "stream",
     "text": [
      "tfp.bijectors.Softplus(\"softplus\", batch_shape=[], min_event_ndims=0)\n"
     ]
    },
    {
     "data": {
      "text/html": [
       "<table>\n",
       "<thead>\n",
       "<tr><th>name                   </th><th>class    </th><th>transform       </th><th>prior  </th><th>trainable  </th><th>shape  </th><th>dtype  </th><th style=\"text-align: right;\">   value</th></tr>\n",
       "</thead>\n",
       "<tbody>\n",
       "<tr><td>GPR.kernel.variance    </td><td>Parameter</td><td>Softplus        </td><td>       </td><td>True       </td><td>()     </td><td>float64</td><td style=\"text-align: right;\">124.456 </td></tr>\n",
       "<tr><td>GPR.kernel.lengthscales</td><td>Parameter</td><td>Softplus        </td><td>       </td><td>True       </td><td>()     </td><td>float64</td><td style=\"text-align: right;\"> 11.492 </td></tr>\n",
       "<tr><td>GPR.likelihood.variance</td><td>Parameter</td><td>Softplus + Shift</td><td>       </td><td>True       </td><td>()     </td><td>float64</td><td style=\"text-align: right;\"> 59.1923</td></tr>\n",
       "</tbody>\n",
       "</table>"
      ],
      "text/plain": [
       "<IPython.core.display.HTML object>"
      ]
     },
     "metadata": {},
     "output_type": "display_data"
    },
    {
     "name": "stdout",
     "output_type": "stream",
     "text": [
      "tfp.bijectors.Softplus(\"softplus\", batch_shape=[], min_event_ndims=0)\n"
     ]
    },
    {
     "data": {
      "text/html": [
       "<table>\n",
       "<thead>\n",
       "<tr><th>name                   </th><th>class    </th><th>transform       </th><th>prior  </th><th>trainable  </th><th>shape  </th><th>dtype  </th><th style=\"text-align: right;\">   value</th></tr>\n",
       "</thead>\n",
       "<tbody>\n",
       "<tr><td>GPR.kernel.variance    </td><td>Parameter</td><td>Softplus        </td><td>       </td><td>True       </td><td>()     </td><td>float64</td><td style=\"text-align: right;\">82.1757 </td></tr>\n",
       "<tr><td>GPR.kernel.lengthscales</td><td>Parameter</td><td>Softplus        </td><td>       </td><td>True       </td><td>()     </td><td>float64</td><td style=\"text-align: right;\"> 6.63217</td></tr>\n",
       "<tr><td>GPR.likelihood.variance</td><td>Parameter</td><td>Softplus + Shift</td><td>       </td><td>True       </td><td>()     </td><td>float64</td><td style=\"text-align: right;\">40.1473 </td></tr>\n",
       "</tbody>\n",
       "</table>"
      ],
      "text/plain": [
       "<IPython.core.display.HTML object>"
      ]
     },
     "metadata": {},
     "output_type": "display_data"
    },
    {
     "name": "stdout",
     "output_type": "stream",
     "text": [
      "tfp.bijectors.Softplus(\"softplus\", batch_shape=[], min_event_ndims=0)\n"
     ]
    }
   ],
   "source": [
    "from gpflow.utilities import print_summary\n",
    "\n",
    "for m in osc.bckgd_GPs:\n",
    "    print_summary(m.fit_gp, \"notebook\")\n",
    "    print(m.fit_gp.kernel.lengthscales.transform)"
   ]
  },
  {
   "cell_type": "code",
   "execution_count": null,
   "metadata": {},
   "outputs": [
    {
     "data": {
      "text/plain": [
       "<tfp.bijectors.Softplus 'softplus' batch_shape=[] forward_min_event_ndims=0 inverse_min_event_ndims=0 dtype_x=float64 dtype_y=float64>"
      ]
     },
     "execution_count": 6,
     "metadata": {},
     "output_type": "execute_result"
    }
   ],
   "source": [
    "from gpflow import Parameter\n",
    "from gpflow.utilities import to_default_float\n",
    "import tensorflow_probability as tfp\n",
    "\n",
    "\n",
    "def p(x):\n",
    "    return Parameter(\n",
    "        to_default_float(x + 0.1),\n",
    "        transform=tfp.bijectors.Softplus(low=to_default_float(x)),\n",
    "    )\n",
    "\n",
    "\n",
    "a = p(1.0)\n",
    "a.transform"
   ]
  },
  {
   "cell_type": "code",
   "execution_count": null,
   "metadata": {},
   "outputs": [
    {
     "data": {
      "text/plain": [
       "<tf.Tensor: shape=(), dtype=float64, numpy=1.0>"
      ]
     },
     "execution_count": 7,
     "metadata": {},
     "output_type": "execute_result"
    }
   ],
   "source": [
    "to_default_float(1.0)"
   ]
  },
  {
   "cell_type": "code",
   "execution_count": null,
   "metadata": {},
   "outputs": [
    {
     "data": {
      "text/plain": [
       "<tfp.bijectors.Softplus 'softplus' batch_shape=[] forward_min_event_ndims=0 inverse_min_event_ndims=0 dtype_x=float64 dtype_y=float64>"
      ]
     },
     "execution_count": 7,
     "metadata": {},
     "output_type": "execute_result"
    }
   ],
   "source": [
    "Parameter(\n",
    "    to_default_float(7.0 + 0.1),\n",
    "    transform=tfp.bijectors.Softplus(low=to_default_float(7.0)),\n",
    ").transform"
   ]
  },
  {
   "cell_type": "code",
   "execution_count": null,
   "metadata": {},
   "outputs": [
    {
     "data": {
      "text/plain": [
       "<tfp.bijectors.Softplus 'softplus' batch_shape=[] forward_min_event_ndims=0 inverse_min_event_ndims=0 dtype_x=float64 dtype_y=float64>"
      ]
     },
     "execution_count": 3,
     "metadata": {},
     "output_type": "execute_result"
    }
   ],
   "source": [
    "from gpflow.utilities import deepcopy\n",
    "\n",
    "a.transform"
   ]
  },
  {
   "cell_type": "code",
   "execution_count": null,
   "metadata": {},
   "outputs": [],
   "source": [
    "params = {\"a\": p(7.0)}"
   ]
  },
  {
   "cell_type": "code",
   "execution_count": null,
   "metadata": {},
   "outputs": [
    {
     "data": {
      "text/plain": [
       "<tfp.bijectors.Softplus 'softplus' batch_shape=[] forward_min_event_ndims=0 inverse_min_event_ndims=0 dtype_x=float64 dtype_y=float64>"
      ]
     },
     "execution_count": 5,
     "metadata": {},
     "output_type": "execute_result"
    }
   ],
   "source": [
    "params[\"a\"].transform"
   ]
  }
 ],
 "metadata": {
  "kernelspec": {
   "display_name": "gpcell",
   "language": "python",
   "name": "python3"
  },
  "language_info": {
   "codemirror_mode": {
    "name": "ipython",
    "version": 3
   },
   "file_extension": ".py",
   "mimetype": "text/x-python",
   "name": "python",
   "nbconvert_exporter": "python",
   "pygments_lexer": "ipython3",
   "version": "3.12.7"
  }
 },
 "nbformat": 4,
 "nbformat_minor": 2
}
