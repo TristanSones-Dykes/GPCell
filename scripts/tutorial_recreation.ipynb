{
 "cells": [
  {
   "cell_type": "code",
   "execution_count": null,
   "metadata": {},
   "outputs": [],
   "source": [
    "# lib\n",
    "import sys\n",
    "\n",
    "sys.path.append(\"..\")\n",
    "\n",
    "# set cwd one up\n",
    "import os\n",
    "\n",
    "os.chdir(\"..\")\n",
    "path = \"data/hes/Hes1_example.csv\""
   ]
  },
  {
   "cell_type": "code",
   "execution_count": null,
   "metadata": {},
   "outputs": [],
   "source": [
    "from pyrocell.gp.gpflow import OscillatorDetector\n",
    "\n",
    "osc = OscillatorDetector(path, \"Time (h)\", \"Background\", \"Cell\")\n",
    "\n",
    "params = {\"verbose\": True, \"plots\": [\"background\", \"detrend\", \"BIC\"]}\n",
    "osc.run(**params)"
   ]
  }
 ],
 "metadata": {
  "kernelspec": {
   "display_name": "Pyrocell",
   "language": "python",
   "name": "python3"
  },
  "language_info": {
   "codemirror_mode": {
    "name": "ipython",
    "version": 3
   },
   "file_extension": ".py",
   "mimetype": "text/x-python",
   "name": "python",
   "nbconvert_exporter": "python",
   "pygments_lexer": "ipython3",
   "version": "3.12.7"
  }
 },
 "nbformat": 4,
 "nbformat_minor": 2
}
