{
 "cells": [
  {
   "cell_type": "code",
   "execution_count": 1,
   "metadata": {},
   "outputs": [],
   "source": [
    "# lib\n",
    "import sys\n",
    "\n",
    "sys.path.append(\"..\")\n",
    "\n",
    "# set cwd one up\n",
    "import os\n",
    "\n",
    "os.chdir(\"..\")\n",
    "path = \"../data/hes/Hes1_example.csv\"\n"
   ]
  },
  {
   "cell_type": "code",
   "execution_count": 2,
   "metadata": {},
   "outputs": [],
   "source": [
    "from gpcell import OscillatorDetector"
   ]
  },
  {
   "cell_type": "code",
   "execution_count": 3,
   "metadata": {},
   "outputs": [
    {
     "ename": "TypeError",
     "evalue": "OscillatorDetector.run() got an unexpected keyword argument 'verbose'",
     "output_type": "error",
     "traceback": [
      "\u001b[0;31m---------------------------------------------------------------------------\u001b[0m",
      "\u001b[0;31mTypeError\u001b[0m                                 Traceback (most recent call last)",
      "Cell \u001b[0;32mIn[3], line 3\u001b[0m\n\u001b[1;32m      1\u001b[0m osc \u001b[38;5;241m=\u001b[39m OscillatorDetector(path, \u001b[38;5;124m\"\u001b[39m\u001b[38;5;124mTime (h)\u001b[39m\u001b[38;5;124m\"\u001b[39m, \u001b[38;5;124m\"\u001b[39m\u001b[38;5;124mBackground\u001b[39m\u001b[38;5;124m\"\u001b[39m, \u001b[38;5;124m\"\u001b[39m\u001b[38;5;124mCell\u001b[39m\u001b[38;5;124m\"\u001b[39m)\n\u001b[1;32m      2\u001b[0m params \u001b[38;5;241m=\u001b[39m {\u001b[38;5;124m\"\u001b[39m\u001b[38;5;124mverbose\u001b[39m\u001b[38;5;124m\"\u001b[39m: \u001b[38;5;28;01mTrue\u001b[39;00m}\n\u001b[0;32m----> 3\u001b[0m osc\u001b[38;5;241m.\u001b[39mrun(\u001b[38;5;241m*\u001b[39m\u001b[38;5;241m*\u001b[39mparams)\n",
      "\u001b[0;31mTypeError\u001b[0m: OscillatorDetector.run() got an unexpected keyword argument 'verbose'"
     ]
    }
   ],
   "source": [
    "osc = OscillatorDetector(path, \"Time (h)\", \"Background\", \"Cell\")\n",
    "params = {\"verbose\": True}\n",
    "osc.run(**params)"
   ]
  },
  {
   "cell_type": "code",
   "execution_count": null,
   "metadata": {},
   "outputs": [
    {
     "name": "stdout",
     "output_type": "stream",
     "text": [
      "[0.05       0.         0.         0.         0.01666667 0.\n",
      " 0.0125     0.         0.15       0.02222222 0.01428571 0.06363636]\n",
      "[ True  True  True  True  True  True  True  True False  True  True False]\n",
      "Number of cells counted as oscillatory (full method): 10/12\n"
     ]
    },
    {
     "data": {
      "text/plain": [
       "Text(0, 0.5, 'Frequency')"
      ]
     },
     "execution_count": 5,
     "metadata": {},
     "output_type": "execute_result"
    },
    {
     "data": {
      "image/png": "[encoded data removed]",
      "text/plain": [
       "<Figure size 640x480 with 1 Axes>"
      ]
     },
     "metadata": {},
     "output_type": "display_data"
    }
   ],
   "source": [
    "LLR_list = osc.LLRs\n",
    "LLR_list_synth = osc.synth_LLRs\n",
    "period_list = osc.periods\n",
    "\n",
    "import numpy as np\n",
    "import matplotlib.pyplot as plt\n",
    "\n",
    "LLR_array = np.array(LLR_list)\n",
    "LLR_synth_array = np.array(LLR_list_synth)\n",
    "\n",
    "# find indices where nan\n",
    "nan_inds = np.isnan(LLR_array)\n",
    "LLR_array = LLR_array[~nan_inds]\n",
    "LLR_synth_array = LLR_synth_array[~np.isnan(LLR_synth_array)]\n",
    "\n",
    "# LLRs can be tiny and just negative - this just sets them to zero\n",
    "LLR_array[LLR_array < 0] = 0\n",
    "LLR_synth_array[LLR_synth_array < 0] = 0\n",
    "\n",
    "LLR_combined = np.concatenate((LLR_array, LLR_synth_array), 0)\n",
    "\n",
    "upper = np.max(LLR_combined)\n",
    "lower1 = np.min(LLR_combined)\n",
    "lower = upper - 0.9 * (upper - lower1)\n",
    "grid = np.linspace(lower, upper, 20)\n",
    "\n",
    "piest = np.zeros_like(grid)\n",
    "\n",
    "for i, cutoff in enumerate(grid):\n",
    "    num = sum(LLR_array < cutoff) / len(LLR_array)\n",
    "    denom = sum(LLR_synth_array < cutoff) / len(LLR_synth_array)\n",
    "    piest[i] = num / denom\n",
    "\n",
    "xx = np.linspace(lower, upper, 100)\n",
    "from scipy.interpolate import CubicSpline\n",
    "\n",
    "cs = CubicSpline(grid, piest)\n",
    "yy = cs(xx)\n",
    "\n",
    "piGUESS1 = yy[0]\n",
    "\n",
    "I = np.argsort(LLR_array)\n",
    "\n",
    "LLR_array_sorted = LLR_array[I]\n",
    "\n",
    "q1 = np.zeros_like(LLR_array_sorted)\n",
    "\n",
    "for i, thresh in enumerate(LLR_array_sorted):\n",
    "    q1[i] = (\n",
    "        piGUESS1\n",
    "        * (sum(LLR_synth_array >= thresh) / len(LLR_synth_array))\n",
    "        / (sum(LLR_array_sorted >= thresh) / len(LLR_array_sorted))\n",
    "    )\n",
    "\n",
    "q_vals = q1[np.argsort(I)]\n",
    "osc_filt = q_vals < 0.05\n",
    "\n",
    "print(q_vals)\n",
    "print(osc_filt)\n",
    "\n",
    "print(\n",
    "    \"Number of cells counted as oscillatory (full method): {0}/{1}\".format(\n",
    "        sum(osc_filt), len(osc_filt)\n",
    "    )\n",
    ")\n",
    "\n",
    "period_array = np.array(period_list)[~nan_inds]\n",
    "plt.hist(period_array[osc_filt], bins=np.linspace(0, 10, 20))\n",
    "plt.title(\"Periods of passing cells\")\n",
    "plt.xlabel(\"Period (hours)\")\n",
    "plt.ylabel(\"Frequency\")"
   ]
  }
 ],
 "metadata": {
  "kernelspec": {
   "display_name": "gpcell",
   "language": "python",
   "name": "python3"
  },
  "language_info": {
   "codemirror_mode": {
    "name": "ipython",
    "version": 3
   },
   "file_extension": ".py",
   "mimetype": "text/x-python",
   "name": "python",
   "nbconvert_exporter": "python",
   "pygments_lexer": "ipython3",
   "version": "3.12.2"
  }
 },
 "nbformat": 4,
 "nbformat_minor": 2
}
