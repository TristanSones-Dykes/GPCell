{
 "cells": [
  {
   "cell_type": "markdown",
   "metadata": {},
   "source": [
    "### Imports and path"
   ]
  },
  {
   "cell_type": "code",
   "execution_count": 1,
   "metadata": {},
   "outputs": [
    {
     "data": {
      "text/plain": [
       "'/Users/tsd/Python/GPCell'"
      ]
     },
     "execution_count": 1,
     "metadata": {},
     "output_type": "execute_result"
    }
   ],
   "source": [
    "# lib\n",
    "import sys\n",
    "\n",
    "sys.path.append(\"..\")\n",
    "\n",
    "# set cwd one up\n",
    "import os\n",
    "\n",
    "os.chdir(\"..\")\n",
    "path = \"data/hes/Hes1_example.csv\"\n",
    "\n",
    "os.getcwd()"
   ]
  },
  {
   "cell_type": "code",
   "execution_count": null,
   "metadata": {},
   "outputs": [],
   "source": [
    "from gpcell import utils, plots\n",
    "import numpy as np"
   ]
  },
  {
   "cell_type": "markdown",
   "metadata": {},
   "source": [
    "### Setting up params"
   ]
  },
  {
   "cell_type": "code",
   "execution_count": null,
   "metadata": {},
   "outputs": [],
   "source": [
    "par1 = np.array([300, 1, 0.07, 0.07, 1, 1, 0], dtype=np.float64)\n",
    "par2 = np.array([100, 3, 0.03, 0.03, 1, 1, 18], dtype=np.float64)\n",
    "n_cells = 100  # total replicates used in the simulation\n",
    "t_final_vals = [1500, 600]  # 25/10 hours\n",
    "noise_vals = [np.sqrt(x) for x in [0.1, 0.5]]\n",
    "\n",
    "sim_params = [[noise, t_final_vals[0], n_cells] for noise in noise_vals]\n",
    "sim_params.append([noise_vals[0], t_final_vals[1], n_cells])\n",
    "\n",
    "path = \"data/results/\"\n",
    "paths = [\n",
    "    path + f\"noise_{round(noise**2, 2)}_time_{t_final}_rep_{n_cells}.csv\"\n",
    "    for noise, t_final, n_cells in sim_params\n",
    "]\n",
    "\n",
    "# X, Y = utils.get_time_series(par1, par2, t_final_vals[0], noise_vals[0], n_cells)\n",
    "# print(len(X), len(Y))\n",
    "# print(X[0].shape, Y[0].shape)"
   ]
  },
  {
   "cell_type": "code",
   "execution_count": null,
   "metadata": {},
   "outputs": [],
   "source": [
    "# from gpcell.backend import _simulate_replicate_mod9\n",
    "\n",
    "# Nvec = [20]\n",
    "# out_times = np.arange(5000, 5000 + t_final_vals[0] + 1, 30)\n",
    "\n",
    "# N = Nvec[0]\n",
    "# mstart = 1 * N\n",
    "# pstart = 30 * N\n",
    "\n",
    "# for i in range(10):\n",
    "#     _, _ = _simulate_replicate_mod9(N, par2, mstart, pstart, out_times)"
   ]
  },
  {
   "cell_type": "markdown",
   "metadata": {},
   "source": [
    "### Simulation"
   ]
  },
  {
   "cell_type": "code",
   "execution_count": null,
   "metadata": {},
   "outputs": [],
   "source": [
    "# test speed\n",
    "# %timeit XY = [utils.get_time_series(par1, par2, t_final, noise, n_cells) for noise, t_final, n_cells in sim_params]\n"
   ]
  },
  {
   "cell_type": "code",
   "execution_count": null,
   "metadata": {},
   "outputs": [],
   "source": [
    "# generate data\n",
    "XY = [\n",
    "    utils.get_time_series(par1, par2, t_final, noise, n_cells)\n",
    "    for noise, t_final, n_cells in sim_params\n",
    "]\n",
    "\n",
    "\n",
    "# save data\n",
    "for xy, path in zip(XY, paths):\n",
    "    utils.save_sim(xy[0], xy[1], path)\n"
   ]
  },
  {
   "cell_type": "markdown",
   "metadata": {},
   "source": [
    "### ROC and plotting"
   ]
  },
  {
   "cell_type": "code",
   "execution_count": null,
   "metadata": {},
   "outputs": [],
   "source": [
    "# calculate ROC\n",
    "fp1_vals, fp2_vals, tp1_vals, tp2_vals = [], [], [], []\n",
    "for path, (noise, t_final, n_cells) in zip(paths, sim_params):\n",
    "    fp1, tp1, fp2, tp2 = plots.compute_rocs_from_file(path, noise, n_cells)\n",
    "    fp1_vals.append(fp1)\n",
    "    tp1_vals.append(tp1)\n",
    "    fp2_vals.append(fp2)\n",
    "    tp2_vals.append(tp2)"
   ]
  },
  {
   "cell_type": "code",
   "execution_count": null,
   "metadata": {},
   "outputs": [],
   "source": [
    "import pandas as pd\n",
    "\n",
    "# plot ROC\n",
    "x_arr = []\n",
    "dataNormed_arr = []\n",
    "\n",
    "for path in paths:\n",
    "    df = pd.read_csv(path)\n",
    "\n",
    "    x = df[\"Time\"].values\n",
    "    dataNormed = df.drop(columns=[\"Time\"]).values\n",
    "\n",
    "    x_arr.append(x)\n",
    "    dataNormed_arr.append(dataNormed)\n",
    "\n",
    "plots.plot_rocs_and_timeseries(\n",
    "    x_arr[0],\n",
    "    dataNormed_arr[0],\n",
    "    fp1_vals[0],\n",
    "    tp1_vals[0],\n",
    "    fp2_vals[0],\n",
    "    tp2_vals[0],\n",
    "    x_arr[1],\n",
    "    dataNormed_arr[1],\n",
    "    fp1_vals[1],\n",
    "    tp1_vals[1],\n",
    "    fp2_vals[1],\n",
    "    tp2_vals[1],\n",
    "    x_arr[2],\n",
    "    dataNormed_arr[2],\n",
    "    fp1_vals[2],\n",
    "    tp1_vals[2],\n",
    "    fp2_vals[2],\n",
    "    tp2_vals[2],\n",
    "    n_cells,\n",
    ")"
   ]
  }
 ],
 "metadata": {
  "kernelspec": {
   "display_name": "gpcell",
   "language": "python",
   "name": "python3"
  },
  "language_info": {
   "codemirror_mode": {
    "name": "ipython",
    "version": 3
   },
   "file_extension": ".py",
   "mimetype": "text/x-python",
   "name": "python",
   "nbconvert_exporter": "python",
   "pygments_lexer": "ipython3",
   "version": "3.12.2"
  }
 },
 "nbformat": 4,
 "nbformat_minor": 2
}
