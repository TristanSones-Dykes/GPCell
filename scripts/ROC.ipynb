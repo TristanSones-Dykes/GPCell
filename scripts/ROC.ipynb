{
 "cells": [
  {
   "cell_type": "code",
   "execution_count": 1,
   "metadata": {},
   "outputs": [
    {
     "data": {
      "text/plain": [
       "'/Users/tsd/Python/GPCell'"
      ]
     },
     "execution_count": 1,
     "metadata": {},
     "output_type": "execute_result"
    }
   ],
   "source": [
    "# lib\n",
    "import sys\n",
    "\n",
    "sys.path.append(\"..\")\n",
    "\n",
    "# set cwd one up\n",
    "import os\n",
    "\n",
    "os.chdir(\"..\")\n",
    "path = \"data/hes/Hes1_example.csv\"\n",
    "\n",
    "os.getcwd()"
   ]
  },
  {
   "cell_type": "code",
   "execution_count": 2,
   "metadata": {},
   "outputs": [],
   "source": [
    "from gpcell import utils\n",
    "\n",
    "import numpy as np"
   ]
  },
  {
   "cell_type": "code",
   "execution_count": null,
   "metadata": {},
   "outputs": [],
   "source": [
    "par1 = np.array([300, 1, 0.07, 0.07, 1, 1, 0])\n",
    "par2 = np.array([100, 3, 0.03, 0.03, 1, 1, 18])\n",
    "CellNum = 5  # total replicates used in the simulation\n",
    "Tfinal = [1500, 600]  # 25/10 hours\n",
    "noise_vals = [np.sqrt(x) for x in [0.1, 0.5]]\n",
    "\n",
    "path = \"data/results/\"\n",
    "# generate data\n",
    "for noise in noise_vals:\n",
    "    X, Y = utils.get_time_series(par1, par2, Tfinal[0], noise, CellNum)\n",
    "\n",
    "    # save data\n",
    "    utils.save_sim(\n",
    "        X, Y, path + f\"noise_{round(noise**2, 2)}_time_{Tfinal[0]}_rep_{CellNum}.csv\"\n",
    "    )\n",
    "\n",
    "X, Y = utils.get_time_series(par1, par2, Tfinal[1], noise_vals[1], CellNum)\n",
    "utils.save_sim(\n",
    "    X,\n",
    "    Y,\n",
    "    path + f\"noise_{round(noise_vals[1] ** 2, 2)}_time_{Tfinal[1]}_rep_{CellNum}.csv\",\n",
    ")"
   ]
  },
  {
   "cell_type": "code",
   "execution_count": null,
   "metadata": {},
   "outputs": [],
   "source": []
  }
 ],
 "metadata": {
  "kernelspec": {
   "display_name": "gpcell",
   "language": "python",
   "name": "python3"
  },
  "language_info": {
   "codemirror_mode": {
    "name": "ipython",
    "version": 3
   },
   "file_extension": ".py",
   "mimetype": "text/x-python",
   "name": "python",
   "nbconvert_exporter": "python",
   "pygments_lexer": "ipython3",
   "version": "3.12.2"
  }
 },
 "nbformat": 4,
 "nbformat_minor": 2
}
