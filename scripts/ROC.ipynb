{
 "cells": [
  {
   "cell_type": "markdown",
   "metadata": {},
   "source": [
    "### Imports and path"
   ]
  },
  {
   "cell_type": "code",
   "execution_count": 1,
   "metadata": {},
   "outputs": [],
   "source": [
    "# lib\n",
    "import sys\n",
    "\n",
    "sys.path.append(\"..\")\n",
    "\n",
    "# set cwd one up\n",
    "import os\n",
    "\n",
    "os.chdir(\"..\")\n",
    "path = \"data/hes/Hes1_example.csv\"\n",
    "\n",
    "os.getcwd()\n",
    "os.environ[\"TF_CPP_MIN_LOG_LEVEL\"] = \"3\""
   ]
  },
  {
   "cell_type": "code",
   "execution_count": 2,
   "metadata": {},
   "outputs": [],
   "source": [
    "from gpcell import utils, plots\n",
    "import numpy as np"
   ]
  },
  {
   "cell_type": "markdown",
   "metadata": {},
   "source": [
    "### Setting up params"
   ]
  },
  {
   "cell_type": "code",
   "execution_count": 3,
   "metadata": {},
   "outputs": [],
   "source": [
    "par1 = np.array([300, 1, 0.07, 0.07, 1, 1, 0], dtype=np.float64)\n",
    "par2 = np.array([100, 3, 0.03, 0.03, 1, 1, 18], dtype=np.float64)\n",
    "n_cells = 200  # total replicates used in the simulation\n",
    "t_final_vals = [1500, 600]  # 25/10 hours\n",
    "noise_vals = [np.sqrt(x) for x in [0.1, 0.5]]\n",
    "\n",
    "sim_params = [[noise, t_final_vals[0], n_cells] for noise in noise_vals]\n",
    "sim_params.append([noise_vals[0], t_final_vals[1], n_cells])\n",
    "\n",
    "path = \"data/matlab/\"\n",
    "paths = [\n",
    "    path + f\"noise_{round(noise**2, 2)}_time_{t_final}_rep_{n_cells}.csv\"\n",
    "    for noise, t_final, n_cells in sim_params\n",
    "]\n"
   ]
  },
  {
   "cell_type": "markdown",
   "metadata": {},
   "source": [
    "### Simulation"
   ]
  },
  {
   "cell_type": "code",
   "execution_count": null,
   "metadata": {},
   "outputs": [],
   "source": [
    "# --- generate data for plot --- #\n",
    "# XY = [\n",
    "#     utils.get_time_series(par1, par2, t_final, noise, n_cells, path=path, mode=\"x\")\n",
    "#     for path, (noise, t_final, n_cells) in zip(paths, sim_params)\n",
    "# ]\n",
    "\n",
    "for path, (noise, t_final, n_cells) in zip(paths, sim_params):\n",
    "    utils.get_time_series(par1, par2, t_final, noise, n_cells, path=path, mode=\"r\")\n",
    "\n",
    "# # save data\n",
    "# for xy, path in zip(XY, paths):\n",
    "#     utils.save_sim(xy[0], xy[1], path)\n"
   ]
  },
  {
   "cell_type": "code",
   "execution_count": null,
   "metadata": {},
   "outputs": [],
   "source": [
    "# from gpcell.backend import _simulate_replicate_mod9\n",
    "\n",
    "# --------------------------------#\n",
    "# --- test simulate functions --- #\n",
    "# --------------------------------#\n",
    "\n",
    "# --- test speed --- #\n",
    "# %timeit XY = [utils.get_time_series(par1, par2, t_final, noise, n_cells) for noise, t_final, n_cells in sim_params]\n",
    "\n",
    "# --- test load data --- #\n",
    "# import pandas as pd\n",
    "# df = pd.read_csv(paths[0])\n",
    "# print(df.drop(columns=\"Time\").shape[1])\n",
    "\n",
    "# --- test simulate --- #\n",
    "# X, Y = utils.get_time_series(par1, par2, t_final_vals[0], noise_vals[0], n_cells)\n",
    "# print(len(X), len(Y))\n",
    "# print(X[0].shape, Y[0].shape)"
   ]
  },
  {
   "cell_type": "markdown",
   "metadata": {},
   "source": [
    "### ROC Dev"
   ]
  },
  {
   "cell_type": "code",
   "execution_count": 4,
   "metadata": {},
   "outputs": [
    {
     "name": "stdout",
     "output_type": "stream",
     "text": [
      "Simulation data found at data/matlab/noise_0.1_time_1500_rep_200.csv, mode: r\n"
     ]
    }
   ],
   "source": [
    "import numpy as np\n",
    "import matplotlib.pyplot as plt\n",
    "from astropy.timeseries import LombScargle\n",
    "from gpcell import OscillatorDetector\n",
    "\n",
    "# --- Function parameters --- #\n",
    "filename = paths[0]\n",
    "noise, t_final, n_cells = sim_params[0]\n",
    "joblib = True\n",
    "\n",
    "\n",
    "# ----------------------------#\n",
    "# --- Function definition --- #\n",
    "# ----------------------------#\n",
    "\n",
    "# --- Read the generated data  --- #\n",
    "# The CSV file is assumed to have a \"Time\" column (in hours) and then 2*n_cells columns for the simulated data.\n",
    "x, y_list = utils.get_time_series(\n",
    "    par1, par2, t_final, noise, n_cells, path=filename, mode=\"r\"\n",
    ")\n",
    "total_columns = len(y_list)\n",
    "\n",
    "if total_columns != 2 * n_cells:\n",
    "    raise ValueError(\n",
    "        f\"Expected 2*n_cells = {2 * n_cells} columns, but CSV has {total_columns} columns.\"\n",
    "    )\n"
   ]
  },
  {
   "cell_type": "code",
   "execution_count": 5,
   "metadata": {},
   "outputs": [
    {
     "name": "stdout",
     "output_type": "stream",
     "text": [
      "\n",
      "Starting Oscillator Detector...\n",
      "\n",
      "Overriding default value for verbose\n",
      "Overriding default value for plots\n",
      "Overriding default value for set_noise\n",
      "Overriding default value for joblib\n",
      "Overriding default value for ou_prior_gen\n",
      "Overriding default value for ouosc_prior_gen\n",
      "\n",
      "Loaded data with 400 cells, noise set to 0.31622776601683794\n",
      "Plots: on\n",
      "\n",
      "Fitting BIC...\n",
      "\n",
      "Homogenous traces: 400 cells, pre_dispatch: n_jobs, batch_size: auto\n"
     ]
    },
    {
     "name": "stderr",
     "output_type": "stream",
     "text": [
      "[Parallel(n_jobs=14)]: Using backend LokyBackend with 14 concurrent workers.\n",
      "[Parallel(n_jobs=14)]: Done  36 tasks      | elapsed:   12.8s\n",
      "[Parallel(n_jobs=14)]: Done 186 tasks      | elapsed:   31.7s\n",
      "[Parallel(n_jobs=14)]: Done 400 out of 400 | elapsed:  1.0min finished\n"
     ]
    },
    {
     "name": "stdout",
     "output_type": "stream",
     "text": [
      "\n",
      "Homogenous traces: 400 cells, pre_dispatch: n_jobs, batch_size: auto\n"
     ]
    },
    {
     "name": "stderr",
     "output_type": "stream",
     "text": [
      "[Parallel(n_jobs=14)]: Using backend LokyBackend with 14 concurrent workers.\n",
      "[Parallel(n_jobs=14)]: Done  36 tasks      | elapsed:   17.4s\n",
      "[Parallel(n_jobs=14)]: Done 186 tasks      | elapsed:   45.2s\n",
      "[Parallel(n_jobs=14)]: Done 400 out of 400 | elapsed:  1.6min finished\n"
     ]
    },
    {
     "name": "stdout",
     "output_type": "stream",
     "text": [
      "\n",
      "Number of cells counted as oscillatory (BIC method): 190/400\n",
      "(200,) (200,)\n"
     ]
    },
    {
     "data": {
      "image/png": "[encoded data removed]",
      "text/plain": [
       "<Figure size 472.441x236.22 with 1 Axes>"
      ]
     },
     "execution_count": 5,
     "metadata": {},
     "output_type": "execute_result"
    }
   ],
   "source": [
    "from gpcell.backend.priors import sim_ou_prior, sim_ouosc_prior\n",
    "\n",
    "# --- Fit detector--- #\n",
    "params = {\n",
    "    \"verbose\": True,\n",
    "    \"joblib\": joblib,\n",
    "    \"plots\": [\"BIC\"],\n",
    "    \"set_noise\": noise,\n",
    "    \"detrend\": False,\n",
    "    \"ou_prior_gen\": sim_ou_prior,\n",
    "    \"ouosc_prior_gen\": sim_ouosc_prior,\n",
    "}\n",
    "od = OscillatorDetector.from_file(filename, \"Time\", \"Cell\", \"Cell\", params=params)\n",
    "od.fit(\"BIC\")\n",
    "BICdiffM = od.BIC_diffs  # list or array with length equal to total_columns\n",
    "BICdiffTOT = np.array(BICdiffM)\n",
    "\n",
    "\n",
    "# --- ROC analysis using BIC differences --- #\n",
    "# Split BIC differences into two groups: A (first n_cells) and B (next n_cells)\n",
    "A = BICdiffTOT[:n_cells]\n",
    "B = BICdiffTOT[n_cells : 2 * n_cells]\n",
    "print(A.shape, B.shape)\n",
    "\n",
    "# Define a threshold vector spanning a little below the min to a little above the max.\n",
    "thresholds = np.linspace(BICdiffTOT.min() - 1, BICdiffTOT.max() + 1, 200)\n",
    "FP1 = np.zeros_like(thresholds)\n",
    "TP1 = np.zeros_like(thresholds)\n",
    "for i, th in enumerate(thresholds):\n",
    "    FP1[i] = np.sum(A > th)\n",
    "    TP1[i] = np.sum(B > th)\n",
    "\n",
    "# --- Plot BIC curve --- #\n",
    "od.bic_plot"
   ]
  },
  {
   "cell_type": "code",
   "execution_count": 7,
   "metadata": {},
   "outputs": [],
   "source": [
    "thrvec = np.exp(np.linspace(-15, 0, 200))\n",
    "n_thr = len(thrvec)\n",
    "n_series = len(y_list)\n",
    "\n",
    "# Preallocate a matrix to store detection results:\n",
    "# rows: time series; columns: thresholds\n",
    "beatmat = np.empty((n_series, n_thr), dtype=int)\n",
    "\n",
    "# Loop once over all time series to compute their periodograms\n",
    "for i, y in enumerate(y_list):\n",
    "    ls = LombScargle(x, y)\n",
    "    frequency, power = ls.autopower(normalization=\"standard\")\n",
    "    # For each threshold, compute false alarm level and determine detection\n",
    "    for j, thr in enumerate(thrvec):\n",
    "        pth = ls.false_alarm_level(thr)\n",
    "        beatmat[i, j] = int(np.any(power > pth))\n",
    "\n",
    "# Compute False Positives (FP) and True Positives (TP) vectorized over thresholds.\n",
    "# Note: following the original code's convention:\n",
    "#   - First half of y_list are considered oscillatory signals.\n",
    "#   - Second half are non-oscillatory.\n",
    "FP2 = (\n",
    "    np.sum(beatmat[:n_cells, :], axis=0) / n_cells\n",
    ")  # fraction detected among first half\n",
    "TP2 = (\n",
    "    np.sum(beatmat[n_cells:, :], axis=0) / n_cells\n",
    ")  # fraction detected among second half\n"
   ]
  },
  {
   "cell_type": "code",
   "execution_count": null,
   "metadata": {},
   "outputs": [],
   "source": [
    "from sklearn.metrics import roc_curve, auc\n",
    "\n",
    "# --- ROC using scikit-learn --- #\n",
    "\n",
    "# Prepare lists for storing classification scores and true labels.\n",
    "# Here we use the maximum Lomb–Scargle periodogram power as the score.\n",
    "scores = []\n",
    "true_labels = []\n",
    "\n",
    "# Process each time series from the CSV file.\n",
    "# Assumption: The first n_cells columns are oscillatory (label = 1)\n",
    "# and the next n_cells columns are non-oscillatory (label = 0).\n",
    "for i, y in enumerate(y_list):\n",
    "    ls = LombScargle(x, y)\n",
    "    # Compute the periodogram automatically over a suitable frequency grid.\n",
    "    frequency, power = ls.autopower()\n",
    "    max_power = np.max(power)\n",
    "    scores.append(max_power)\n",
    "\n",
    "    if i < n_cells:\n",
    "        true_labels.append(0)  # Oscillatory signal\n",
    "    else:\n",
    "        true_labels.append(1)  # Non-oscillatory signal\n",
    "\n",
    "# Compute the ROC curve and AUC using the max power scores.\n",
    "FP2, TP2, thresholds = roc_curve(true_labels, scores)\n",
    "roc_auc = auc(FP2, TP2)\n",
    "\n",
    "# Plot the ROC curve.\n",
    "plt.figure(figsize=(6, 4))\n",
    "plt.plot(FP2, TP2, lw=2, label=f\"ROC curve (AUC = {roc_auc:.2f})\")\n",
    "plt.plot([0, 1], [0, 1], lw=1, linestyle=\"--\", color=\"gray\")\n",
    "plt.xlim([0.0, 1.0])\n",
    "plt.ylim([0.0, 1.05])\n",
    "plt.xlabel(\"False Positive Rate\")\n",
    "plt.ylabel(\"True Positive Rate\")\n",
    "plt.title(\"ROC Curve: Oscillatory vs. Non-Oscillatory Time Series\")\n",
    "plt.legend(loc=\"lower right\")\n",
    "plt.show()"
   ]
  },
  {
   "cell_type": "code",
   "execution_count": 9,
   "metadata": {},
   "outputs": [
    {
     "data": {
      "image/png": "[encoded data removed]",
      "text/plain": [
       "<Figure size 900x600 with 1 Axes>"
      ]
     },
     "metadata": {},
     "output_type": "display_data"
    }
   ],
   "source": [
    "import matplotlib.pyplot as plt\n",
    "\n",
    "plt.figure(figsize=(6, 4), dpi=150)  # Increase DPI for higher definition\n",
    "\n",
    "# Plot lines with thinner width and possibly a z-order to be on top of grid\n",
    "plt.plot(FP1 / n_cells, TP1 / n_cells, label=\"GP\", lw=1, color=\"red\", zorder=2)\n",
    "plt.plot(FP2, TP2, label=\"L-S\", lw=1, color=\"blue\", zorder=2)\n",
    "\n",
    "# Plot the diagonal reference line\n",
    "plt.plot([0, 1], [0, 1], lw=1, linestyle=\"--\", color=\"gray\", zorder=1)\n",
    "\n",
    "# Axis limits\n",
    "plt.xlim([-0.02, 1.0])\n",
    "plt.ylim([0.0, 1.05])\n",
    "\n",
    "# Axis labels, title, legend\n",
    "plt.xlabel(\"1 - Specificity (false positive rate)\")\n",
    "plt.ylabel(\"Sensitivity (true positive rate)\")\n",
    "plt.title(\"ROC Curve\")\n",
    "plt.legend(loc=\"lower right\")\n",
    "\n",
    "# If you have a grid, you can draw it behind the lines:\n",
    "# plt.grid(True, zorder=0)\n",
    "\n",
    "plt.tight_layout()  # Better spacing\n",
    "plt.show()\n"
   ]
  },
  {
   "cell_type": "markdown",
   "metadata": {},
   "source": [
    "### ROC and plotting"
   ]
  },
  {
   "cell_type": "code",
   "execution_count": null,
   "metadata": {},
   "outputs": [],
   "source": [
    "# calculate ROC\n",
    "fp1_vals, fp2_vals, tp1_vals, tp2_vals = [], [], [], []\n",
    "for path, (noise, t_final, n_cells) in zip(paths, sim_params):\n",
    "    fp1, tp1, fp2, tp2 = plots.compute_rocs_from_file(path, noise, n_cells, joblib=True)\n",
    "    fp1_vals.append(fp1)\n",
    "    tp1_vals.append(tp1)\n",
    "    fp2_vals.append(fp2)\n",
    "    tp2_vals.append(tp2)"
   ]
  },
  {
   "cell_type": "code",
   "execution_count": null,
   "metadata": {},
   "outputs": [],
   "source": [
    "import pandas as pd\n",
    "\n",
    "# plot ROC\n",
    "x_arr = []\n",
    "dataNormed_arr = []\n",
    "\n",
    "for path in paths:\n",
    "    df = pd.read_csv(path)\n",
    "\n",
    "    x = df[\"Time\"].values\n",
    "    dataNormed = df.drop(columns=[\"Time\"]).values\n",
    "\n",
    "    x_arr.append(x)\n",
    "    dataNormed_arr.append(dataNormed)\n",
    "\n",
    "plots.plot_rocs_and_timeseries(\n",
    "    x_arr[0],\n",
    "    dataNormed_arr[0],\n",
    "    fp1_vals[0],\n",
    "    tp1_vals[0],\n",
    "    fp2_vals[0],\n",
    "    tp2_vals[0],\n",
    "    x_arr[1],\n",
    "    dataNormed_arr[1],\n",
    "    fp1_vals[1],\n",
    "    tp1_vals[1],\n",
    "    fp2_vals[1],\n",
    "    tp2_vals[1],\n",
    "    x_arr[2],\n",
    "    dataNormed_arr[2],\n",
    "    fp1_vals[2],\n",
    "    tp1_vals[2],\n",
    "    fp2_vals[2],\n",
    "    tp2_vals[2],\n",
    "    n_cells,\n",
    ")"
   ]
  },
  {
   "cell_type": "code",
   "execution_count": null,
   "metadata": {},
   "outputs": [],
   "source": []
  }
 ],
 "metadata": {
  "kernelspec": {
   "display_name": "gpcell",
   "language": "python",
   "name": "python3"
  },
  "language_info": {
   "codemirror_mode": {
    "name": "ipython",
    "version": 3
   },
   "file_extension": ".py",
   "mimetype": "text/x-python",
   "name": "python",
   "nbconvert_exporter": "python",
   "pygments_lexer": "ipython3",
   "version": "3.12.9"
  }
 },
 "nbformat": 4,
 "nbformat_minor": 2
}
