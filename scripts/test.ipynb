{
 "cells": [
  {
   "cell_type": "code",
   "execution_count": 1,
   "metadata": {},
   "outputs": [],
   "source": [
    "import sys\n",
    "\n",
    "sys.path.append(\"..\")\n",
    "\n",
    "\n",
    "from pyrocell.gp.gpflow.test import TestOsc"
   ]
  },
  {
   "cell_type": "code",
   "execution_count": 2,
   "metadata": {},
   "outputs": [
    {
     "name": "stdout",
     "output_type": "stream",
     "text": [
      "7.239964458255131\n",
      "7.239964458255131\n",
      "7.239964458255131 \n",
      "\n",
      "[0.15274010714849082, 0.07359372242680665, 0.18020134277998504, 0.11851096976593475, 0.14537393010510466, 0.08990566229689037, 0.15720085161469757, 0.16190384328872245, 0.1635791353762151, 0.2543122300180026, 0.07180163366393756, 0.0737833346541194] \n",
      "\n",
      "(<Parameter: name=softplus, dtype=float64, shape=[], fn=\"softplus\", numpy=7.000000963282808>, <Parameter: name=softplus, dtype=float64, shape=[], fn=\"softplus\", numpy=5.75000545363985>)\n",
      "(<Parameter: name=softplus, dtype=float64, shape=[], fn=\"softplus\", numpy=7.000000963282808>, <Parameter: name=softplus, dtype=float64, shape=[], fn=\"softplus\", numpy=5.75000545363985>)\n",
      "(<Parameter: name=softplus, dtype=float64, shape=[], fn=\"softplus\", numpy=7.000000963282808>, <Parameter: name=softplus, dtype=float64, shape=[], fn=\"softplus\", numpy=5.75000545363985>) \n",
      "\n",
      "(<Parameter: name=softplus, dtype=float64, shape=[], fn=\"softplus\", numpy=7.000000096322998>, <Parameter: name=softplus, dtype=float64, shape=[], fn=\"softplus\", numpy=6.626502316771518>)\n",
      "(<Parameter: name=softplus, dtype=float64, shape=[], fn=\"softplus\", numpy=7.000000096322998>, <Parameter: name=softplus, dtype=float64, shape=[], fn=\"softplus\", numpy=6.626502316771518>)\n",
      "(<Parameter: name=softplus, dtype=float64, shape=[], fn=\"softplus\", numpy=7.000000096322998>, <Parameter: name=softplus, dtype=float64, shape=[], fn=\"softplus\", numpy=6.626502316771518>) \n",
      "\n",
      "(<Parameter: name=softplus, dtype=float64, shape=[], fn=\"softplus\", numpy=14.084094445708514>, <Parameter: name=softplus, dtype=float64, shape=[], fn=\"softplus\", numpy=1.2269644429367905>)\n",
      "(<Parameter: name=softplus, dtype=float64, shape=[], fn=\"softplus\", numpy=14.084094445708514>, <Parameter: name=softplus, dtype=float64, shape=[], fn=\"softplus\", numpy=1.2269644429367905>)\n",
      "(<Parameter: name=softplus, dtype=float64, shape=[], fn=\"softplus\", numpy=14.084094445708514>, <Parameter: name=softplus, dtype=float64, shape=[], fn=\"softplus\", numpy=1.2269644429367905>) \n",
      "\n",
      "(<Parameter: name=softplus, dtype=float64, shape=[], fn=\"softplus\", numpy=7.000000407880651>, <Parameter: name=softplus, dtype=float64, shape=[], fn=\"softplus\", numpy=14.33952052390239>)\n",
      "(<Parameter: name=softplus, dtype=float64, shape=[], fn=\"softplus\", numpy=7.000000407880651>, <Parameter: name=softplus, dtype=float64, shape=[], fn=\"softplus\", numpy=14.33952052390239>)\n",
      "(<Parameter: name=softplus, dtype=float64, shape=[], fn=\"softplus\", numpy=7.000000407880651>, <Parameter: name=softplus, dtype=float64, shape=[], fn=\"softplus\", numpy=14.33952052390239>) \n",
      "\n",
      "(<Parameter: name=softplus, dtype=float64, shape=[], fn=\"softplus\", numpy=9.060982184795042>, <Parameter: name=softplus, dtype=float64, shape=[], fn=\"softplus\", numpy=0.9526873965198104>)\n",
      "(<Parameter: name=softplus, dtype=float64, shape=[], fn=\"softplus\", numpy=9.060982184795042>, <Parameter: name=softplus, dtype=float64, shape=[], fn=\"softplus\", numpy=0.9526873965198104>)\n",
      "(<Parameter: name=softplus, dtype=float64, shape=[], fn=\"softplus\", numpy=9.060982184795042>, <Parameter: name=softplus, dtype=float64, shape=[], fn=\"softplus\", numpy=0.9526873965198104>) \n",
      "\n",
      "(<Parameter: name=softplus, dtype=float64, shape=[], fn=\"softplus\", numpy=8.753003693988202>, <Parameter: name=softplus, dtype=float64, shape=[], fn=\"softplus\", numpy=1.9641049003017148>)\n",
      "(<Parameter: name=softplus, dtype=float64, shape=[], fn=\"softplus\", numpy=8.753003693988202>, <Parameter: name=softplus, dtype=float64, shape=[], fn=\"softplus\", numpy=1.9641049003017148>)\n",
      "(<Parameter: name=softplus, dtype=float64, shape=[], fn=\"softplus\", numpy=8.753003693988202>, <Parameter: name=softplus, dtype=float64, shape=[], fn=\"softplus\", numpy=1.9641049003017148>) \n",
      "\n",
      "(<Parameter: name=softplus, dtype=float64, shape=[], fn=\"softplus\", numpy=7.000000572232401>, <Parameter: name=softplus, dtype=float64, shape=[], fn=\"softplus\", numpy=5.054333595103386>)\n",
      "(<Parameter: name=softplus, dtype=float64, shape=[], fn=\"softplus\", numpy=7.000000572232401>, <Parameter: name=softplus, dtype=float64, shape=[], fn=\"softplus\", numpy=5.054333595103386>)\n",
      "(<Parameter: name=softplus, dtype=float64, shape=[], fn=\"softplus\", numpy=7.000000572232401>, <Parameter: name=softplus, dtype=float64, shape=[], fn=\"softplus\", numpy=5.054333595103386>) \n",
      "\n",
      "(<Parameter: name=softplus, dtype=float64, shape=[], fn=\"softplus\", numpy=7.000048549742095>, <Parameter: name=softplus, dtype=float64, shape=[], fn=\"softplus\", numpy=0.5463875032665615>)\n",
      "(<Parameter: name=softplus, dtype=float64, shape=[], fn=\"softplus\", numpy=7.000048549742095>, <Parameter: name=softplus, dtype=float64, shape=[], fn=\"softplus\", numpy=0.5463875032665615>)\n",
      "(<Parameter: name=softplus, dtype=float64, shape=[], fn=\"softplus\", numpy=7.000048549742095>, <Parameter: name=softplus, dtype=float64, shape=[], fn=\"softplus\", numpy=0.5463875032665615>) \n",
      "\n",
      "(<Parameter: name=softplus, dtype=float64, shape=[], fn=\"softplus\", numpy=7.000056253598161>, <Parameter: name=softplus, dtype=float64, shape=[], fn=\"softplus\", numpy=0.8980731548066379>)\n",
      "(<Parameter: name=softplus, dtype=float64, shape=[], fn=\"softplus\", numpy=7.000056253598161>, <Parameter: name=softplus, dtype=float64, shape=[], fn=\"softplus\", numpy=0.8980731548066379>)\n",
      "(<Parameter: name=softplus, dtype=float64, shape=[], fn=\"softplus\", numpy=7.000056253598161>, <Parameter: name=softplus, dtype=float64, shape=[], fn=\"softplus\", numpy=0.8980731548066379>) \n",
      "\n",
      "(<Parameter: name=softplus, dtype=float64, shape=[], fn=\"softplus\", numpy=7.000011721982505>, <Parameter: name=softplus, dtype=float64, shape=[], fn=\"softplus\", numpy=0.6404681356561759>)\n",
      "(<Parameter: name=softplus, dtype=float64, shape=[], fn=\"softplus\", numpy=7.000011721982505>, <Parameter: name=softplus, dtype=float64, shape=[], fn=\"softplus\", numpy=0.6404681356561759>)\n",
      "(<Parameter: name=softplus, dtype=float64, shape=[], fn=\"softplus\", numpy=7.000011721982505>, <Parameter: name=softplus, dtype=float64, shape=[], fn=\"softplus\", numpy=0.6404681356561759>) \n",
      "\n",
      "(<Parameter: name=softplus, dtype=float64, shape=[], fn=\"softplus\", numpy=7.0000000414773345>, <Parameter: name=softplus, dtype=float64, shape=[], fn=\"softplus\", numpy=21.86292658737506>)\n",
      "(<Parameter: name=softplus, dtype=float64, shape=[], fn=\"softplus\", numpy=7.0000000414773345>, <Parameter: name=softplus, dtype=float64, shape=[], fn=\"softplus\", numpy=21.86292658737506>)\n",
      "(<Parameter: name=softplus, dtype=float64, shape=[], fn=\"softplus\", numpy=7.0000000414773345>, <Parameter: name=softplus, dtype=float64, shape=[], fn=\"softplus\", numpy=21.86292658737506>) \n",
      "\n",
      "(<Parameter: name=softplus, dtype=float64, shape=[], fn=\"softplus\", numpy=7.000008006994426>, <Parameter: name=softplus, dtype=float64, shape=[], fn=\"softplus\", numpy=14.20807354568928>)\n",
      "(<Parameter: name=softplus, dtype=float64, shape=[], fn=\"softplus\", numpy=7.000008006994426>, <Parameter: name=softplus, dtype=float64, shape=[], fn=\"softplus\", numpy=14.20807354568928>)\n",
      "(<Parameter: name=softplus, dtype=float64, shape=[], fn=\"softplus\", numpy=7.000008006994426>, <Parameter: name=softplus, dtype=float64, shape=[], fn=\"softplus\", numpy=14.20807354568928>) \n",
      "\n"
     ]
    },
    {
     "name": "stderr",
     "output_type": "stream",
     "text": [
      "2024-11-24 22:12:35.763926: W tensorflow/core/kernels/linalg/cholesky_op.cc:56] Cholesky decomposition was not successful. Eigen::LLT failed with error code 1. Filling lower-triangular output with NaNs.\n",
      "2024-11-24 22:12:35.768849: W tensorflow/core/kernels/linalg/cholesky_op.cc:56] Cholesky decomposition was not successful. Eigen::LLT failed with error code 1. Filling lower-triangular output with NaNs.\n",
      "2024-11-24 22:12:35.787676: W tensorflow/core/kernels/linalg/cholesky_op.cc:56] Cholesky decomposition was not successful. Eigen::LLT failed with error code 1. Filling lower-triangular output with NaNs.\n",
      "2024-11-24 22:12:35.788445: W tensorflow/core/kernels/linalg/cholesky_op.cc:56] Cholesky decomposition was not successful. Eigen::LLT failed with error code 1. Filling lower-triangular output with NaNs.\n"
     ]
    },
    {
     "name": "stdout",
     "output_type": "stream",
     "text": [
      "Number of cells counted as oscillatory (BIC method): 10/12\n"
     ]
    },
    {
     "data": {
      "text/plain": [
       "<pyrocell.gp.gpflow.test.TestOsc at 0x283386360>"
      ]
     },
     "execution_count": 2,
     "metadata": {},
     "output_type": "execute_result"
    },
    {
     "data": {
      "image/png": "[encoded data removed]",
      "text/plain": [
       "<Figure size 472.441x236.22 with 1 Axes>"
      ]
     },
     "metadata": {},
     "output_type": "display_data"
    }
   ],
   "source": [
    "print(7.239964458255131)\n",
    "TestOsc()"
   ]
  },
  {
   "cell_type": "code",
   "execution_count": null,
   "metadata": {},
   "outputs": [],
   "source": []
  }
 ],
 "metadata": {
  "kernelspec": {
   "display_name": "Pyrocell",
   "language": "python",
   "name": "python3"
  },
  "language_info": {
   "codemirror_mode": {
    "name": "ipython",
    "version": 3
   },
   "file_extension": ".py",
   "mimetype": "text/x-python",
   "name": "python",
   "nbconvert_exporter": "python",
   "pygments_lexer": "ipython3",
   "version": "3.12.7"
  }
 },
 "nbformat": 4,
 "nbformat_minor": 2
}
